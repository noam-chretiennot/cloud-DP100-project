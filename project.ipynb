{
  "cells": [
    {
      "cell_type": "markdown",
      "metadata": {},
      "source": [
        "# Setup workspace"
      ]
    },
    {
      "cell_type": "code",
      "execution_count": null,
      "metadata": {
        "gather": {
          "logged": 1737339080563
        }
      },
      "outputs": [],
      "source": [
        "pip install -r requirements.txt"
      ]
    },
    {
      "cell_type": "code",
      "execution_count": 1,
      "metadata": {
        "gather": {
          "logged": 1737339082846
        }
      },
      "outputs": [],
      "source": [
        "from azure.identity import DefaultAzureCredential, InteractiveBrowserCredential\n",
        "from azure.ai.ml import MLClient\n",
        "\n",
        "try:\n",
        "    credential = DefaultAzureCredential()\n",
        "    # Check if given credential can get token successfully.\n",
        "    credential.get_token(\"https://management.azure.com/.default\")\n",
        "except Exception as ex:\n",
        "    # Fall back to InteractiveBrowserCredential in case DefaultAzureCredential not work\n",
        "    credential = InteractiveBrowserCredential()"
      ]
    },
    {
      "cell_type": "code",
      "execution_count": 2,
      "metadata": {
        "gather": {
          "logged": 1737339083599
        }
      },
      "outputs": [
        {
          "name": "stderr",
          "output_type": "stream",
          "text": [
            "Found the config file in: /config.json\n"
          ]
        }
      ],
      "source": [
        "# Get a handle to workspace\n",
        "ml_client = MLClient.from_config(credential=credential)"
      ]
    },
    {
      "cell_type": "markdown",
      "metadata": {},
      "source": [
        "# Import data"
      ]
    },
    {
      "cell_type": "code",
      "execution_count": 3,
      "metadata": {
        "gather": {
          "logged": 1737339084673
        }
      },
      "outputs": [
        {
          "name": "stdout",
          "output_type": "stream",
          "text": [
            "Loading Data...\n"
          ]
        }
      ],
      "source": [
        "# import libraries\n",
        "import pandas as pd\n",
        "import numpy as np\n",
        "from sklearn.model_selection import train_test_split\n",
        "from sklearn.metrics import roc_auc_score\n",
        "\n",
        "# load the dataset\n",
        "print(\"Loading Data...\")\n",
        "df = pd.read_csv('data/breast-cancer.data')"
      ]
    },
    {
      "cell_type": "code",
      "execution_count": 4,
      "metadata": {
        "gather": {
          "logged": 1737339084806
        }
      },
      "outputs": [
        {
          "data": {
            "text/html": [
              "<div>\n",
              "<style scoped>\n",
              "    .dataframe tbody tr th:only-of-type {\n",
              "        vertical-align: middle;\n",
              "    }\n",
              "\n",
              "    .dataframe tbody tr th {\n",
              "        vertical-align: top;\n",
              "    }\n",
              "\n",
              "    .dataframe thead th {\n",
              "        text-align: right;\n",
              "    }\n",
              "</style>\n",
              "<table border=\"1\" class=\"dataframe\">\n",
              "  <thead>\n",
              "    <tr style=\"text-align: right;\">\n",
              "      <th></th>\n",
              "      <th>recurence</th>\n",
              "      <th>age</th>\n",
              "      <th>menopause</th>\n",
              "      <th>tumor-size</th>\n",
              "      <th>inv-nodes</th>\n",
              "      <th>node-caps</th>\n",
              "      <th>deg-malig</th>\n",
              "      <th>breast</th>\n",
              "      <th>breast-quad</th>\n",
              "      <th>irradiat</th>\n",
              "    </tr>\n",
              "  </thead>\n",
              "  <tbody>\n",
              "    <tr>\n",
              "      <th>0</th>\n",
              "      <td>no-recurrence-events</td>\n",
              "      <td>30-39</td>\n",
              "      <td>premeno</td>\n",
              "      <td>30-34</td>\n",
              "      <td>0-2</td>\n",
              "      <td>no</td>\n",
              "      <td>3</td>\n",
              "      <td>left</td>\n",
              "      <td>left_low</td>\n",
              "      <td>no</td>\n",
              "    </tr>\n",
              "    <tr>\n",
              "      <th>1</th>\n",
              "      <td>no-recurrence-events</td>\n",
              "      <td>40-49</td>\n",
              "      <td>premeno</td>\n",
              "      <td>20-24</td>\n",
              "      <td>0-2</td>\n",
              "      <td>no</td>\n",
              "      <td>2</td>\n",
              "      <td>right</td>\n",
              "      <td>right_up</td>\n",
              "      <td>no</td>\n",
              "    </tr>\n",
              "    <tr>\n",
              "      <th>2</th>\n",
              "      <td>no-recurrence-events</td>\n",
              "      <td>40-49</td>\n",
              "      <td>premeno</td>\n",
              "      <td>20-24</td>\n",
              "      <td>0-2</td>\n",
              "      <td>no</td>\n",
              "      <td>2</td>\n",
              "      <td>left</td>\n",
              "      <td>left_low</td>\n",
              "      <td>no</td>\n",
              "    </tr>\n",
              "    <tr>\n",
              "      <th>3</th>\n",
              "      <td>no-recurrence-events</td>\n",
              "      <td>60-69</td>\n",
              "      <td>ge40</td>\n",
              "      <td>15-19</td>\n",
              "      <td>0-2</td>\n",
              "      <td>no</td>\n",
              "      <td>2</td>\n",
              "      <td>right</td>\n",
              "      <td>left_up</td>\n",
              "      <td>no</td>\n",
              "    </tr>\n",
              "    <tr>\n",
              "      <th>4</th>\n",
              "      <td>no-recurrence-events</td>\n",
              "      <td>40-49</td>\n",
              "      <td>premeno</td>\n",
              "      <td>0-4</td>\n",
              "      <td>0-2</td>\n",
              "      <td>no</td>\n",
              "      <td>2</td>\n",
              "      <td>right</td>\n",
              "      <td>right_low</td>\n",
              "      <td>no</td>\n",
              "    </tr>\n",
              "    <tr>\n",
              "      <th>...</th>\n",
              "      <td>...</td>\n",
              "      <td>...</td>\n",
              "      <td>...</td>\n",
              "      <td>...</td>\n",
              "      <td>...</td>\n",
              "      <td>...</td>\n",
              "      <td>...</td>\n",
              "      <td>...</td>\n",
              "      <td>...</td>\n",
              "      <td>...</td>\n",
              "    </tr>\n",
              "    <tr>\n",
              "      <th>281</th>\n",
              "      <td>recurrence-events</td>\n",
              "      <td>30-39</td>\n",
              "      <td>premeno</td>\n",
              "      <td>30-34</td>\n",
              "      <td>0-2</td>\n",
              "      <td>no</td>\n",
              "      <td>2</td>\n",
              "      <td>left</td>\n",
              "      <td>left_up</td>\n",
              "      <td>no</td>\n",
              "    </tr>\n",
              "    <tr>\n",
              "      <th>282</th>\n",
              "      <td>recurrence-events</td>\n",
              "      <td>30-39</td>\n",
              "      <td>premeno</td>\n",
              "      <td>20-24</td>\n",
              "      <td>0-2</td>\n",
              "      <td>no</td>\n",
              "      <td>3</td>\n",
              "      <td>left</td>\n",
              "      <td>left_up</td>\n",
              "      <td>yes</td>\n",
              "    </tr>\n",
              "    <tr>\n",
              "      <th>283</th>\n",
              "      <td>recurrence-events</td>\n",
              "      <td>60-69</td>\n",
              "      <td>ge40</td>\n",
              "      <td>20-24</td>\n",
              "      <td>0-2</td>\n",
              "      <td>no</td>\n",
              "      <td>1</td>\n",
              "      <td>right</td>\n",
              "      <td>left_up</td>\n",
              "      <td>no</td>\n",
              "    </tr>\n",
              "    <tr>\n",
              "      <th>284</th>\n",
              "      <td>recurrence-events</td>\n",
              "      <td>40-49</td>\n",
              "      <td>ge40</td>\n",
              "      <td>30-34</td>\n",
              "      <td>3-5</td>\n",
              "      <td>no</td>\n",
              "      <td>3</td>\n",
              "      <td>left</td>\n",
              "      <td>left_low</td>\n",
              "      <td>no</td>\n",
              "    </tr>\n",
              "    <tr>\n",
              "      <th>285</th>\n",
              "      <td>recurrence-events</td>\n",
              "      <td>50-59</td>\n",
              "      <td>ge40</td>\n",
              "      <td>30-34</td>\n",
              "      <td>3-5</td>\n",
              "      <td>no</td>\n",
              "      <td>3</td>\n",
              "      <td>left</td>\n",
              "      <td>left_low</td>\n",
              "      <td>no</td>\n",
              "    </tr>\n",
              "  </tbody>\n",
              "</table>\n",
              "<p>286 rows × 10 columns</p>\n",
              "</div>"
            ],
            "text/plain": [
              "                recurence    age menopause tumor-size inv-nodes node-caps  \\\n",
              "0    no-recurrence-events  30-39   premeno      30-34       0-2        no   \n",
              "1    no-recurrence-events  40-49   premeno      20-24       0-2        no   \n",
              "2    no-recurrence-events  40-49   premeno      20-24       0-2        no   \n",
              "3    no-recurrence-events  60-69      ge40      15-19       0-2        no   \n",
              "4    no-recurrence-events  40-49   premeno        0-4       0-2        no   \n",
              "..                    ...    ...       ...        ...       ...       ...   \n",
              "281     recurrence-events  30-39   premeno      30-34       0-2        no   \n",
              "282     recurrence-events  30-39   premeno      20-24       0-2        no   \n",
              "283     recurrence-events  60-69      ge40      20-24       0-2        no   \n",
              "284     recurrence-events  40-49      ge40      30-34       3-5        no   \n",
              "285     recurrence-events  50-59      ge40      30-34       3-5        no   \n",
              "\n",
              "     deg-malig breast breast-quad irradiat  \n",
              "0            3   left    left_low       no  \n",
              "1            2  right    right_up       no  \n",
              "2            2   left    left_low       no  \n",
              "3            2  right     left_up       no  \n",
              "4            2  right   right_low       no  \n",
              "..         ...    ...         ...      ...  \n",
              "281          2   left     left_up       no  \n",
              "282          3   left     left_up      yes  \n",
              "283          1  right     left_up       no  \n",
              "284          3   left    left_low       no  \n",
              "285          3   left    left_low       no  \n",
              "\n",
              "[286 rows x 10 columns]"
            ]
          },
          "execution_count": 4,
          "metadata": {},
          "output_type": "execute_result"
        }
      ],
      "source": [
        "df"
      ]
    },
    {
      "cell_type": "markdown",
      "metadata": {},
      "source": [
        "# Create a data asset"
      ]
    },
    {
      "cell_type": "markdown",
      "metadata": {},
      "source": [
        "We create a data card to be used by our training pipeline"
      ]
    },
    {
      "cell_type": "code",
      "execution_count": 5,
      "metadata": {},
      "outputs": [
        {
          "data": {
            "text/plain": [
              "Data({'path': 'azureml://subscriptions/f95df08c-a99c-462f-b65c-fe6151267601/resourcegroups/breast_cancer/workspaces/mlw-breast_cancer/datastores/workspaceblobstore/paths/LocalUpload/3e28c2b024c43e7f9d7b04e56af90b9e/breast-cancer.data', 'skip_validation': False, 'mltable_schema_url': None, 'referenced_uris': None, 'type': 'uri_file', 'is_anonymous': False, 'auto_increment_version': False, 'auto_delete_setting': None, 'name': 'cancer-data', 'description': 'Cancer data CSV file', 'tags': {}, 'properties': {}, 'print_as_yaml': False, 'id': '/subscriptions/f95df08c-a99c-462f-b65c-fe6151267601/resourceGroups/breast_cancer/providers/Microsoft.MachineLearningServices/workspaces/mlw-breast_cancer/data/cancer-data/versions/3', 'Resource__source_path': '', 'base_path': '/mnt/batch/tasks/shared/LS_root/mounts/clusters/ci-cancer-all/code/Users/noam.chretiennot/cloud-DP100-project', 'creation_context': <azure.ai.ml.entities._system_data.SystemData object at 0x7fb5b7ae5780>, 'serialize': <msrest.serialization.Serializer object at 0x7fb5b7ae5300>, 'version': '3', 'latest_version': None, 'datastore': None})"
            ]
          },
          "execution_count": 5,
          "metadata": {},
          "output_type": "execute_result"
        }
      ],
      "source": [
        "from azure.ai.ml.entities import Data\n",
        "\n",
        "# Create a Data asset\n",
        "data_asset = Data(\n",
        "    path=\"data/breast-cancer.data\",\n",
        "    type=\"uri_file\",\n",
        "    name=\"cancer-data\",\n",
        "    description=\"Cancer data CSV file\"\n",
        ")\n",
        "\n",
        "# Upload the data asset\n",
        "ml_client.data.create_or_update(data_asset)"
      ]
    },
    {
      "cell_type": "markdown",
      "metadata": {},
      "source": [
        "# Prepare data"
      ]
    },
    {
      "cell_type": "code",
      "execution_count": 6,
      "metadata": {
        "gather": {
          "logged": 1737339084956
        }
      },
      "outputs": [],
      "source": [
        "# remove rows with missing values\n",
        "df = df[df[\"node-caps\"] != \"?\"]\n",
        "df = df[df[\"breast-quad\"] != \"?\"]\n",
        "\n",
        "# split the data into X and y\n",
        "X = df.drop(\"recurence\", axis=1)\n",
        "y = df[\"recurence\"]\n",
        "\n",
        "# convert the y to numeric\n",
        "y= y.apply(lambda x: 1 if x == \"recurrence-events\" else 0)\n",
        "\n",
        "# convert the age to numeric /10\n",
        "X[\"age\"] = X[\"age\"].apply(lambda x: int(x.split(\"-\")[0]))\n",
        "# convert the menopause starting age to numeric\n",
        "X[\"menopause\"] = X[\"menopause\"].apply(lambda x: 1 if x == \"lt40\" else (2 if x == \"ge40\" else 3))\n",
        "# convert the tumor size to numeric\n",
        "X[\"tumor-size\"] = X[\"tumor-size\"].apply(lambda x: int(x.split(\"-\")[0]))\n",
        "# convert the inv-nodes to numeric\n",
        "X[\"inv-nodes\"] = X[\"inv-nodes\"].apply(lambda x: int(x.split(\"-\")[0]))\n",
        "# convert the node-caps to numeric\n",
        "X[\"node-caps\"] = X[\"node-caps\"].apply(lambda x: 1 if x == \"yes\" else 0)\n",
        "# convert the impacted breast to numeric\n",
        "X[\"breast\"] = X[\"breast\"].apply(lambda x: 1 if x == \"left\" else 0)\n",
        "# convert the breast-quad to one-hot encoding\n",
        "X = pd.get_dummies(X, columns=[\"breast-quad\"])\n",
        "X[\"irradiat\"] = X[\"irradiat\"].apply(lambda x: 1 if x == \"yes\" else 0)"
      ]
    },
    {
      "cell_type": "code",
      "execution_count": 7,
      "metadata": {
        "gather": {
          "logged": 1737339085103
        }
      },
      "outputs": [
        {
          "data": {
            "text/html": [
              "<div>\n",
              "<style scoped>\n",
              "    .dataframe tbody tr th:only-of-type {\n",
              "        vertical-align: middle;\n",
              "    }\n",
              "\n",
              "    .dataframe tbody tr th {\n",
              "        vertical-align: top;\n",
              "    }\n",
              "\n",
              "    .dataframe thead th {\n",
              "        text-align: right;\n",
              "    }\n",
              "</style>\n",
              "<table border=\"1\" class=\"dataframe\">\n",
              "  <thead>\n",
              "    <tr style=\"text-align: right;\">\n",
              "      <th></th>\n",
              "      <th>age</th>\n",
              "      <th>menopause</th>\n",
              "      <th>tumor-size</th>\n",
              "      <th>inv-nodes</th>\n",
              "      <th>node-caps</th>\n",
              "      <th>deg-malig</th>\n",
              "      <th>breast</th>\n",
              "      <th>irradiat</th>\n",
              "      <th>breast-quad_central</th>\n",
              "      <th>breast-quad_left_low</th>\n",
              "      <th>breast-quad_left_up</th>\n",
              "      <th>breast-quad_right_low</th>\n",
              "      <th>breast-quad_right_up</th>\n",
              "    </tr>\n",
              "  </thead>\n",
              "  <tbody>\n",
              "    <tr>\n",
              "      <th>0</th>\n",
              "      <td>3</td>\n",
              "      <td>3</td>\n",
              "      <td>3</td>\n",
              "      <td>0</td>\n",
              "      <td>0</td>\n",
              "      <td>3</td>\n",
              "      <td>1</td>\n",
              "      <td>0</td>\n",
              "      <td>False</td>\n",
              "      <td>True</td>\n",
              "      <td>False</td>\n",
              "      <td>False</td>\n",
              "      <td>False</td>\n",
              "    </tr>\n",
              "    <tr>\n",
              "      <th>1</th>\n",
              "      <td>4</td>\n",
              "      <td>3</td>\n",
              "      <td>2</td>\n",
              "      <td>0</td>\n",
              "      <td>0</td>\n",
              "      <td>2</td>\n",
              "      <td>0</td>\n",
              "      <td>0</td>\n",
              "      <td>False</td>\n",
              "      <td>False</td>\n",
              "      <td>False</td>\n",
              "      <td>False</td>\n",
              "      <td>True</td>\n",
              "    </tr>\n",
              "    <tr>\n",
              "      <th>2</th>\n",
              "      <td>4</td>\n",
              "      <td>3</td>\n",
              "      <td>2</td>\n",
              "      <td>0</td>\n",
              "      <td>0</td>\n",
              "      <td>2</td>\n",
              "      <td>1</td>\n",
              "      <td>0</td>\n",
              "      <td>False</td>\n",
              "      <td>True</td>\n",
              "      <td>False</td>\n",
              "      <td>False</td>\n",
              "      <td>False</td>\n",
              "    </tr>\n",
              "    <tr>\n",
              "      <th>3</th>\n",
              "      <td>6</td>\n",
              "      <td>2</td>\n",
              "      <td>1</td>\n",
              "      <td>0</td>\n",
              "      <td>0</td>\n",
              "      <td>2</td>\n",
              "      <td>0</td>\n",
              "      <td>0</td>\n",
              "      <td>False</td>\n",
              "      <td>False</td>\n",
              "      <td>True</td>\n",
              "      <td>False</td>\n",
              "      <td>False</td>\n",
              "    </tr>\n",
              "    <tr>\n",
              "      <th>4</th>\n",
              "      <td>4</td>\n",
              "      <td>3</td>\n",
              "      <td>0</td>\n",
              "      <td>0</td>\n",
              "      <td>0</td>\n",
              "      <td>2</td>\n",
              "      <td>0</td>\n",
              "      <td>0</td>\n",
              "      <td>False</td>\n",
              "      <td>False</td>\n",
              "      <td>False</td>\n",
              "      <td>True</td>\n",
              "      <td>False</td>\n",
              "    </tr>\n",
              "    <tr>\n",
              "      <th>...</th>\n",
              "      <td>...</td>\n",
              "      <td>...</td>\n",
              "      <td>...</td>\n",
              "      <td>...</td>\n",
              "      <td>...</td>\n",
              "      <td>...</td>\n",
              "      <td>...</td>\n",
              "      <td>...</td>\n",
              "      <td>...</td>\n",
              "      <td>...</td>\n",
              "      <td>...</td>\n",
              "      <td>...</td>\n",
              "      <td>...</td>\n",
              "    </tr>\n",
              "    <tr>\n",
              "      <th>281</th>\n",
              "      <td>3</td>\n",
              "      <td>3</td>\n",
              "      <td>3</td>\n",
              "      <td>0</td>\n",
              "      <td>0</td>\n",
              "      <td>2</td>\n",
              "      <td>1</td>\n",
              "      <td>0</td>\n",
              "      <td>False</td>\n",
              "      <td>False</td>\n",
              "      <td>True</td>\n",
              "      <td>False</td>\n",
              "      <td>False</td>\n",
              "    </tr>\n",
              "    <tr>\n",
              "      <th>282</th>\n",
              "      <td>3</td>\n",
              "      <td>3</td>\n",
              "      <td>2</td>\n",
              "      <td>0</td>\n",
              "      <td>0</td>\n",
              "      <td>3</td>\n",
              "      <td>1</td>\n",
              "      <td>1</td>\n",
              "      <td>False</td>\n",
              "      <td>False</td>\n",
              "      <td>True</td>\n",
              "      <td>False</td>\n",
              "      <td>False</td>\n",
              "    </tr>\n",
              "    <tr>\n",
              "      <th>283</th>\n",
              "      <td>6</td>\n",
              "      <td>2</td>\n",
              "      <td>2</td>\n",
              "      <td>0</td>\n",
              "      <td>0</td>\n",
              "      <td>1</td>\n",
              "      <td>0</td>\n",
              "      <td>0</td>\n",
              "      <td>False</td>\n",
              "      <td>False</td>\n",
              "      <td>True</td>\n",
              "      <td>False</td>\n",
              "      <td>False</td>\n",
              "    </tr>\n",
              "    <tr>\n",
              "      <th>284</th>\n",
              "      <td>4</td>\n",
              "      <td>2</td>\n",
              "      <td>3</td>\n",
              "      <td>3</td>\n",
              "      <td>0</td>\n",
              "      <td>3</td>\n",
              "      <td>1</td>\n",
              "      <td>0</td>\n",
              "      <td>False</td>\n",
              "      <td>True</td>\n",
              "      <td>False</td>\n",
              "      <td>False</td>\n",
              "      <td>False</td>\n",
              "    </tr>\n",
              "    <tr>\n",
              "      <th>285</th>\n",
              "      <td>5</td>\n",
              "      <td>2</td>\n",
              "      <td>3</td>\n",
              "      <td>3</td>\n",
              "      <td>0</td>\n",
              "      <td>3</td>\n",
              "      <td>1</td>\n",
              "      <td>0</td>\n",
              "      <td>False</td>\n",
              "      <td>True</td>\n",
              "      <td>False</td>\n",
              "      <td>False</td>\n",
              "      <td>False</td>\n",
              "    </tr>\n",
              "  </tbody>\n",
              "</table>\n",
              "<p>277 rows × 13 columns</p>\n",
              "</div>"
            ],
            "text/plain": [
              "     age  menopause  tumor-size  inv-nodes  node-caps  deg-malig  breast  \\\n",
              "0      3          3           3          0          0          3       1   \n",
              "1      4          3           2          0          0          2       0   \n",
              "2      4          3           2          0          0          2       1   \n",
              "3      6          2           1          0          0          2       0   \n",
              "4      4          3           0          0          0          2       0   \n",
              "..   ...        ...         ...        ...        ...        ...     ...   \n",
              "281    3          3           3          0          0          2       1   \n",
              "282    3          3           2          0          0          3       1   \n",
              "283    6          2           2          0          0          1       0   \n",
              "284    4          2           3          3          0          3       1   \n",
              "285    5          2           3          3          0          3       1   \n",
              "\n",
              "     irradiat  breast-quad_central  breast-quad_left_low  breast-quad_left_up  \\\n",
              "0           0                False                  True                False   \n",
              "1           0                False                 False                False   \n",
              "2           0                False                  True                False   \n",
              "3           0                False                 False                 True   \n",
              "4           0                False                 False                False   \n",
              "..        ...                  ...                   ...                  ...   \n",
              "281         0                False                 False                 True   \n",
              "282         1                False                 False                 True   \n",
              "283         0                False                 False                 True   \n",
              "284         0                False                  True                False   \n",
              "285         0                False                  True                False   \n",
              "\n",
              "     breast-quad_right_low  breast-quad_right_up  \n",
              "0                    False                 False  \n",
              "1                    False                  True  \n",
              "2                    False                 False  \n",
              "3                    False                 False  \n",
              "4                     True                 False  \n",
              "..                     ...                   ...  \n",
              "281                  False                 False  \n",
              "282                  False                 False  \n",
              "283                  False                 False  \n",
              "284                  False                 False  \n",
              "285                  False                 False  \n",
              "\n",
              "[277 rows x 13 columns]"
            ]
          },
          "execution_count": 7,
          "metadata": {},
          "output_type": "execute_result"
        }
      ],
      "source": [
        "X"
      ]
    },
    {
      "cell_type": "code",
      "execution_count": 8,
      "metadata": {
        "gather": {
          "logged": 1737339085968
        }
      },
      "outputs": [
        {
          "data": {
            "text/plain": [
              "array([[<Axes: title={'center': 'age'}>,\n",
              "        <Axes: title={'center': 'menopause'}>,\n",
              "        <Axes: title={'center': 'tumor-size'}>],\n",
              "       [<Axes: title={'center': 'inv-nodes'}>,\n",
              "        <Axes: title={'center': 'node-caps'}>,\n",
              "        <Axes: title={'center': 'deg-malig'}>],\n",
              "       [<Axes: title={'center': 'breast'}>,\n",
              "        <Axes: title={'center': 'irradiat'}>, <Axes: >]], dtype=object)"
            ]
          },
          "execution_count": 8,
          "metadata": {},
          "output_type": "execute_result"
        },
        {
          "data": {
            "image/png": "[encoded data removed]",
            "text/plain": [
              "<Figure size 640x480 with 9 Axes>"
            ]
          },
          "metadata": {},
          "output_type": "display_data"
        }
      ],
      "source": [
        "X.hist()"
      ]
    },
    {
      "cell_type": "code",
      "execution_count": 9,
      "metadata": {
        "gather": {
          "logged": 1737339086330
        }
      },
      "outputs": [
        {
          "data": {
            "text/plain": [
              "<Axes: >"
            ]
          },
          "execution_count": 9,
          "metadata": {},
          "output_type": "execute_result"
        },
        {
          "data": {
            "image/png": "[encoded data removed]",
            "text/plain": [
              "<Figure size 640x480 with 1 Axes>"
            ]
          },
          "metadata": {},
          "output_type": "display_data"
        }
      ],
      "source": [
        "y.hist()"
      ]
    },
    {
      "cell_type": "code",
      "execution_count": 10,
      "metadata": {
        "gather": {
          "logged": 1737339086444
        }
      },
      "outputs": [],
      "source": [
        "X_train, X_test, y_train, y_test = train_test_split(X, y, test_size=0.3, random_state=42)"
      ]
    },
    {
      "cell_type": "code",
      "execution_count": 11,
      "metadata": {
        "gather": {
          "logged": 1737339086681
        }
      },
      "outputs": [],
      "source": [
        "# over sample so the minority class represents 50% of the data\n",
        "from imblearn.over_sampling import SMOTE\n",
        "\n",
        "smote = SMOTE()\n",
        "X_train_resampled, y_train_resampled = smote.fit_resample(X_train, y_train)"
      ]
    },
    {
      "cell_type": "code",
      "execution_count": 12,
      "metadata": {},
      "outputs": [
        {
          "data": {
            "text/plain": [
              "<Axes: >"
            ]
          },
          "execution_count": 12,
          "metadata": {},
          "output_type": "execute_result"
        },
        {
          "data": {
            "image/png": "[encoded data removed]",
            "text/plain": [
              "<Figure size 640x480 with 1 Axes>"
            ]
          },
          "metadata": {},
          "output_type": "display_data"
        }
      ],
      "source": [
        "y_train_resampled.hist()"
      ]
    },
    {
      "cell_type": "markdown",
      "metadata": {},
      "source": [
        "# Test models"
      ]
    },
    {
      "cell_type": "markdown",
      "metadata": {},
      "source": [
        "We explore different models with ml flow"
      ]
    },
    {
      "cell_type": "code",
      "execution_count": 13,
      "metadata": {
        "gather": {
          "logged": 1737339087944
        }
      },
      "outputs": [
        {
          "name": "stderr",
          "output_type": "stream",
          "text": [
            "/anaconda/envs/azureml_py310_sdkv2/lib/python3.10/site-packages/azureml/mlflow/_protos/aml_service_pb2.py:10: UserWarning: google.protobuf.service module is deprecated. RPC implementations should provide code generator plugins which generate code specific to the RPC implementation. service.py will be removed in Jan 2025\n",
            "  from google.protobuf import service as _service\n",
            "2025/01/26 18:43:05 INFO mlflow.tracking.fluent: Experiment with name 'mlflow-breast-cancer' does not exist. Creating a new experiment.\n"
          ]
        }
      ],
      "source": [
        "import mlflow\n",
        "\n",
        "experiment_name = \"mlflow-breast-cancer\"\n",
        "mlflow.set_experiment(experiment_name)\n",
        "mlflow.sklearn.autolog(disable=True)"
      ]
    },
    {
      "cell_type": "code",
      "execution_count": 14,
      "metadata": {
        "gather": {
          "logged": 1737339090405
        }
      },
      "outputs": [
        {
          "name": "stderr",
          "output_type": "stream",
          "text": [
            "2025/01/26 18:43:13 INFO mlflow.tracking._tracking_service.client: 🏃 View run tough_band_dzq90gsq at: https://francecentral.api.azureml.ms/mlflow/v2.0/subscriptions/f95df08c-a99c-462f-b65c-fe6151267601/resourceGroups/breast_cancer/providers/Microsoft.MachineLearningServices/workspaces/mlw-breast_cancer/#/experiments/0e6900f7-33c0-40cf-a1fd-6ad680dbcaf8/runs/b21a2866-a6ea-487b-a050-5b700b611fc6.\n",
            "2025/01/26 18:43:13 INFO mlflow.tracking._tracking_service.client: 🧪 View experiment at: https://francecentral.api.azureml.ms/mlflow/v2.0/subscriptions/f95df08c-a99c-462f-b65c-fe6151267601/resourceGroups/breast_cancer/providers/Microsoft.MachineLearningServices/workspaces/mlw-breast_cancer/#/experiments/0e6900f7-33c0-40cf-a1fd-6ad680dbcaf8.\n"
          ]
        },
        {
          "data": {
            "image/png": "[encoded data removed]",
            "text/plain": [
              "<Figure size 600x400 with 2 Axes>"
            ]
          },
          "metadata": {},
          "output_type": "display_data"
        }
      ],
      "source": [
        "from sklearn.linear_model import LogisticRegression\n",
        "import seaborn as sns\n",
        "import matplotlib.pyplot as plt\n",
        "from sklearn.metrics import confusion_matrix\n",
        "\n",
        "with mlflow.start_run():\n",
        "    # train the model\n",
        "    model = LogisticRegression(class_weight={0:1, 1:6}).fit(X_train_resampled, y_train_resampled)\n",
        "\n",
        "    # evaluate the model\n",
        "    y_pred = model.predict(X_test)\n",
        "\n",
        "    acc = np.average(y_pred == y_test)\n",
        "    auc = roc_auc_score(y_test, y_pred)\n",
        "\n",
        "    # log metrics\n",
        "    mlflow.log_param(\"model\", \"logistic regression base\")\n",
        "    mlflow.log_metric(\"Accuracy\", acc)\n",
        "    mlflow.log_metric(\"ROC_AUC\", auc)\n",
        "\n",
        "    fig = plt.figure(figsize=(6, 4)) \n",
        "    sns.heatmap(confusion_matrix(y_test, y_pred, normalize='true'), annot=True, cmap=\"coolwarm\")\n",
        "    plt.xlabel('Predicted')\n",
        "    plt.ylabel('Actual')\n",
        "    plt.title('Confusion Matrix')\n",
        "    mlflow.log_figure(fig, \"confusion_matrix.png\")"
      ]
    },
    {
      "cell_type": "code",
      "execution_count": 15,
      "metadata": {
        "gather": {
          "logged": 1737339093284
        }
      },
      "outputs": [
        {
          "name": "stderr",
          "output_type": "stream",
          "text": [
            "2025/01/26 18:43:19 INFO mlflow.tracking._tracking_service.client: 🏃 View run ivory_coconut_h6cdq3ph at: https://francecentral.api.azureml.ms/mlflow/v2.0/subscriptions/f95df08c-a99c-462f-b65c-fe6151267601/resourceGroups/breast_cancer/providers/Microsoft.MachineLearningServices/workspaces/mlw-breast_cancer/#/experiments/0e6900f7-33c0-40cf-a1fd-6ad680dbcaf8/runs/51a2a625-ab93-4c6b-91c6-6078f1256e2e.\n",
            "2025/01/26 18:43:19 INFO mlflow.tracking._tracking_service.client: 🧪 View experiment at: https://francecentral.api.azureml.ms/mlflow/v2.0/subscriptions/f95df08c-a99c-462f-b65c-fe6151267601/resourceGroups/breast_cancer/providers/Microsoft.MachineLearningServices/workspaces/mlw-breast_cancer/#/experiments/0e6900f7-33c0-40cf-a1fd-6ad680dbcaf8.\n"
          ]
        },
        {
          "data": {
            "text/plain": [
              "<Figure size 600x400 with 0 Axes>"
            ]
          },
          "metadata": {},
          "output_type": "display_data"
        },
        {
          "data": {
            "image/png": "[encoded data removed]",
            "text/plain": [
              "<Figure size 600x400 with 2 Axes>"
            ]
          },
          "metadata": {},
          "output_type": "display_data"
        }
      ],
      "source": [
        "from xgboost import XGBClassifier\n",
        "\n",
        "with mlflow.start_run():\n",
        "    # train the model\n",
        "    model = XGBClassifier().fit(X_train_resampled, y_train_resampled)\n",
        "\n",
        "    # evaluate the model\n",
        "    y_pred = model.predict(X_test)\n",
        "\n",
        "    acc = np.average(y_pred == y_test)\n",
        "    auc = roc_auc_score(y_test, y_pred)\n",
        "\n",
        "    # log metrics\n",
        "    mlflow.log_param(\"model\", \"xgboost\")\n",
        "    mlflow.log_metric(\"Accuracy\", acc)\n",
        "    mlflow.log_metric(\"ROC_AUC\", auc)\n",
        "\n",
        "    fig = plt.figure(figsize=(6, 4)) \n",
        "    sns.heatmap(confusion_matrix(y_test, y_pred, normalize='true'), annot=True, cmap=\"coolwarm\")\n",
        "    plt.xlabel('Predicted')\n",
        "    plt.ylabel('Actual')\n",
        "    plt.title('Confusion Matrix')\n",
        "    mlflow.log_figure(fig, \"confusion_matrix.png\")"
      ]
    },
    {
      "cell_type": "code",
      "execution_count": 16,
      "metadata": {
        "gather": {
          "logged": 1737339095644
        }
      },
      "outputs": [
        {
          "name": "stderr",
          "output_type": "stream",
          "text": [
            "2025/01/26 18:43:27 INFO mlflow.tracking._tracking_service.client: 🏃 View run boring_sun_34vdvhf1 at: https://francecentral.api.azureml.ms/mlflow/v2.0/subscriptions/f95df08c-a99c-462f-b65c-fe6151267601/resourceGroups/breast_cancer/providers/Microsoft.MachineLearningServices/workspaces/mlw-breast_cancer/#/experiments/0e6900f7-33c0-40cf-a1fd-6ad680dbcaf8/runs/c2e06aa6-7377-4cb7-887b-d67237ae0ec9.\n",
            "2025/01/26 18:43:27 INFO mlflow.tracking._tracking_service.client: 🧪 View experiment at: https://francecentral.api.azureml.ms/mlflow/v2.0/subscriptions/f95df08c-a99c-462f-b65c-fe6151267601/resourceGroups/breast_cancer/providers/Microsoft.MachineLearningServices/workspaces/mlw-breast_cancer/#/experiments/0e6900f7-33c0-40cf-a1fd-6ad680dbcaf8.\n"
          ]
        },
        {
          "data": {
            "image/png": "[encoded data removed]",
            "text/plain": [
              "<Figure size 600x400 with 2 Axes>"
            ]
          },
          "metadata": {},
          "output_type": "display_data"
        }
      ],
      "source": [
        "from sklearn.svm import SVC\n",
        "\n",
        "with mlflow.start_run():\n",
        "    # train the model\n",
        "    model = SVC(class_weight={0:1, 1:3.8}).fit(X_train, y_train)\n",
        "\n",
        "    # evaluate the model\n",
        "    y_pred = model.predict(X_test)\n",
        "\n",
        "    acc = np.average(y_pred == y_test)\n",
        "    auc = roc_auc_score(y_test, y_pred)\n",
        "\n",
        "    # log metrics\n",
        "    mlflow.log_param(\"model\", \"svm\")\n",
        "    mlflow.log_metric(\"Accuracy\", acc)\n",
        "    mlflow.log_metric(\"ROC_AUC\", auc)\n",
        "\n",
        "    fig = plt.figure(figsize=(6, 4)) \n",
        "    sns.heatmap(confusion_matrix(y_test, y_pred, normalize='true'), annot=True, cmap=\"coolwarm\")\n",
        "    plt.xlabel('Predicted')\n",
        "    plt.ylabel('Actual')\n",
        "    plt.title('Confusion Matrix')\n",
        "    mlflow.log_figure(fig, \"confusion_matrix.png\")"
      ]
    },
    {
      "cell_type": "code",
      "execution_count": 17,
      "metadata": {
        "gather": {
          "logged": 1737339097885
        }
      },
      "outputs": [
        {
          "name": "stderr",
          "output_type": "stream",
          "text": [
            "2025/01/26 18:43:37 INFO mlflow.tracking._tracking_service.client: 🏃 View run gray_house_9nmjn8ws at: https://francecentral.api.azureml.ms/mlflow/v2.0/subscriptions/f95df08c-a99c-462f-b65c-fe6151267601/resourceGroups/breast_cancer/providers/Microsoft.MachineLearningServices/workspaces/mlw-breast_cancer/#/experiments/0e6900f7-33c0-40cf-a1fd-6ad680dbcaf8/runs/70c73254-017e-402e-9022-7e5abad34e57.\n",
            "2025/01/26 18:43:37 INFO mlflow.tracking._tracking_service.client: 🧪 View experiment at: https://francecentral.api.azureml.ms/mlflow/v2.0/subscriptions/f95df08c-a99c-462f-b65c-fe6151267601/resourceGroups/breast_cancer/providers/Microsoft.MachineLearningServices/workspaces/mlw-breast_cancer/#/experiments/0e6900f7-33c0-40cf-a1fd-6ad680dbcaf8.\n"
          ]
        },
        {
          "data": {
            "image/png": "[encoded data removed]",
            "text/plain": [
              "<Figure size 600x400 with 2 Axes>"
            ]
          },
          "metadata": {},
          "output_type": "display_data"
        }
      ],
      "source": [
        "from sklearn.ensemble import RandomForestClassifier\n",
        "\n",
        "with mlflow.start_run():\n",
        "    # train the model\n",
        "    model = RandomForestClassifier().fit(X_train_resampled, y_train_resampled)\n",
        "\n",
        "    # evaluate the model\n",
        "    y_pred = model.predict(X_test)\n",
        "\n",
        "    acc = np.average(y_pred == y_test)\n",
        "    auc = roc_auc_score(y_test, y_pred)\n",
        "\n",
        "    # log metrics\n",
        "    mlflow.log_param(\"model\", \"random forest\")\n",
        "    mlflow.log_metric(\"Accuracy\", acc)\n",
        "    mlflow.log_metric(\"ROC_AUC\", auc)\n",
        "\n",
        "    fig = plt.figure(figsize=(6, 4)) \n",
        "    sns.heatmap(confusion_matrix(y_test, y_pred, normalize='true'), annot=True, cmap=\"coolwarm\")\n",
        "    plt.xlabel('Predicted')\n",
        "    plt.ylabel('Actual')\n",
        "    plt.title('Confusion Matrix')\n",
        "    mlflow.log_figure(fig, \"confusion_matrix.png\")"
      ]
    },
    {
      "cell_type": "code",
      "execution_count": 18,
      "metadata": {
        "gather": {
          "logged": 1737339098351
        }
      },
      "outputs": [
        {
          "data": {
            "text/html": [
              "<div>\n",
              "<style scoped>\n",
              "    .dataframe tbody tr th:only-of-type {\n",
              "        vertical-align: middle;\n",
              "    }\n",
              "\n",
              "    .dataframe tbody tr th {\n",
              "        vertical-align: top;\n",
              "    }\n",
              "\n",
              "    .dataframe thead th {\n",
              "        text-align: right;\n",
              "    }\n",
              "</style>\n",
              "<table border=\"1\" class=\"dataframe\">\n",
              "  <thead>\n",
              "    <tr style=\"text-align: right;\">\n",
              "      <th></th>\n",
              "      <th>run_id</th>\n",
              "      <th>experiment_id</th>\n",
              "      <th>status</th>\n",
              "      <th>artifact_uri</th>\n",
              "      <th>start_time</th>\n",
              "      <th>end_time</th>\n",
              "      <th>metrics.ROC_AUC</th>\n",
              "      <th>metrics.Accuracy</th>\n",
              "      <th>params.model</th>\n",
              "      <th>tags.mlflow.rootRunId</th>\n",
              "      <th>tags.mlflow.runName</th>\n",
              "      <th>tags.mlflow.user</th>\n",
              "      <th>tags.mlflow.job</th>\n",
              "    </tr>\n",
              "  </thead>\n",
              "  <tbody>\n",
              "    <tr>\n",
              "      <th>2</th>\n",
              "      <td>c2e06aa6-7377-4cb7-887b-d67237ae0ec9</td>\n",
              "      <td>0e6900f7-33c0-40cf-a1fd-6ad680dbcaf8</td>\n",
              "      <td>FINISHED</td>\n",
              "      <td></td>\n",
              "      <td>2025-01-26 18:43:25.581000+00:00</td>\n",
              "      <td>2025-01-26 18:43:27.595000+00:00</td>\n",
              "      <td>0.642857</td>\n",
              "      <td>0.642857</td>\n",
              "      <td>svm</td>\n",
              "      <td>c2e06aa6-7377-4cb7-887b-d67237ae0ec9</td>\n",
              "      <td>boring_sun_34vdvhf1</td>\n",
              "      <td>Noam CHRETIENNOT</td>\n",
              "      <td>SVM</td>\n",
              "    </tr>\n",
              "    <tr>\n",
              "      <th>3</th>\n",
              "      <td>70c73254-017e-402e-9022-7e5abad34e57</td>\n",
              "      <td>0e6900f7-33c0-40cf-a1fd-6ad680dbcaf8</td>\n",
              "      <td>FINISHED</td>\n",
              "      <td></td>\n",
              "      <td>2025-01-26 18:43:35.754000+00:00</td>\n",
              "      <td>2025-01-26 18:43:38.032000+00:00</td>\n",
              "      <td>0.580357</td>\n",
              "      <td>0.630952</td>\n",
              "      <td>random forest</td>\n",
              "      <td>70c73254-017e-402e-9022-7e5abad34e57</td>\n",
              "      <td>gray_house_9nmjn8ws</td>\n",
              "      <td>Noam CHRETIENNOT</td>\n",
              "      <td>None</td>\n",
              "    </tr>\n",
              "    <tr>\n",
              "      <th>0</th>\n",
              "      <td>b21a2866-a6ea-487b-a050-5b700b611fc6</td>\n",
              "      <td>0e6900f7-33c0-40cf-a1fd-6ad680dbcaf8</td>\n",
              "      <td>FINISHED</td>\n",
              "      <td></td>\n",
              "      <td>2025-01-26 18:43:09.312000+00:00</td>\n",
              "      <td>2025-01-26 18:43:13.412000+00:00</td>\n",
              "      <td>0.553571</td>\n",
              "      <td>0.452381</td>\n",
              "      <td>logistic regression base</td>\n",
              "      <td>b21a2866-a6ea-487b-a050-5b700b611fc6</td>\n",
              "      <td>tough_band_dzq90gsq</td>\n",
              "      <td>Noam CHRETIENNOT</td>\n",
              "      <td>None</td>\n",
              "    </tr>\n",
              "    <tr>\n",
              "      <th>1</th>\n",
              "      <td>51a2a625-ab93-4c6b-91c6-6078f1256e2e</td>\n",
              "      <td>0e6900f7-33c0-40cf-a1fd-6ad680dbcaf8</td>\n",
              "      <td>FINISHED</td>\n",
              "      <td></td>\n",
              "      <td>2025-01-26 18:43:17.329000+00:00</td>\n",
              "      <td>2025-01-26 18:43:19.931000+00:00</td>\n",
              "      <td>0.544643</td>\n",
              "      <td>0.630952</td>\n",
              "      <td>xgboost</td>\n",
              "      <td>51a2a625-ab93-4c6b-91c6-6078f1256e2e</td>\n",
              "      <td>ivory_coconut_h6cdq3ph</td>\n",
              "      <td>Noam CHRETIENNOT</td>\n",
              "      <td>None</td>\n",
              "    </tr>\n",
              "  </tbody>\n",
              "</table>\n",
              "</div>"
            ],
            "text/plain": [
              "                                 run_id                         experiment_id  \\\n",
              "2  c2e06aa6-7377-4cb7-887b-d67237ae0ec9  0e6900f7-33c0-40cf-a1fd-6ad680dbcaf8   \n",
              "3  70c73254-017e-402e-9022-7e5abad34e57  0e6900f7-33c0-40cf-a1fd-6ad680dbcaf8   \n",
              "0  b21a2866-a6ea-487b-a050-5b700b611fc6  0e6900f7-33c0-40cf-a1fd-6ad680dbcaf8   \n",
              "1  51a2a625-ab93-4c6b-91c6-6078f1256e2e  0e6900f7-33c0-40cf-a1fd-6ad680dbcaf8   \n",
              "\n",
              "     status artifact_uri                       start_time  \\\n",
              "2  FINISHED              2025-01-26 18:43:25.581000+00:00   \n",
              "3  FINISHED              2025-01-26 18:43:35.754000+00:00   \n",
              "0  FINISHED              2025-01-26 18:43:09.312000+00:00   \n",
              "1  FINISHED              2025-01-26 18:43:17.329000+00:00   \n",
              "\n",
              "                          end_time  metrics.ROC_AUC  metrics.Accuracy  \\\n",
              "2 2025-01-26 18:43:27.595000+00:00         0.642857          0.642857   \n",
              "3 2025-01-26 18:43:38.032000+00:00         0.580357          0.630952   \n",
              "0 2025-01-26 18:43:13.412000+00:00         0.553571          0.452381   \n",
              "1 2025-01-26 18:43:19.931000+00:00         0.544643          0.630952   \n",
              "\n",
              "               params.model                 tags.mlflow.rootRunId  \\\n",
              "2                       svm  c2e06aa6-7377-4cb7-887b-d67237ae0ec9   \n",
              "3             random forest  70c73254-017e-402e-9022-7e5abad34e57   \n",
              "0  logistic regression base  b21a2866-a6ea-487b-a050-5b700b611fc6   \n",
              "1                   xgboost  51a2a625-ab93-4c6b-91c6-6078f1256e2e   \n",
              "\n",
              "      tags.mlflow.runName  tags.mlflow.user tags.mlflow.job  \n",
              "2     boring_sun_34vdvhf1  Noam CHRETIENNOT             SVM  \n",
              "3     gray_house_9nmjn8ws  Noam CHRETIENNOT            None  \n",
              "0     tough_band_dzq90gsq  Noam CHRETIENNOT            None  \n",
              "1  ivory_coconut_h6cdq3ph  Noam CHRETIENNOT            None  "
            ]
          },
          "execution_count": 18,
          "metadata": {},
          "output_type": "execute_result"
        }
      ],
      "source": [
        "# Search for all runs\n",
        "runs = mlflow.search_runs()\n",
        "\n",
        "# order by ROC_AUC\n",
        "runs = runs.sort_values(by=[\"metrics.ROC_AUC\"], ascending=False)\n",
        "runs"
      ]
    },
    {
      "cell_type": "markdown",
      "metadata": {},
      "source": [
        "# Tuning Hyper-parameters"
      ]
    },
    {
      "cell_type": "code",
      "execution_count": 19,
      "metadata": {},
      "outputs": [
        {
          "name": "stderr",
          "output_type": "stream",
          "text": [
            "/anaconda/envs/azureml_py310_sdkv2/lib/python3.10/site-packages/tqdm/auto.py:21: TqdmWarning: IProgress not found. Please update jupyter and ipywidgets. See https://ipywidgets.readthedocs.io/en/stable/user_install.html\n",
            "  from .autonotebook import tqdm as notebook_tqdm\n",
            "[I 2025-01-26 18:43:48,846] A new study created in memory with name: no-name-30a31554-b28d-4940-9d2a-f1421c75417a\n",
            "[I 2025-01-26 18:43:48,856] Trial 0 finished with value: 864.0 and parameters: {'C': 9.71062717671332, 'gamma': 3.414065366296672}. Best is trial 0 with value: 864.0.\n",
            "[I 2025-01-26 18:43:48,866] Trial 1 finished with value: 864.0 and parameters: {'C': 9.806162669652107, 'gamma': 4.715254924725514}. Best is trial 0 with value: 864.0.\n",
            "[I 2025-01-26 18:43:48,876] Trial 2 finished with value: 864.0 and parameters: {'C': 9.237375158084069, 'gamma': 8.402970488844934}. Best is trial 0 with value: 864.0.\n",
            "[I 2025-01-26 18:43:48,889] Trial 3 finished with value: 864.0 and parameters: {'C': 5.171069800009335, 'gamma': 7.209114649971612}. Best is trial 0 with value: 864.0.\n",
            "[I 2025-01-26 18:43:48,898] Trial 4 finished with value: 864.0 and parameters: {'C': 8.705759828343831, 'gamma': 2.1795240594112335}. Best is trial 0 with value: 864.0.\n",
            "[I 2025-01-26 18:43:48,907] Trial 5 finished with value: 864.0 and parameters: {'C': 7.911046982182257, 'gamma': 3.3815729676738755}. Best is trial 0 with value: 864.0.\n",
            "[I 2025-01-26 18:43:48,916] Trial 6 finished with value: 864.0 and parameters: {'C': 4.108937793000992, 'gamma': 2.7618702981174894}. Best is trial 0 with value: 864.0.\n",
            "[I 2025-01-26 18:43:48,931] Trial 7 finished with value: 864.0 and parameters: {'C': 5.305718651538822, 'gamma': 3.9320782343531326}. Best is trial 0 with value: 864.0.\n",
            "[I 2025-01-26 18:43:48,941] Trial 8 finished with value: 864.0 and parameters: {'C': 7.5916703372411, 'gamma': 6.644677655027419}. Best is trial 0 with value: 864.0.\n",
            "[I 2025-01-26 18:43:48,949] Trial 9 finished with value: 864.0 and parameters: {'C': 4.100977730292451, 'gamma': 5.602539681128123}. Best is trial 0 with value: 864.0.\n",
            "[I 2025-01-26 18:43:48,969] Trial 10 finished with value: 1613472.0 and parameters: {'C': 0.9321950580915885, 'gamma': 0.3127767513665285}. Best is trial 10 with value: 1613472.0.\n",
            "[I 2025-01-26 18:43:48,987] Trial 11 finished with value: 124852.0 and parameters: {'C': 0.7930328559414805, 'gamma': 0.7647321217932584}. Best is trial 10 with value: 1613472.0.\n",
            "[I 2025-01-26 18:43:49,003] Trial 12 finished with value: 2686976.0 and parameters: {'C': 0.4362775978896396, 'gamma': 0.2811481500427961}. Best is trial 12 with value: 2686976.0.\n",
            "[I 2025-01-26 18:43:49,019] Trial 13 finished with value: 3090277.0 and parameters: {'C': 0.28937498637979897, 'gamma': 0.19103800730797188}. Best is trial 13 with value: 3090277.0.\n",
            "[I 2025-01-26 18:43:49,035] Trial 14 finished with value: 864.0 and parameters: {'C': 2.1703438709213154, 'gamma': 1.4195560752286178}. Best is trial 13 with value: 3090277.0.\n",
            "[I 2025-01-26 18:43:49,051] Trial 15 finished with value: 864.0 and parameters: {'C': 2.1370567082474166, 'gamma': 1.4976521093455235}. Best is trial 13 with value: 3090277.0.\n",
            "[I 2025-01-26 18:43:49,069] Trial 16 finished with value: 4480000.0 and parameters: {'C': 0.1725086709987096, 'gamma': 0.31597539019363646}. Best is trial 16 with value: 4480000.0.\n",
            "[I 2025-01-26 18:43:49,088] Trial 17 finished with value: 864.0 and parameters: {'C': 2.1768449292093988, 'gamma': 2.1624564611370656}. Best is trial 16 with value: 4480000.0.\n",
            "[I 2025-01-26 18:43:49,105] Trial 18 finished with value: 0.0 and parameters: {'C': 0.1308755282377463, 'gamma': 8.742183450066495}. Best is trial 16 with value: 4480000.0.\n",
            "[I 2025-01-26 18:43:49,124] Trial 19 finished with value: 848.0 and parameters: {'C': 3.3529992250029723, 'gamma': 1.093342230973081}. Best is trial 16 with value: 4480000.0.\n",
            "[I 2025-01-26 18:43:49,143] Trial 20 finished with value: 864.0 and parameters: {'C': 1.5639073370294132, 'gamma': 4.682779973192618}. Best is trial 16 with value: 4480000.0.\n",
            "[I 2025-01-26 18:43:49,161] Trial 21 finished with value: 5280000.0 and parameters: {'C': 0.12116472424736549, 'gamma': 0.12495255175499978}. Best is trial 21 with value: 5280000.0.\n",
            "[I 2025-01-26 18:43:49,178] Trial 22 finished with value: 2075625.0 and parameters: {'C': 1.2330878068186222, 'gamma': 0.28923549352463385}. Best is trial 21 with value: 5280000.0.\n",
            "[I 2025-01-26 18:43:49,196] Trial 23 finished with value: 864.0 and parameters: {'C': 2.920977061172128, 'gamma': 9.89346500726782}. Best is trial 21 with value: 5280000.0.\n",
            "[I 2025-01-26 18:43:49,213] Trial 24 finished with value: 864.0 and parameters: {'C': 6.1504377018679826, 'gamma': 1.8318426300043116}. Best is trial 21 with value: 5280000.0.\n",
            "[I 2025-01-26 18:43:49,230] Trial 25 finished with value: 0.0 and parameters: {'C': 0.12913110962609126, 'gamma': 2.7124980248816124}. Best is trial 21 with value: 5280000.0.\n",
            "[I 2025-01-26 18:43:49,248] Trial 26 finished with value: 4293.0 and parameters: {'C': 1.5655160459213584, 'gamma': 0.8888715637529623}. Best is trial 21 with value: 5280000.0.\n",
            "[I 2025-01-26 18:43:49,265] Trial 27 finished with value: 2490368.0 and parameters: {'C': 3.462330438539661, 'gamma': 0.142934530629648}. Best is trial 21 with value: 5280000.0.\n",
            "[I 2025-01-26 18:43:49,284] Trial 28 finished with value: 864.0 and parameters: {'C': 2.5550882163217064, 'gamma': 1.1309190332598473}. Best is trial 21 with value: 5280000.0.\n",
            "[I 2025-01-26 18:43:49,302] Trial 29 finished with value: 864.0 and parameters: {'C': 1.4250162020708985, 'gamma': 3.5421572192113113}. Best is trial 21 with value: 5280000.0.\n",
            "[I 2025-01-26 18:43:49,319] Trial 30 finished with value: 864.0 and parameters: {'C': 0.7735756878039044, 'gamma': 2.810593207372208}. Best is trial 21 with value: 5280000.0.\n",
            "[I 2025-01-26 18:43:49,341] Trial 31 finished with value: 5280000.0 and parameters: {'C': 0.10826773936504813, 'gamma': 0.11488122897230565}. Best is trial 21 with value: 5280000.0.\n",
            "[I 2025-01-26 18:43:49,359] Trial 32 finished with value: 614656.0 and parameters: {'C': 0.16942189127113938, 'gamma': 0.8147411130341059}. Best is trial 21 with value: 5280000.0.\n",
            "[I 2025-01-26 18:43:49,376] Trial 33 finished with value: 3090277.0 and parameters: {'C': 0.9351873885459205, 'gamma': 0.10414561072042666}. Best is trial 21 with value: 5280000.0.\n",
            "[I 2025-01-26 18:43:49,392] Trial 34 finished with value: 864.0 and parameters: {'C': 1.707939755068053, 'gamma': 1.939589828197193}. Best is trial 21 with value: 5280000.0.\n",
            "[I 2025-01-26 18:43:49,409] Trial 35 finished with value: 864.0 and parameters: {'C': 0.6550580666792072, 'gamma': 1.4762077230503585}. Best is trial 21 with value: 5280000.0.\n",
            "[I 2025-01-26 18:43:49,426] Trial 36 finished with value: 115248.0 and parameters: {'C': 1.100217287807263, 'gamma': 0.7370708210838139}. Best is trial 21 with value: 5280000.0.\n",
            "[I 2025-01-26 18:43:49,443] Trial 37 finished with value: 0.0 and parameters: {'C': 0.11981455523077675, 'gamma': 2.370069553243207}. Best is trial 21 with value: 5280000.0.\n",
            "[I 2025-01-26 18:43:49,460] Trial 38 finished with value: 864.0 and parameters: {'C': 7.037311988536375, 'gamma': 1.4747211771597668}. Best is trial 21 with value: 5280000.0.\n",
            "[I 2025-01-26 18:43:49,478] Trial 39 finished with value: 192512.0 and parameters: {'C': 9.030577630186894, 'gamma': 0.6479029351072665}. Best is trial 21 with value: 5280000.0.\n",
            "[I 2025-01-26 18:43:49,497] Trial 40 finished with value: 864.0 and parameters: {'C': 1.9294933846237576, 'gamma': 7.350015479020885}. Best is trial 21 with value: 5280000.0.\n",
            "[I 2025-01-26 18:43:49,515] Trial 41 finished with value: 2555904.0 and parameters: {'C': 0.655829368367828, 'gamma': 0.1875328746964009}. Best is trial 21 with value: 5280000.0.\n",
            "[I 2025-01-26 18:43:49,533] Trial 42 finished with value: 3090277.0 and parameters: {'C': 1.1423922589578361, 'gamma': 0.13451329566586268}. Best is trial 21 with value: 5280000.0.\n",
            "[I 2025-01-26 18:43:49,550] Trial 43 finished with value: 912384.0 and parameters: {'C': 0.5969865305764841, 'gamma': 0.6921722712070828}. Best is trial 21 with value: 5280000.0.\n",
            "[I 2025-01-26 18:43:49,570] Trial 44 finished with value: 864.0 and parameters: {'C': 1.2581071081690538, 'gamma': 1.1923864548836138}. Best is trial 21 with value: 5280000.0.\n",
            "[I 2025-01-26 18:43:49,589] Trial 45 finished with value: 864.0 and parameters: {'C': 2.6892764174449972, 'gamma': 6.020310303056372}. Best is trial 21 with value: 5280000.0.\n",
            "[I 2025-01-26 18:43:49,609] Trial 46 finished with value: 864.0 and parameters: {'C': 4.376161935971567, 'gamma': 1.6654421887780864}. Best is trial 21 with value: 5280000.0.\n",
            "[I 2025-01-26 18:43:49,628] Trial 47 finished with value: 864.0 and parameters: {'C': 9.807022908708953, 'gamma': 4.229088805204044}. Best is trial 21 with value: 5280000.0.\n",
            "[I 2025-01-26 18:43:49,645] Trial 48 finished with value: 2126250.0 and parameters: {'C': 0.45214825661149494, 'gamma': 0.5929118496691972}. Best is trial 21 with value: 5280000.0.\n",
            "[I 2025-01-26 18:43:49,664] Trial 49 finished with value: 864.0 and parameters: {'C': 0.9150661734330118, 'gamma': 1.1156681515666873}. Best is trial 21 with value: 5280000.0.\n",
            "[I 2025-01-26 18:43:49,682] Trial 50 finished with value: 3807.0 and parameters: {'C': 0.3851949996537579, 'gamma': 2.538599014259182}. Best is trial 21 with value: 5280000.0.\n",
            "[I 2025-01-26 18:43:49,699] Trial 51 finished with value: 1613472.0 and parameters: {'C': 0.9842845000573638, 'gamma': 0.39895478435648724}. Best is trial 21 with value: 5280000.0.\n",
            "[I 2025-01-26 18:43:49,717] Trial 52 finished with value: 3090277.0 and parameters: {'C': 1.1170619393611692, 'gamma': 0.13566518032110303}. Best is trial 21 with value: 5280000.0.\n",
            "[I 2025-01-26 18:43:49,735] Trial 53 finished with value: 430000.0 and parameters: {'C': 1.795291858625483, 'gamma': 0.47157813981082064}. Best is trial 21 with value: 5280000.0.\n",
            "[I 2025-01-26 18:43:49,752] Trial 54 finished with value: 864.0 and parameters: {'C': 2.2979282175996483, 'gamma': 1.1549725595214406}. Best is trial 21 with value: 5280000.0.\n",
            "[I 2025-01-26 18:43:49,769] Trial 55 finished with value: 864.0 and parameters: {'C': 0.5375658269801025, 'gamma': 1.9702724876648494}. Best is trial 21 with value: 5280000.0.\n",
            "[I 2025-01-26 18:43:49,786] Trial 56 finished with value: 295245.0 and parameters: {'C': 1.2724695499013934, 'gamma': 0.5031547025119071}. Best is trial 21 with value: 5280000.0.\n",
            "[I 2025-01-26 18:43:49,803] Trial 57 finished with value: 1536640.0 and parameters: {'C': 5.692356913786645, 'gamma': 0.12218999350076348}. Best is trial 21 with value: 5280000.0.\n",
            "[I 2025-01-26 18:43:49,821] Trial 58 finished with value: 3006756.0 and parameters: {'C': 0.37445156577045013, 'gamma': 0.9398452863203319}. Best is trial 21 with value: 5280000.0.\n",
            "[I 2025-01-26 18:43:49,838] Trial 59 finished with value: 864.0 and parameters: {'C': 0.8675273017982773, 'gamma': 1.3554952312060424}. Best is trial 21 with value: 5280000.0.\n",
            "[I 2025-01-26 18:43:49,856] Trial 60 finished with value: 192512.0 and parameters: {'C': 3.243772502109845, 'gamma': 0.5262610603617301}. Best is trial 21 with value: 5280000.0.\n",
            "[I 2025-01-26 18:43:49,873] Trial 61 finished with value: 2555904.0 and parameters: {'C': 1.3700327191655366, 'gamma': 0.17895980507455847}. Best is trial 21 with value: 5280000.0.\n",
            "[I 2025-01-26 18:43:49,891] Trial 62 finished with value: 3173798.0 and parameters: {'C': 0.9886060341001226, 'gamma': 0.1442295784600281}. Best is trial 21 with value: 5280000.0.\n",
            "[I 2025-01-26 18:43:49,908] Trial 63 finished with value: 4197615.0 and parameters: {'C': 0.2647793204388526, 'gamma': 0.8792276519244913}. Best is trial 21 with value: 5280000.0.\n",
            "[I 2025-01-26 18:43:49,925] Trial 64 finished with value: 0.0 and parameters: {'C': 0.10463471850802264, 'gamma': 0.9249943148033908}. Best is trial 21 with value: 5280000.0.\n",
            "[I 2025-01-26 18:43:49,942] Trial 65 finished with value: 848.0 and parameters: {'C': 0.4545884252868872, 'gamma': 1.622578277678186}. Best is trial 21 with value: 5280000.0.\n",
            "[I 2025-01-26 18:43:49,960] Trial 66 finished with value: 864.0 and parameters: {'C': 1.8649694182418766, 'gamma': 5.1827047255896534}. Best is trial 21 with value: 5280000.0.\n",
            "[I 2025-01-26 18:43:49,977] Trial 67 finished with value: 33125.0 and parameters: {'C': 0.8193836959682382, 'gamma': 0.830821308326828}. Best is trial 21 with value: 5280000.0.\n",
            "[I 2025-01-26 18:43:49,995] Trial 68 finished with value: 282123.0 and parameters: {'C': 8.28078461366675, 'gamma': 0.45481518189096576}. Best is trial 21 with value: 5280000.0.\n",
            "[I 2025-01-26 18:43:50,012] Trial 69 finished with value: 864.0 and parameters: {'C': 1.5194355388846286, 'gamma': 1.29132840217506}. Best is trial 21 with value: 5280000.0.\n",
            "[I 2025-01-26 18:43:50,029] Trial 70 finished with value: 2985984.0 and parameters: {'C': 0.3650727011987953, 'gamma': 8.088836716377191}. Best is trial 21 with value: 5280000.0.\n",
            "[I 2025-01-26 18:43:50,046] Trial 71 finished with value: 3090277.0 and parameters: {'C': 1.0630298346502962, 'gamma': 0.12983431837993195}. Best is trial 21 with value: 5280000.0.\n",
            "[I 2025-01-26 18:43:50,064] Trial 72 finished with value: 0.0 and parameters: {'C': 0.11708921295102281, 'gamma': 3.0703007546689323}. Best is trial 21 with value: 5280000.0.\n",
            "[I 2025-01-26 18:43:50,081] Trial 73 finished with value: 1651888.0 and parameters: {'C': 0.7051002951985513, 'gamma': 0.4848850977380734}. Best is trial 21 with value: 5280000.0.\n",
            "[I 2025-01-26 18:43:50,098] Trial 74 finished with value: 69984.0 and parameters: {'C': 0.7735947091774233, 'gamma': 0.8199622350402636}. Best is trial 21 with value: 5280000.0.\n",
            "[I 2025-01-26 18:43:50,115] Trial 75 finished with value: 848.0 and parameters: {'C': 1.5291798337139584, 'gamma': 1.0121682644530259}. Best is trial 21 with value: 5280000.0.\n",
            "[I 2025-01-26 18:43:50,132] Trial 76 finished with value: 2555904.0 and parameters: {'C': 0.349749492990564, 'gamma': 0.4286335924564733}. Best is trial 21 with value: 5280000.0.\n",
            "[I 2025-01-26 18:43:50,149] Trial 77 finished with value: 115248.0 and parameters: {'C': 2.088615654629677, 'gamma': 0.7073551733686709}. Best is trial 21 with value: 5280000.0.\n",
            "[I 2025-01-26 18:43:50,166] Trial 78 finished with value: 864.0 and parameters: {'C': 7.1358224361489455, 'gamma': 1.8056516714275126}. Best is trial 21 with value: 5280000.0.\n",
            "[I 2025-01-26 18:43:50,184] Trial 79 finished with value: 1613472.0 and parameters: {'C': 1.168895284356823, 'gamma': 0.3226180540792754}. Best is trial 21 with value: 5280000.0.\n",
            "[I 2025-01-26 18:43:50,202] Trial 80 finished with value: 864.0 and parameters: {'C': 0.5496777671865257, 'gamma': 2.1324742711249294}. Best is trial 21 with value: 5280000.0.\n",
            "[I 2025-01-26 18:43:50,221] Trial 81 finished with value: 2490368.0 and parameters: {'C': 1.0816441479488972, 'gamma': 0.15792695837719492}. Best is trial 21 with value: 5280000.0.\n",
            "[I 2025-01-26 18:43:50,242] Trial 82 finished with value: 208896.0 and parameters: {'C': 0.9415961645980155, 'gamma': 0.6854431817788498}. Best is trial 21 with value: 5280000.0.\n",
            "[I 2025-01-26 18:43:50,261] Trial 83 finished with value: 3090277.0 and parameters: {'C': 0.2821076934724045, 'gamma': 0.330178286324467}. Best is trial 21 with value: 5280000.0.\n",
            "[I 2025-01-26 18:43:50,279] Trial 84 finished with value: 3257319.0 and parameters: {'C': 1.6718453457330176, 'gamma': 0.10239772790129573}. Best is trial 21 with value: 5280000.0.\n",
            "[I 2025-01-26 18:43:50,299] Trial 85 finished with value: 848.0 and parameters: {'C': 2.436312074926139, 'gamma': 1.1042338223912578}. Best is trial 21 with value: 5280000.0.\n",
            "[I 2025-01-26 18:43:50,317] Trial 86 finished with value: 314928.0 and parameters: {'C': 1.7021057310366383, 'gamma': 0.6253168764017603}. Best is trial 21 with value: 5280000.0.\n",
            "[I 2025-01-26 18:43:50,335] Trial 87 finished with value: 864.0 and parameters: {'C': 4.466647680683884, 'gamma': 1.3223444502986388}. Best is trial 21 with value: 5280000.0.\n",
            "[I 2025-01-26 18:43:50,355] Trial 88 finished with value: 68688.0 and parameters: {'C': 0.6081840014358808, 'gamma': 0.8906106790625243}. Best is trial 21 with value: 5280000.0.\n",
            "[I 2025-01-26 18:43:50,373] Trial 89 finished with value: 1256684.0 and parameters: {'C': 1.3644446057729278, 'gamma': 0.34362537733058246}. Best is trial 21 with value: 5280000.0.\n",
            "[I 2025-01-26 18:43:50,392] Trial 90 finished with value: 196608.0 and parameters: {'C': 2.012127800216007, 'gamma': 0.6403442928586432}. Best is trial 21 with value: 5280000.0.\n",
            "[I 2025-01-26 18:43:50,410] Trial 91 finished with value: 3006756.0 and parameters: {'C': 1.1661679058519865, 'gamma': 0.10267470427408622}. Best is trial 21 with value: 5280000.0.\n",
            "[I 2025-01-26 18:43:50,429] Trial 92 finished with value: 2424832.0 and parameters: {'C': 0.7556223263956579, 'gamma': 0.11155234000731595}. Best is trial 21 with value: 5280000.0.\n",
            "[I 2025-01-26 18:43:50,448] Trial 93 finished with value: 3687936.0 and parameters: {'C': 0.1043086122545358, 'gamma': 0.3773670890251424}. Best is trial 21 with value: 5280000.0.\n",
            "[I 2025-01-26 18:43:50,465] Trial 94 finished with value: 3090277.0 and parameters: {'C': 0.2724534687166359, 'gamma': 0.34134638004683215}. Best is trial 21 with value: 5280000.0.\n",
            "[I 2025-01-26 18:43:50,484] Trial 95 finished with value: 0.0 and parameters: {'C': 0.10301619991152247, 'gamma': 1.002475069092205}. Best is trial 21 with value: 5280000.0.\n",
            "[I 2025-01-26 18:43:50,502] Trial 96 finished with value: 1651888.0 and parameters: {'C': 0.5747430073773705, 'gamma': 0.6054616153229045}. Best is trial 21 with value: 5280000.0.\n",
            "[I 2025-01-26 18:43:50,520] Trial 97 finished with value: 864.0 and parameters: {'C': 0.9275894091676737, 'gamma': 1.534338267152731}. Best is trial 21 with value: 5280000.0.\n",
            "[I 2025-01-26 18:43:50,539] Trial 98 finished with value: 2752512.0 and parameters: {'C': 0.4837243695525978, 'gamma': 0.371651531707293}. Best is trial 21 with value: 5280000.0.\n",
            "[I 2025-01-26 18:43:50,560] Trial 99 finished with value: 864.0 and parameters: {'C': 9.48702407761333, 'gamma': 6.2890035333307495}. Best is trial 21 with value: 5280000.0.\n"
          ]
        }
      ],
      "source": [
        "import optuna\n",
        "import math\n",
        "\n",
        "# fine tune the SVM model to maximize the number of true positives\n",
        "def objective(trial):\n",
        "    C = trial.suggest_float(\"C\", 0.1, 10)\n",
        "    gamma = trial.suggest_float(\"gamma\", 0.1, 10)\n",
        "    model = SVC(class_weight={0:1, 1:3.8}, C=C, gamma=gamma).fit(X_train, y_train)\n",
        "    y_pred = model.predict(X_test)\n",
        "    tn, fp, fn, tp = confusion_matrix(y_test, y_pred).ravel()\n",
        "    return math.pow(tp, 4)*tn\n",
        "\n",
        "study = optuna.create_study(direction=\"maximize\")\n",
        "study.optimize(objective, n_trials=100)"
      ]
    },
    {
      "cell_type": "code",
      "execution_count": 20,
      "metadata": {},
      "outputs": [
        {
          "data": {
            "text/plain": [
              "{'C': 0.12116472424736549, 'gamma': 0.12495255175499978}"
            ]
          },
          "execution_count": 20,
          "metadata": {},
          "output_type": "execute_result"
        }
      ],
      "source": [
        "study.best_params"
      ]
    },
    {
      "cell_type": "code",
      "execution_count": 21,
      "metadata": {},
      "outputs": [
        {
          "name": "stderr",
          "output_type": "stream",
          "text": [
            "2025/01/26 18:44:01 INFO mlflow.tracking._tracking_service.client: 🏃 View run amiable_nose_n64ql38q at: https://francecentral.api.azureml.ms/mlflow/v2.0/subscriptions/f95df08c-a99c-462f-b65c-fe6151267601/resourceGroups/breast_cancer/providers/Microsoft.MachineLearningServices/workspaces/mlw-breast_cancer/#/experiments/0e6900f7-33c0-40cf-a1fd-6ad680dbcaf8/runs/c1ae077b-4377-4af4-99b6-f19dc3a9c823.\n",
            "2025/01/26 18:44:01 INFO mlflow.tracking._tracking_service.client: 🧪 View experiment at: https://francecentral.api.azureml.ms/mlflow/v2.0/subscriptions/f95df08c-a99c-462f-b65c-fe6151267601/resourceGroups/breast_cancer/providers/Microsoft.MachineLearningServices/workspaces/mlw-breast_cancer/#/experiments/0e6900f7-33c0-40cf-a1fd-6ad680dbcaf8.\n"
          ]
        },
        {
          "data": {
            "image/png": "[encoded data removed]",
            "text/plain": [
              "<Figure size 600x400 with 2 Axes>"
            ]
          },
          "metadata": {},
          "output_type": "display_data"
        }
      ],
      "source": [
        "with mlflow.start_run():\n",
        "    # train the SVM model with the best parameters (+ uses class_weight instead of resampling)\n",
        "    model = SVC(class_weight={0:1, 1:3.8}, **study.best_params).fit(X_train, y_train)\n",
        "\n",
        "    # evaluate the model\n",
        "    y_pred = model.predict(X_test)\n",
        "\n",
        "    acc = np.average(y_pred == y_test)\n",
        "    auc = roc_auc_score(y_test, y_pred)\n",
        "\n",
        "    # log metrics\n",
        "    mlflow.log_param(\"model\", \"svm\")\n",
        "    mlflow.log_metric(\"Accuracy\", acc)\n",
        "    mlflow.log_metric(\"ROC_AUC\", auc)\n",
        "\n",
        "    fig = plt.figure(figsize=(6, 4)) \n",
        "    sns.heatmap(confusion_matrix(y_test, y_pred, normalize='true'), annot=True, cmap=\"coolwarm\")\n",
        "    plt.xlabel('Predicted')\n",
        "    plt.ylabel('Actual')\n",
        "    plt.title('Confusion Matrix')\n",
        "    mlflow.log_figure(fig, \"confusion_matrix.png\")"
      ]
    },
    {
      "cell_type": "code",
      "execution_count": 22,
      "metadata": {
        "gather": {
          "logged": 1737339138912
        }
      },
      "outputs": [
        {
          "data": {
            "text/html": [
              "<div>\n",
              "<style scoped>\n",
              "    .dataframe tbody tr th:only-of-type {\n",
              "        vertical-align: middle;\n",
              "    }\n",
              "\n",
              "    .dataframe tbody tr th {\n",
              "        vertical-align: top;\n",
              "    }\n",
              "\n",
              "    .dataframe thead th {\n",
              "        text-align: right;\n",
              "    }\n",
              "</style>\n",
              "<table border=\"1\" class=\"dataframe\">\n",
              "  <thead>\n",
              "    <tr style=\"text-align: right;\">\n",
              "      <th></th>\n",
              "      <th>run_id</th>\n",
              "      <th>experiment_id</th>\n",
              "      <th>status</th>\n",
              "      <th>artifact_uri</th>\n",
              "      <th>start_time</th>\n",
              "      <th>end_time</th>\n",
              "      <th>metrics.ROC_AUC</th>\n",
              "      <th>metrics.Accuracy</th>\n",
              "      <th>params.model</th>\n",
              "      <th>params.C</th>\n",
              "      <th>params.gamma</th>\n",
              "      <th>tags.mlflow.rootRunId</th>\n",
              "      <th>tags.mlflow.runName</th>\n",
              "      <th>tags.mlflow.user</th>\n",
              "      <th>tags.mlflow.job</th>\n",
              "    </tr>\n",
              "  </thead>\n",
              "  <tbody>\n",
              "    <tr>\n",
              "      <th>4</th>\n",
              "      <td>c1ae077b-4377-4af4-99b6-f19dc3a9c823</td>\n",
              "      <td>0e6900f7-33c0-40cf-a1fd-6ad680dbcaf8</td>\n",
              "      <td>FINISHED</td>\n",
              "      <td></td>\n",
              "      <td>2025-01-26 18:43:59.189000+00:00</td>\n",
              "      <td>2025-01-26 18:44:01.642000+00:00</td>\n",
              "      <td>0.651786</td>\n",
              "      <td>0.630952</td>\n",
              "      <td>svm_best</td>\n",
              "      <td>0.12116472424736549</td>\n",
              "      <td>0.12495255175499978</td>\n",
              "      <td>c1ae077b-4377-4af4-99b6-f19dc3a9c823</td>\n",
              "      <td>amiable_nose_n64ql38q</td>\n",
              "      <td>Noam CHRETIENNOT</td>\n",
              "      <td>None</td>\n",
              "    </tr>\n",
              "    <tr>\n",
              "      <th>2</th>\n",
              "      <td>c2e06aa6-7377-4cb7-887b-d67237ae0ec9</td>\n",
              "      <td>0e6900f7-33c0-40cf-a1fd-6ad680dbcaf8</td>\n",
              "      <td>FINISHED</td>\n",
              "      <td></td>\n",
              "      <td>2025-01-26 18:43:25.581000+00:00</td>\n",
              "      <td>2025-01-26 18:43:27.595000+00:00</td>\n",
              "      <td>0.642857</td>\n",
              "      <td>0.642857</td>\n",
              "      <td>svm</td>\n",
              "      <td>None</td>\n",
              "      <td>None</td>\n",
              "      <td>c2e06aa6-7377-4cb7-887b-d67237ae0ec9</td>\n",
              "      <td>boring_sun_34vdvhf1</td>\n",
              "      <td>Noam CHRETIENNOT</td>\n",
              "      <td>SVM</td>\n",
              "    </tr>\n",
              "    <tr>\n",
              "      <th>3</th>\n",
              "      <td>70c73254-017e-402e-9022-7e5abad34e57</td>\n",
              "      <td>0e6900f7-33c0-40cf-a1fd-6ad680dbcaf8</td>\n",
              "      <td>FINISHED</td>\n",
              "      <td></td>\n",
              "      <td>2025-01-26 18:43:35.754000+00:00</td>\n",
              "      <td>2025-01-26 18:43:38.032000+00:00</td>\n",
              "      <td>0.580357</td>\n",
              "      <td>0.630952</td>\n",
              "      <td>random forest</td>\n",
              "      <td>None</td>\n",
              "      <td>None</td>\n",
              "      <td>70c73254-017e-402e-9022-7e5abad34e57</td>\n",
              "      <td>gray_house_9nmjn8ws</td>\n",
              "      <td>Noam CHRETIENNOT</td>\n",
              "      <td>None</td>\n",
              "    </tr>\n",
              "    <tr>\n",
              "      <th>0</th>\n",
              "      <td>b21a2866-a6ea-487b-a050-5b700b611fc6</td>\n",
              "      <td>0e6900f7-33c0-40cf-a1fd-6ad680dbcaf8</td>\n",
              "      <td>FINISHED</td>\n",
              "      <td></td>\n",
              "      <td>2025-01-26 18:43:09.312000+00:00</td>\n",
              "      <td>2025-01-26 18:43:13.412000+00:00</td>\n",
              "      <td>0.553571</td>\n",
              "      <td>0.452381</td>\n",
              "      <td>logistic regression base</td>\n",
              "      <td>None</td>\n",
              "      <td>None</td>\n",
              "      <td>b21a2866-a6ea-487b-a050-5b700b611fc6</td>\n",
              "      <td>tough_band_dzq90gsq</td>\n",
              "      <td>Noam CHRETIENNOT</td>\n",
              "      <td>None</td>\n",
              "    </tr>\n",
              "    <tr>\n",
              "      <th>1</th>\n",
              "      <td>51a2a625-ab93-4c6b-91c6-6078f1256e2e</td>\n",
              "      <td>0e6900f7-33c0-40cf-a1fd-6ad680dbcaf8</td>\n",
              "      <td>FINISHED</td>\n",
              "      <td></td>\n",
              "      <td>2025-01-26 18:43:17.329000+00:00</td>\n",
              "      <td>2025-01-26 18:43:19.931000+00:00</td>\n",
              "      <td>0.544643</td>\n",
              "      <td>0.630952</td>\n",
              "      <td>xgboost</td>\n",
              "      <td>None</td>\n",
              "      <td>None</td>\n",
              "      <td>51a2a625-ab93-4c6b-91c6-6078f1256e2e</td>\n",
              "      <td>ivory_coconut_h6cdq3ph</td>\n",
              "      <td>Noam CHRETIENNOT</td>\n",
              "      <td>None</td>\n",
              "    </tr>\n",
              "  </tbody>\n",
              "</table>\n",
              "</div>"
            ],
            "text/plain": [
              "                                 run_id                         experiment_id  \\\n",
              "4  c1ae077b-4377-4af4-99b6-f19dc3a9c823  0e6900f7-33c0-40cf-a1fd-6ad680dbcaf8   \n",
              "2  c2e06aa6-7377-4cb7-887b-d67237ae0ec9  0e6900f7-33c0-40cf-a1fd-6ad680dbcaf8   \n",
              "3  70c73254-017e-402e-9022-7e5abad34e57  0e6900f7-33c0-40cf-a1fd-6ad680dbcaf8   \n",
              "0  b21a2866-a6ea-487b-a050-5b700b611fc6  0e6900f7-33c0-40cf-a1fd-6ad680dbcaf8   \n",
              "1  51a2a625-ab93-4c6b-91c6-6078f1256e2e  0e6900f7-33c0-40cf-a1fd-6ad680dbcaf8   \n",
              "\n",
              "     status artifact_uri                       start_time  \\\n",
              "4  FINISHED              2025-01-26 18:43:59.189000+00:00   \n",
              "2  FINISHED              2025-01-26 18:43:25.581000+00:00   \n",
              "3  FINISHED              2025-01-26 18:43:35.754000+00:00   \n",
              "0  FINISHED              2025-01-26 18:43:09.312000+00:00   \n",
              "1  FINISHED              2025-01-26 18:43:17.329000+00:00   \n",
              "\n",
              "                          end_time  metrics.ROC_AUC  metrics.Accuracy  \\\n",
              "4 2025-01-26 18:44:01.642000+00:00         0.651786          0.630952   \n",
              "2 2025-01-26 18:43:27.595000+00:00         0.642857          0.642857   \n",
              "3 2025-01-26 18:43:38.032000+00:00         0.580357          0.630952   \n",
              "0 2025-01-26 18:43:13.412000+00:00         0.553571          0.452381   \n",
              "1 2025-01-26 18:43:19.931000+00:00         0.544643          0.630952   \n",
              "\n",
              "               params.model             params.C         params.gamma  \\\n",
              "4                  svm_best  0.12116472424736549  0.12495255175499978   \n",
              "2                       svm                 None                 None   \n",
              "3             random forest                 None                 None   \n",
              "0  logistic regression base                 None                 None   \n",
              "1                   xgboost                 None                 None   \n",
              "\n",
              "                  tags.mlflow.rootRunId     tags.mlflow.runName  \\\n",
              "4  c1ae077b-4377-4af4-99b6-f19dc3a9c823   amiable_nose_n64ql38q   \n",
              "2  c2e06aa6-7377-4cb7-887b-d67237ae0ec9     boring_sun_34vdvhf1   \n",
              "3  70c73254-017e-402e-9022-7e5abad34e57     gray_house_9nmjn8ws   \n",
              "0  b21a2866-a6ea-487b-a050-5b700b611fc6     tough_band_dzq90gsq   \n",
              "1  51a2a625-ab93-4c6b-91c6-6078f1256e2e  ivory_coconut_h6cdq3ph   \n",
              "\n",
              "   tags.mlflow.user tags.mlflow.job  \n",
              "4  Noam CHRETIENNOT            None  \n",
              "2  Noam CHRETIENNOT             SVM  \n",
              "3  Noam CHRETIENNOT            None  \n",
              "0  Noam CHRETIENNOT            None  \n",
              "1  Noam CHRETIENNOT            None  "
            ]
          },
          "execution_count": 22,
          "metadata": {},
          "output_type": "execute_result"
        }
      ],
      "source": [
        "# Search for all runs\n",
        "runs = mlflow.search_runs()\n",
        "\n",
        "# order by ROC_AUC\n",
        "runs = runs.sort_values(by=[\"metrics.ROC_AUC\"], ascending=False)\n",
        "runs"
      ]
    },
    {
      "cell_type": "markdown",
      "metadata": {},
      "source": [
        "# Create a pipeline to train the model"
      ]
    },
    {
      "cell_type": "code",
      "execution_count": 23,
      "metadata": {},
      "outputs": [],
      "source": [
        "from azure.ai.ml import Input\n",
        "from azure.ai.ml.constants import AssetTypes\n",
        "from azure.ai.ml.dsl import pipeline\n",
        "from azure.ai.ml import load_component\n",
        "\n",
        "parent_dir = \"\"\n",
        "\n",
        "clean_data = load_component(source=parent_dir + \"envs/clean-data.yml\")\n",
        "train_logistic_regression = load_component(source=parent_dir + \"envs/train-model.yml\")\n",
        "\n",
        "@pipeline()\n",
        "def cancer_classification(pipeline_job_input):\n",
        "    cleaned_data = clean_data(input_data=pipeline_job_input)\n",
        "    train_model = train_logistic_regression(training_data=cleaned_data.outputs.output_data)\n",
        "\n",
        "    # pipeline ports\n",
        "    return {\n",
        "        \"pipeline_job_transformed_data\": cleaned_data.outputs.output_data,\n",
        "        \"pipeline_job_trained_model\": train_model.outputs.model,\n",
        "    }\n",
        "\n",
        "pipeline_job = cancer_classification(Input(type=AssetTypes.URI_FILE, path=\"azureml:cancer-data:1\"))"
      ]
    },
    {
      "cell_type": "code",
      "execution_count": 24,
      "metadata": {},
      "outputs": [
        {
          "name": "stderr",
          "output_type": "stream",
          "text": [
            "Class AutoDeleteSettingSchema: This is an experimental class, and may change at any time. Please see https://aka.ms/azuremlexperimental for more information.\n",
            "Class AutoDeleteConditionSchema: This is an experimental class, and may change at any time. Please see https://aka.ms/azuremlexperimental for more information.\n",
            "Class BaseAutoDeleteSettingSchema: This is an experimental class, and may change at any time. Please see https://aka.ms/azuremlexperimental for more information.\n",
            "Class IntellectualPropertySchema: This is an experimental class, and may change at any time. Please see https://aka.ms/azuremlexperimental for more information.\n",
            "Class ProtectionLevelSchema: This is an experimental class, and may change at any time. Please see https://aka.ms/azuremlexperimental for more information.\n",
            "Class BaseIntellectualPropertySchema: This is an experimental class, and may change at any time. Please see https://aka.ms/azuremlexperimental for more information.\n"
          ]
        },
        {
          "name": "stdout",
          "output_type": "stream",
          "text": [
            "display_name: cancer_classification\n",
            "type: pipeline\n",
            "inputs:\n",
            "  pipeline_job_input:\n",
            "    type: uri_file\n",
            "    path: azureml:cancer-data:1\n",
            "outputs:\n",
            "  pipeline_job_transformed_data:\n",
            "    mode: upload\n",
            "    type: uri_folder\n",
            "  pipeline_job_trained_model:\n",
            "    mode: upload\n",
            "    type: mlflow_model\n",
            "jobs:\n",
            "  cleaned_data:\n",
            "    type: command\n",
            "    inputs:\n",
            "      input_data:\n",
            "        path: ${{parent.inputs.pipeline_job_input}}\n",
            "    outputs:\n",
            "      output_data: ${{parent.outputs.pipeline_job_transformed_data}}\n",
            "    component:\n",
            "      $schema: https://azuremlschemas.azureedge.net/latest/commandComponent.schema.json\n",
            "      name: clean_data\n",
            "      version: '1'\n",
            "      display_name: clean training data\n",
            "      type: command\n",
            "      inputs:\n",
            "        input_data:\n",
            "          type: uri_file\n",
            "      outputs:\n",
            "        output_data:\n",
            "          type: uri_folder\n",
            "      command: python clean-data.py  --input_data ${{inputs.input_data}} --output_data\n",
            "        ${{outputs.output_data}}\n",
            "      environment: azureml:AzureML-sklearn-0.24-ubuntu18.04-py37-cpu@latest\n",
            "      code: /mnt/batch/tasks/shared/LS_root/mounts/clusters/ci-cancer-all/code/Users/noam.chretiennot/cloud-DP100-project/src\n",
            "      is_deterministic: true\n",
            "  train_model:\n",
            "    type: command\n",
            "    inputs:\n",
            "      training_data:\n",
            "        path: ${{parent.jobs.cleaned_data.outputs.output_data}}\n",
            "    outputs:\n",
            "      model: ${{parent.outputs.pipeline_job_trained_model}}\n",
            "    component:\n",
            "      $schema: https://azuremlschemas.azureedge.net/latest/commandComponent.schema.json\n",
            "      name: train_model\n",
            "      version: '1'\n",
            "      display_name: Train a SVM model\n",
            "      type: command\n",
            "      inputs:\n",
            "        training_data:\n",
            "          type: uri_folder\n",
            "        recurrence_weight:\n",
            "          type: number\n",
            "          default: '3.8'\n",
            "        c:\n",
            "          type: number\n",
            "          default: '0.1'\n",
            "        gamma:\n",
            "          type: number\n",
            "          default: '0.1035'\n",
            "      outputs:\n",
            "        model:\n",
            "          type: mlflow_model\n",
            "      command: python train-model.py  --training_data ${{inputs.training_data}}  --recurrence_weight\n",
            "        ${{inputs.recurrence_weight}}  --c ${{inputs.c}}  --gamma ${{inputs.gamma}}  --model\n",
            "        ${{outputs.model}}\n",
            "      environment: azureml:AzureML-sklearn-0.24-ubuntu18.04-py37-cpu@latest\n",
            "      code: /mnt/batch/tasks/shared/LS_root/mounts/clusters/ci-cancer-all/code/Users/noam.chretiennot/cloud-DP100-project/src\n",
            "      is_deterministic: true\n",
            "settings:\n",
            "  default_datastore: azureml:workspaceblobstore\n",
            "  default_compute: azureml:aml-cluster\n",
            "\n"
          ]
        }
      ],
      "source": [
        "# change the output mode\n",
        "pipeline_job.outputs.pipeline_job_transformed_data.mode = \"upload\"\n",
        "pipeline_job.outputs.pipeline_job_trained_model.mode = \"upload\"\n",
        "# set pipeline level compute\n",
        "pipeline_job.settings.default_compute = \"aml-cluster\"\n",
        "# set pipeline level datastore\n",
        "pipeline_job.settings.default_datastore = \"workspaceblobstore\"\n",
        "\n",
        "# print the pipeline job again to review the changes\n",
        "print(pipeline_job)"
      ]
    },
    {
      "cell_type": "code",
      "execution_count": 25,
      "metadata": {},
      "outputs": [
        {
          "name": "stderr",
          "output_type": "stream",
          "text": [
            "\u001b[32mUploading src (0.0 MBs): 100%|██████████████████████████████████████████████████████████████████████████████████████████████████████████████████████████████████████████████████████████████████████████████████████████████████████████████████████████████████████████████████████████████████████████████████████████████████████████████████████████████████████████████████████████████████████████████████████████████████████████████████████████████████████████████████████████████████████████████████████████████████████████████████████████████████████████████████████████████████████████████████████████████████████████████████████████████████████████████████████████████████████████████████████████████████████████████████████████████████████████████████████████████████████████████████████████████████████████████████████████████████████████████████████████████████████████████████████████████████████████████████████████████████████████████████████████████████| 4737/4737 [00:00<00:00, 41545.56it/s]\u001b[0m\n",
            "\u001b[39m\n",
            "\n",
            "pathOnCompute is not a known attribute of class <class 'azure.ai.ml._restclient.v2023_04_01_preview.models._models_py3.UriFolderJobOutput'> and will be ignored\n",
            "pathOnCompute is not a known attribute of class <class 'azure.ai.ml._restclient.v2023_04_01_preview.models._models_py3.MLFlowModelJobOutput'> and will be ignored\n"
          ]
        },
        {
          "data": {
            "text/html": [
              "<table style=\"width:100%\"><tr><th>Experiment</th><th>Name</th><th>Type</th><th>Status</th><th>Details Page</th></tr><tr><td>pipeline_cancer</td><td>affable_brain_vn85x8g7h1</td><td>pipeline</td><td>NotStarted</td><td><a href=\"https://ml.azure.com/runs/affable_brain_vn85x8g7h1?wsid=/subscriptions/f95df08c-a99c-462f-b65c-fe6151267601/resourcegroups/breast_cancer/workspaces/mlw-breast_cancer&amp;tid=413600cf-bd4e-4c7c-8a61-69e73cddf731\" target=\"_blank\" rel=\"noopener\">Link to Azure Machine Learning studio</a></td></tr></table>"
            ],
            "text/plain": [
              "PipelineJob({'inputs': {'pipeline_job_input': <azure.ai.ml.entities._job.pipeline._io.base.PipelineInput object at 0x7fb5a2ee4eb0>}, 'outputs': {'pipeline_job_transformed_data': <azure.ai.ml.entities._job.pipeline._io.base.PipelineOutput object at 0x7fb5a2ee4f70>, 'pipeline_job_trained_model': <azure.ai.ml.entities._job.pipeline._io.base.PipelineOutput object at 0x7fb5a2ee55a0>}, 'jobs': {}, 'component': PipelineComponent({'latest_version': None, 'intellectual_property': None, 'auto_increment_version': False, 'source': 'REMOTE.WORKSPACE.JOB', 'is_anonymous': True, 'auto_delete_setting': None, 'name': 'azureml_anonymous', 'description': None, 'tags': {}, 'properties': {}, 'print_as_yaml': False, 'id': None, 'Resource__source_path': None, 'base_path': '/mnt/batch/tasks/shared/LS_root/mounts/clusters/ci-cancer-all/code/Users/noam.chretiennot/cloud-DP100-project', 'creation_context': None, 'serialize': <msrest.serialization.Serializer object at 0x7fb5a2ee4730>, 'version': '1', 'schema': None, 'type': 'pipeline', 'display_name': 'cancer_classification', 'is_deterministic': None, 'inputs': {'pipeline_job_input': {}}, 'outputs': {'pipeline_job_transformed_data': {}, 'pipeline_job_trained_model': {}}, 'yaml_str': None, 'other_parameter': {}, 'jobs': {'cleaned_data': Command({'parameters': {}, 'init': False, 'name': 'cleaned_data', 'type': 'command', 'status': None, 'log_files': None, 'description': None, 'tags': {}, 'properties': {}, 'print_as_yaml': False, 'id': None, 'Resource__source_path': '', 'base_path': '/mnt/batch/tasks/shared/LS_root/mounts/clusters/ci-cancer-all/code/Users/noam.chretiennot/cloud-DP100-project', 'creation_context': None, 'serialize': <msrest.serialization.Serializer object at 0x7fb5a2ee5570>, 'allowed_keys': {}, 'key_restriction': False, 'logger': <TraceLogger attr_dict (WARNING)>, 'display_name': None, 'experiment_name': None, 'compute': None, 'services': None, 'comment': None, 'job_inputs': {'input_data': '${{parent.inputs.pipeline_job_input}}'}, 'job_outputs': {'output_data': '${{parent.outputs.pipeline_job_transformed_data}}'}, 'inputs': {'input_data': <azure.ai.ml.entities._job.pipeline._io.base.NodeInput object at 0x7fb5a2ee5330>}, 'outputs': {'output_data': <azure.ai.ml.entities._job.pipeline._io.base.NodeOutput object at 0x7fb5a2ee5150>}, 'component': 'azureml_anonymous:b27f761c-727d-41b3-af8a-e2159e50e114', 'referenced_control_flow_node_instance_id': None, 'kwargs': {'services': None}, 'instance_id': '2ea4e88c-0f52-48f2-9f30-00adb95e3b63', 'source': 'YAML.COMPONENT', 'validate_required_input_not_provided': True, 'limits': None, 'identity': None, 'distribution': None, 'environment_variables': {}, 'environment': None, 'resources': None, 'queue_settings': None, 'swept': False}), 'train_model': Command({'parameters': {}, 'init': False, 'name': 'train_model', 'type': 'command', 'status': None, 'log_files': None, 'description': None, 'tags': {}, 'properties': {}, 'print_as_yaml': False, 'id': None, 'Resource__source_path': '', 'base_path': '/mnt/batch/tasks/shared/LS_root/mounts/clusters/ci-cancer-all/code/Users/noam.chretiennot/cloud-DP100-project', 'creation_context': None, 'serialize': <msrest.serialization.Serializer object at 0x7fb5a2ee4e20>, 'allowed_keys': {}, 'key_restriction': False, 'logger': <TraceLogger attr_dict (WARNING)>, 'display_name': None, 'experiment_name': None, 'compute': None, 'services': None, 'comment': None, 'job_inputs': {'training_data': '${{parent.jobs.cleaned_data.outputs.output_data}}'}, 'job_outputs': {'model': '${{parent.outputs.pipeline_job_trained_model}}'}, 'inputs': {'training_data': <azure.ai.ml.entities._job.pipeline._io.base.NodeInput object at 0x7fb5a2ee5360>}, 'outputs': {'model': <azure.ai.ml.entities._job.pipeline._io.base.NodeOutput object at 0x7fb5a2ee5090>}, 'component': 'azureml_anonymous:9e46ed19-19a0-440e-8897-e71ceb4e9876', 'referenced_control_flow_node_instance_id': None, 'kwargs': {'services': None}, 'instance_id': 'a2169990-4927-43d5-835f-913d12e1c9e3', 'source': 'YAML.COMPONENT', 'validate_required_input_not_provided': True, 'limits': None, 'identity': None, 'distribution': None, 'environment_variables': {}, 'environment': None, 'resources': None, 'queue_settings': None, 'swept': False})}, 'job_types': {'command': 2}, 'job_sources': {'YAML.COMPONENT': 2}, 'source_job_id': None}), 'type': 'pipeline', 'status': 'NotStarted', 'log_files': None, 'name': 'affable_brain_vn85x8g7h1', 'description': None, 'tags': {}, 'properties': {}, 'print_as_yaml': False, 'id': '/subscriptions/f95df08c-a99c-462f-b65c-fe6151267601/resourceGroups/breast_cancer/providers/Microsoft.MachineLearningServices/workspaces/mlw-breast_cancer/jobs/affable_brain_vn85x8g7h1', 'Resource__source_path': '', 'base_path': '/mnt/batch/tasks/shared/LS_root/mounts/clusters/ci-cancer-all/code/Users/noam.chretiennot/cloud-DP100-project', 'creation_context': <azure.ai.ml.entities._system_data.SystemData object at 0x7fb5a2ee4b80>, 'serialize': <msrest.serialization.Serializer object at 0x7fb5a2ee4fd0>, 'display_name': 'cancer_classification', 'experiment_name': 'pipeline_cancer', 'compute': None, 'services': {'Tracking': {'endpoint': 'azureml://francecentral.api.azureml.ms/mlflow/v1.0/subscriptions/f95df08c-a99c-462f-b65c-fe6151267601/resourceGroups/breast_cancer/providers/Microsoft.MachineLearningServices/workspaces/mlw-breast_cancer?', 'type': 'Tracking'}, 'Studio': {'endpoint': 'https://ml.azure.com/runs/affable_brain_vn85x8g7h1?wsid=/subscriptions/f95df08c-a99c-462f-b65c-fe6151267601/resourcegroups/breast_cancer/workspaces/mlw-breast_cancer&tid=413600cf-bd4e-4c7c-8a61-69e73cddf731', 'type': 'Studio'}}, 'settings': {}, 'identity': None, 'default_code': None, 'default_environment': None})"
            ]
          },
          "execution_count": 25,
          "metadata": {},
          "output_type": "execute_result"
        }
      ],
      "source": [
        "# upload the pipeline job\n",
        "pipeline_job = ml_client.jobs.create_or_update(\n",
        "    pipeline_job, experiment_name=\"pipeline_cancer\"\n",
        ")\n",
        "\n",
        "# execute the pipeline job\n",
        "pipeline_job"
      ]
    },
    {
      "cell_type": "markdown",
      "metadata": {},
      "source": [
        "# Deploy the models to endpoint"
      ]
    },
    {
      "cell_type": "markdown",
      "metadata": {},
      "source": [
        "## Create the endpoint"
      ]
    },
    {
      "cell_type": "code",
      "execution_count": 27,
      "metadata": {},
      "outputs": [],
      "source": [
        "from azure.ai.ml.entities import ManagedOnlineEndpoint\n",
        "\n",
        "online_endpoint_name = \"endpoint-cancer\"\n",
        "\n",
        "endpoint = ManagedOnlineEndpoint(\n",
        "    name=online_endpoint_name,\n",
        "    description=\"Online endpoint for MLflow cancer model\",\n",
        "    auth_mode=\"key\",\n",
        ")"
      ]
    },
    {
      "cell_type": "code",
      "execution_count": 29,
      "metadata": {},
      "outputs": [
        {
          "data": {
            "text/plain": [
              "ManagedOnlineEndpoint({'public_network_access': 'Enabled', 'provisioning_state': 'Succeeded', 'scoring_uri': 'https://endpoint-cancer.francecentral.inference.ml.azure.com/score', 'openapi_uri': 'https://endpoint-cancer.francecentral.inference.ml.azure.com/swagger.json', 'name': 'endpoint-cancer', 'description': 'Online endpoint for MLflow cancer model', 'tags': {}, 'properties': {'createdBy': 'Noam CHRETIENNOT', 'createdAt': '2025-01-26T19:01:08.593274+0000', 'lastModifiedAt': '2025-01-26T19:01:08.593274+0000', 'azureml.onlineendpointid': '/subscriptions/f95df08c-a99c-462f-b65c-fe6151267601/resourcegroups/breast_cancer/providers/microsoft.machinelearningservices/workspaces/mlw-breast_cancer/onlineendpoints/endpoint-cancer', 'AzureAsyncOperationUri': 'https://management.azure.com/subscriptions/f95df08c-a99c-462f-b65c-fe6151267601/providers/Microsoft.MachineLearningServices/locations/francecentral/mfeOperationsStatus/oeidp:4686e71d-6618-4df2-b0cb-7d9915eed2ad:6c95e741-5904-4ffc-ad21-5369ab80cfa5?api-version=2022-02-01-preview'}, 'print_as_yaml': False, 'id': '/subscriptions/f95df08c-a99c-462f-b65c-fe6151267601/resourceGroups/breast_cancer/providers/Microsoft.MachineLearningServices/workspaces/mlw-breast_cancer/onlineEndpoints/endpoint-cancer', 'Resource__source_path': '', 'base_path': '/mnt/batch/tasks/shared/LS_root/mounts/clusters/ci-cancer-all/code/Users/noam.chretiennot/cloud-DP100-project', 'creation_context': None, 'serialize': <msrest.serialization.Serializer object at 0x7fb5a2fdace0>, 'auth_mode': 'key', 'location': 'francecentral', 'identity': <azure.ai.ml.entities._credentials.IdentityConfiguration object at 0x7fb5a301de40>, 'traffic': {}, 'mirror_traffic': {}, 'kind': 'Managed'})"
            ]
          },
          "execution_count": 29,
          "metadata": {},
          "output_type": "execute_result"
        }
      ],
      "source": [
        "ml_client.begin_create_or_update(endpoint).result()"
      ]
    },
    {
      "cell_type": "markdown",
      "metadata": {},
      "source": [
        "## Choose the model\n",
        "\n",
        "we load it from local files because of environnment bugs in Azure that were easier to modify by hand, rather than from the registry"
      ]
    },
    {
      "cell_type": "code",
      "execution_count": null,
      "metadata": {},
      "outputs": [],
      "source": [
        "from azure.ai.ml.entities import Model\n",
        "from azure.ai.ml.constants import AssetTypes\n",
        "\n",
        "model = Model(\n",
        "    path=\"./model\",\n",
        "    type=AssetTypes.MLFLOW_MODEL,\n",
        "    description=\"svm model for cancer recurrence prediction\",\n",
        ")"
      ]
    },
    {
      "cell_type": "markdown",
      "metadata": {},
      "source": [
        "## Create a deployment to the endpoint\n",
        "\n",
        "it will take 100% of the traffic to the endpoint"
      ]
    },
    {
      "cell_type": "code",
      "execution_count": 101,
      "metadata": {},
      "outputs": [],
      "source": [
        "from azure.ai.ml.entities import ManagedOnlineDeployment\n",
        "\n",
        "blue_deployment = ManagedOnlineDeployment(\n",
        "    name=\"blue\",\n",
        "    endpoint_name=online_endpoint_name,\n",
        "    model=model,\n",
        "    instance_type=\"Standard_F2s_v2\",\n",
        "    instance_count=1,\n",
        ")"
      ]
    },
    {
      "cell_type": "code",
      "execution_count": null,
      "metadata": {},
      "outputs": [],
      "source": [
        "ml_client.online_deployments.begin_create_or_update(blue_deployment).result()"
      ]
    },
    {
      "cell_type": "code",
      "execution_count": null,
      "metadata": {},
      "outputs": [],
      "source": [
        "# blue deployment takes 100% traffic\n",
        "endpoint.traffic = {\"blue\": 100}\n",
        "ml_client.begin_create_or_update(endpoint).result()"
      ]
    },
    {
      "cell_type": "markdown",
      "metadata": {},
      "source": [
        "# Test the endpoint"
      ]
    },
    {
      "cell_type": "code",
      "execution_count": 41,
      "metadata": {},
      "outputs": [],
      "source": [
        "# Test the blue deployment with some sample data\n",
        "response = ml_client.online_endpoints.invoke(\n",
        "    endpoint_name=online_endpoint_name,\n",
        "    deployment_name=\"blue\",\n",
        "    request_file=\"sample-data.json\"\n",
        ")"
      ]
    },
    {
      "cell_type": "code",
      "execution_count": null,
      "metadata": {},
      "outputs": [],
      "source": [
        "if response[1] =='1':\n",
        "    print(\"Recurrence\")\n",
        "else:\n",
        "    print(\"No Recurrence\")"
      ]
    },
    {
      "cell_type": "code",
      "execution_count": null,
      "metadata": {},
      "outputs": [],
      "source": [
        "ml_client.online_endpoints.get(name=online_endpoint_name).scoring_uri"
      ]
    },
    {
      "cell_type": "code",
      "execution_count": 47,
      "metadata": {},
      "outputs": [],
      "source": [
        "DATA_PLANE_TOKEN = ml_client.online_endpoints.get_keys(name=online_endpoint_name).primary_key\n",
        "with open(\".env\", \"w\") as f:\n",
        "    f.write(f\"API_KEY={DATA_PLANE_TOKEN}\\n\")"
      ]
    },
    {
      "cell_type": "code",
      "execution_count": null,
      "metadata": {},
      "outputs": [],
      "source": [
        "# Get the details for online endpoint\n",
        "endpoint = ml_client.online_endpoints.get(name=online_endpoint_name)\n",
        "\n",
        "# existing traffic details\n",
        "print(endpoint.traffic)\n",
        "\n",
        "# Get the scoring URI\n",
        "print(endpoint.scoring_uri)"
      ]
    },
    {
      "cell_type": "markdown",
      "metadata": {},
      "source": [
        "# Delete the endpoint"
      ]
    },
    {
      "cell_type": "code",
      "execution_count": null,
      "metadata": {},
      "outputs": [],
      "source": [
        "# delete the online endpoint\n",
        "# ml_client.online_endpoints.begin_delete(name=online_endpoint_name)"
      ]
    }
  ],
  "metadata": {
    "kernel_info": {
      "name": "python310-sdkv2"
    },
    "kernelspec": {
      "display_name": "azureml_py310_sdkv2",
      "language": "python",
      "name": "python3"
    },
    "language_info": {
      "codemirror_mode": {
        "name": "ipython",
        "version": 3
      },
      "file_extension": ".py",
      "mimetype": "text/x-python",
      "name": "python",
      "nbconvert_exporter": "python",
      "pygments_lexer": "ipython3",
      "version": "3.10.14"
    },
    "microsoft": {
      "host": {
        "AzureML": {
          "notebookHasBeenCompleted": true
        }
      },
      "ms_spell_check": {
        "ms_spell_check_language": "en"
      }
    },
    "nteract": {
      "version": "nteract-front-end@1.0.0"
    }
  },
  "nbformat": 4,
  "nbformat_minor": 2
}
