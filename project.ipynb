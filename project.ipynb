{
  "cells": [
    {
      "cell_type": "markdown",
      "metadata": {},
      "source": [
        "# Setup workspace"
      ]
    },
    {
      "cell_type": "code",
      "execution_count": null,
      "metadata": {
        "gather": {
          "logged": 1737339080563
        }
      },
      "outputs": [],
      "source": [
        "pip install -r requirements.txt"
      ]
    },
    {
      "cell_type": "code",
      "execution_count": 1,
      "metadata": {
        "gather": {
          "logged": 1737339082846
        }
      },
      "outputs": [],
      "source": [
        "from azure.identity import DefaultAzureCredential, InteractiveBrowserCredential\n",
        "from azure.ai.ml import MLClient\n",
        "\n",
        "try:\n",
        "    credential = DefaultAzureCredential()\n",
        "    # Check if given credential can get token successfully.\n",
        "    credential.get_token(\"https://management.azure.com/.default\")\n",
        "except Exception as ex:\n",
        "    # Fall back to InteractiveBrowserCredential in case DefaultAzureCredential not work\n",
        "    credential = InteractiveBrowserCredential()"
      ]
    },
    {
      "cell_type": "code",
      "execution_count": 2,
      "metadata": {
        "gather": {
          "logged": 1737339083599
        }
      },
      "outputs": [
        {
          "name": "stderr",
          "output_type": "stream",
          "text": [
            "Found the config file in: /config.json\n"
          ]
        }
      ],
      "source": [
        "# Get a handle to workspace\n",
        "ml_client = MLClient.from_config(credential=credential)"
      ]
    },
    {
      "cell_type": "markdown",
      "metadata": {},
      "source": [
        "# Import data"
      ]
    },
    {
      "cell_type": "code",
      "execution_count": 3,
      "metadata": {
        "gather": {
          "logged": 1737339084673
        }
      },
      "outputs": [
        {
          "name": "stdout",
          "output_type": "stream",
          "text": [
            "Loading Data...\n"
          ]
        }
      ],
      "source": [
        "# import libraries\n",
        "import pandas as pd\n",
        "import numpy as np\n",
        "from sklearn.model_selection import train_test_split\n",
        "from sklearn.metrics import roc_auc_score\n",
        "\n",
        "# load the dataset\n",
        "print(\"Loading Data...\")\n",
        "df = pd.read_csv('data/breast-cancer.data')"
      ]
    },
    {
      "cell_type": "code",
      "execution_count": 4,
      "metadata": {
        "gather": {
          "logged": 1737339084806
        }
      },
      "outputs": [
        {
          "data": {
            "text/html": [
              "<div>\n",
              "<style scoped>\n",
              "    .dataframe tbody tr th:only-of-type {\n",
              "        vertical-align: middle;\n",
              "    }\n",
              "\n",
              "    .dataframe tbody tr th {\n",
              "        vertical-align: top;\n",
              "    }\n",
              "\n",
              "    .dataframe thead th {\n",
              "        text-align: right;\n",
              "    }\n",
              "</style>\n",
              "<table border=\"1\" class=\"dataframe\">\n",
              "  <thead>\n",
              "    <tr style=\"text-align: right;\">\n",
              "      <th></th>\n",
              "      <th>recurence</th>\n",
              "      <th>age</th>\n",
              "      <th>menopause</th>\n",
              "      <th>tumor-size</th>\n",
              "      <th>inv-nodes</th>\n",
              "      <th>node-caps</th>\n",
              "      <th>deg-malig</th>\n",
              "      <th>breast</th>\n",
              "      <th>breast-quad</th>\n",
              "      <th>irradiat</th>\n",
              "    </tr>\n",
              "  </thead>\n",
              "  <tbody>\n",
              "    <tr>\n",
              "      <th>0</th>\n",
              "      <td>no-recurrence-events</td>\n",
              "      <td>30-39</td>\n",
              "      <td>premeno</td>\n",
              "      <td>30-34</td>\n",
              "      <td>0-2</td>\n",
              "      <td>no</td>\n",
              "      <td>3</td>\n",
              "      <td>left</td>\n",
              "      <td>left_low</td>\n",
              "      <td>no</td>\n",
              "    </tr>\n",
              "    <tr>\n",
              "      <th>1</th>\n",
              "      <td>no-recurrence-events</td>\n",
              "      <td>40-49</td>\n",
              "      <td>premeno</td>\n",
              "      <td>20-24</td>\n",
              "      <td>0-2</td>\n",
              "      <td>no</td>\n",
              "      <td>2</td>\n",
              "      <td>right</td>\n",
              "      <td>right_up</td>\n",
              "      <td>no</td>\n",
              "    </tr>\n",
              "    <tr>\n",
              "      <th>2</th>\n",
              "      <td>no-recurrence-events</td>\n",
              "      <td>40-49</td>\n",
              "      <td>premeno</td>\n",
              "      <td>20-24</td>\n",
              "      <td>0-2</td>\n",
              "      <td>no</td>\n",
              "      <td>2</td>\n",
              "      <td>left</td>\n",
              "      <td>left_low</td>\n",
              "      <td>no</td>\n",
              "    </tr>\n",
              "    <tr>\n",
              "      <th>3</th>\n",
              "      <td>no-recurrence-events</td>\n",
              "      <td>60-69</td>\n",
              "      <td>ge40</td>\n",
              "      <td>15-19</td>\n",
              "      <td>0-2</td>\n",
              "      <td>no</td>\n",
              "      <td>2</td>\n",
              "      <td>right</td>\n",
              "      <td>left_up</td>\n",
              "      <td>no</td>\n",
              "    </tr>\n",
              "    <tr>\n",
              "      <th>4</th>\n",
              "      <td>no-recurrence-events</td>\n",
              "      <td>40-49</td>\n",
              "      <td>premeno</td>\n",
              "      <td>0-4</td>\n",
              "      <td>0-2</td>\n",
              "      <td>no</td>\n",
              "      <td>2</td>\n",
              "      <td>right</td>\n",
              "      <td>right_low</td>\n",
              "      <td>no</td>\n",
              "    </tr>\n",
              "    <tr>\n",
              "      <th>...</th>\n",
              "      <td>...</td>\n",
              "      <td>...</td>\n",
              "      <td>...</td>\n",
              "      <td>...</td>\n",
              "      <td>...</td>\n",
              "      <td>...</td>\n",
              "      <td>...</td>\n",
              "      <td>...</td>\n",
              "      <td>...</td>\n",
              "      <td>...</td>\n",
              "    </tr>\n",
              "    <tr>\n",
              "      <th>281</th>\n",
              "      <td>recurrence-events</td>\n",
              "      <td>30-39</td>\n",
              "      <td>premeno</td>\n",
              "      <td>30-34</td>\n",
              "      <td>0-2</td>\n",
              "      <td>no</td>\n",
              "      <td>2</td>\n",
              "      <td>left</td>\n",
              "      <td>left_up</td>\n",
              "      <td>no</td>\n",
              "    </tr>\n",
              "    <tr>\n",
              "      <th>282</th>\n",
              "      <td>recurrence-events</td>\n",
              "      <td>30-39</td>\n",
              "      <td>premeno</td>\n",
              "      <td>20-24</td>\n",
              "      <td>0-2</td>\n",
              "      <td>no</td>\n",
              "      <td>3</td>\n",
              "      <td>left</td>\n",
              "      <td>left_up</td>\n",
              "      <td>yes</td>\n",
              "    </tr>\n",
              "    <tr>\n",
              "      <th>283</th>\n",
              "      <td>recurrence-events</td>\n",
              "      <td>60-69</td>\n",
              "      <td>ge40</td>\n",
              "      <td>20-24</td>\n",
              "      <td>0-2</td>\n",
              "      <td>no</td>\n",
              "      <td>1</td>\n",
              "      <td>right</td>\n",
              "      <td>left_up</td>\n",
              "      <td>no</td>\n",
              "    </tr>\n",
              "    <tr>\n",
              "      <th>284</th>\n",
              "      <td>recurrence-events</td>\n",
              "      <td>40-49</td>\n",
              "      <td>ge40</td>\n",
              "      <td>30-34</td>\n",
              "      <td>3-5</td>\n",
              "      <td>no</td>\n",
              "      <td>3</td>\n",
              "      <td>left</td>\n",
              "      <td>left_low</td>\n",
              "      <td>no</td>\n",
              "    </tr>\n",
              "    <tr>\n",
              "      <th>285</th>\n",
              "      <td>recurrence-events</td>\n",
              "      <td>50-59</td>\n",
              "      <td>ge40</td>\n",
              "      <td>30-34</td>\n",
              "      <td>3-5</td>\n",
              "      <td>no</td>\n",
              "      <td>3</td>\n",
              "      <td>left</td>\n",
              "      <td>left_low</td>\n",
              "      <td>no</td>\n",
              "    </tr>\n",
              "  </tbody>\n",
              "</table>\n",
              "<p>286 rows × 10 columns</p>\n",
              "</div>"
            ],
            "text/plain": [
              "                recurence    age menopause tumor-size inv-nodes node-caps  \\\n",
              "0    no-recurrence-events  30-39   premeno      30-34       0-2        no   \n",
              "1    no-recurrence-events  40-49   premeno      20-24       0-2        no   \n",
              "2    no-recurrence-events  40-49   premeno      20-24       0-2        no   \n",
              "3    no-recurrence-events  60-69      ge40      15-19       0-2        no   \n",
              "4    no-recurrence-events  40-49   premeno        0-4       0-2        no   \n",
              "..                    ...    ...       ...        ...       ...       ...   \n",
              "281     recurrence-events  30-39   premeno      30-34       0-2        no   \n",
              "282     recurrence-events  30-39   premeno      20-24       0-2        no   \n",
              "283     recurrence-events  60-69      ge40      20-24       0-2        no   \n",
              "284     recurrence-events  40-49      ge40      30-34       3-5        no   \n",
              "285     recurrence-events  50-59      ge40      30-34       3-5        no   \n",
              "\n",
              "     deg-malig breast breast-quad irradiat  \n",
              "0            3   left    left_low       no  \n",
              "1            2  right    right_up       no  \n",
              "2            2   left    left_low       no  \n",
              "3            2  right     left_up       no  \n",
              "4            2  right   right_low       no  \n",
              "..         ...    ...         ...      ...  \n",
              "281          2   left     left_up       no  \n",
              "282          3   left     left_up      yes  \n",
              "283          1  right     left_up       no  \n",
              "284          3   left    left_low       no  \n",
              "285          3   left    left_low       no  \n",
              "\n",
              "[286 rows x 10 columns]"
            ]
          },
          "execution_count": 4,
          "metadata": {},
          "output_type": "execute_result"
        }
      ],
      "source": [
        "df"
      ]
    },
    {
      "cell_type": "markdown",
      "metadata": {},
      "source": [
        "# Create a data asset"
      ]
    },
    {
      "cell_type": "code",
      "execution_count": 5,
      "metadata": {},
      "outputs": [
        {
          "data": {
            "text/plain": [
              "Data({'path': 'azureml://subscriptions/f95df08c-a99c-462f-b65c-fe6151267601/resourcegroups/housing_prices/workspaces/mlw-housing_prices/datastores/workspaceblobstore/paths/LocalUpload/3e28c2b024c43e7f9d7b04e56af90b9e/breast-cancer.data', 'skip_validation': False, 'mltable_schema_url': None, 'referenced_uris': None, 'type': 'uri_file', 'is_anonymous': False, 'auto_increment_version': False, 'auto_delete_setting': None, 'name': 'cancer-data', 'description': 'Cancer data CSV file', 'tags': {}, 'properties': {}, 'print_as_yaml': False, 'id': '/subscriptions/f95df08c-a99c-462f-b65c-fe6151267601/resourceGroups/housing_prices/providers/Microsoft.MachineLearningServices/workspaces/mlw-housing_prices/data/cancer-data/versions/9', 'Resource__source_path': '', 'base_path': '/mnt/batch/tasks/shared/LS_root/mounts/clusters/ci-housing-all/code/Users/noam.chretiennot/cloud-DP100-project', 'creation_context': <azure.ai.ml.entities._system_data.SystemData object at 0x7f55b7180e20>, 'serialize': <msrest.serialization.Serializer object at 0x7f55b71809a0>, 'version': '9', 'latest_version': None, 'datastore': None})"
            ]
          },
          "execution_count": 5,
          "metadata": {},
          "output_type": "execute_result"
        }
      ],
      "source": [
        "from azure.ai.ml.entities import Data\n",
        "\n",
        "# Create a Data asset\n",
        "data_asset = Data(\n",
        "    path=\"data/breast-cancer.data\",\n",
        "    type=\"uri_file\",\n",
        "    name=\"cancer-data\",\n",
        "    description=\"Cancer data CSV file\"\n",
        ")\n",
        "\n",
        "# Upload the data asset\n",
        "ml_client.data.create_or_update(data_asset)"
      ]
    },
    {
      "cell_type": "markdown",
      "metadata": {},
      "source": [
        "# Prepare data"
      ]
    },
    {
      "cell_type": "code",
      "execution_count": 6,
      "metadata": {
        "gather": {
          "logged": 1737339084956
        }
      },
      "outputs": [],
      "source": [
        "df = df[df[\"node-caps\"] != \"?\"]\n",
        "df = df[df[\"breast-quad\"] != \"?\"]\n",
        "\n",
        "X = df.drop(\"recurence\", axis=1)\n",
        "X[\"age\"] = X[\"age\"].apply(lambda x: int(x[0]))\n",
        "X[\"menopause\"] = X[\"menopause\"].apply(lambda x: 1 if x == \"lt40\" else (2 if x == \"ge40\" else 3))\n",
        "X[\"tumor-size\"] = X[\"tumor-size\"].apply(lambda x: int(x[0]))\n",
        "X[\"inv-nodes\"] = X[\"inv-nodes\"].apply(lambda x: int(x[0]))\n",
        "X[\"node-caps\"] = X[\"node-caps\"].apply(lambda x: 1 if x == \"yes\" else 0)\n",
        "X[\"breast\"] = X[\"breast\"].apply(lambda x: 1 if x == \"left\" else 0)\n",
        "X = pd.get_dummies(X, columns=[\"breast-quad\"])\n",
        "X[\"irradiat\"] = X[\"irradiat\"].apply(lambda x: 1 if x == \"yes\" else 0)\n",
        "\n",
        "y = df[\"recurence\"]\n",
        "y= y.apply(lambda x: 1 if x == \"recurrence-events\" else 0)"
      ]
    },
    {
      "cell_type": "code",
      "execution_count": 7,
      "metadata": {
        "gather": {
          "logged": 1737339085103
        }
      },
      "outputs": [
        {
          "data": {
            "text/html": [
              "<div>\n",
              "<style scoped>\n",
              "    .dataframe tbody tr th:only-of-type {\n",
              "        vertical-align: middle;\n",
              "    }\n",
              "\n",
              "    .dataframe tbody tr th {\n",
              "        vertical-align: top;\n",
              "    }\n",
              "\n",
              "    .dataframe thead th {\n",
              "        text-align: right;\n",
              "    }\n",
              "</style>\n",
              "<table border=\"1\" class=\"dataframe\">\n",
              "  <thead>\n",
              "    <tr style=\"text-align: right;\">\n",
              "      <th></th>\n",
              "      <th>age</th>\n",
              "      <th>menopause</th>\n",
              "      <th>tumor-size</th>\n",
              "      <th>inv-nodes</th>\n",
              "      <th>node-caps</th>\n",
              "      <th>deg-malig</th>\n",
              "      <th>breast</th>\n",
              "      <th>irradiat</th>\n",
              "      <th>breast-quad_central</th>\n",
              "      <th>breast-quad_left_low</th>\n",
              "      <th>breast-quad_left_up</th>\n",
              "      <th>breast-quad_right_low</th>\n",
              "      <th>breast-quad_right_up</th>\n",
              "    </tr>\n",
              "  </thead>\n",
              "  <tbody>\n",
              "    <tr>\n",
              "      <th>0</th>\n",
              "      <td>3</td>\n",
              "      <td>3</td>\n",
              "      <td>3</td>\n",
              "      <td>0</td>\n",
              "      <td>0</td>\n",
              "      <td>3</td>\n",
              "      <td>1</td>\n",
              "      <td>0</td>\n",
              "      <td>False</td>\n",
              "      <td>True</td>\n",
              "      <td>False</td>\n",
              "      <td>False</td>\n",
              "      <td>False</td>\n",
              "    </tr>\n",
              "    <tr>\n",
              "      <th>1</th>\n",
              "      <td>4</td>\n",
              "      <td>3</td>\n",
              "      <td>2</td>\n",
              "      <td>0</td>\n",
              "      <td>0</td>\n",
              "      <td>2</td>\n",
              "      <td>0</td>\n",
              "      <td>0</td>\n",
              "      <td>False</td>\n",
              "      <td>False</td>\n",
              "      <td>False</td>\n",
              "      <td>False</td>\n",
              "      <td>True</td>\n",
              "    </tr>\n",
              "    <tr>\n",
              "      <th>2</th>\n",
              "      <td>4</td>\n",
              "      <td>3</td>\n",
              "      <td>2</td>\n",
              "      <td>0</td>\n",
              "      <td>0</td>\n",
              "      <td>2</td>\n",
              "      <td>1</td>\n",
              "      <td>0</td>\n",
              "      <td>False</td>\n",
              "      <td>True</td>\n",
              "      <td>False</td>\n",
              "      <td>False</td>\n",
              "      <td>False</td>\n",
              "    </tr>\n",
              "    <tr>\n",
              "      <th>3</th>\n",
              "      <td>6</td>\n",
              "      <td>2</td>\n",
              "      <td>1</td>\n",
              "      <td>0</td>\n",
              "      <td>0</td>\n",
              "      <td>2</td>\n",
              "      <td>0</td>\n",
              "      <td>0</td>\n",
              "      <td>False</td>\n",
              "      <td>False</td>\n",
              "      <td>True</td>\n",
              "      <td>False</td>\n",
              "      <td>False</td>\n",
              "    </tr>\n",
              "    <tr>\n",
              "      <th>4</th>\n",
              "      <td>4</td>\n",
              "      <td>3</td>\n",
              "      <td>0</td>\n",
              "      <td>0</td>\n",
              "      <td>0</td>\n",
              "      <td>2</td>\n",
              "      <td>0</td>\n",
              "      <td>0</td>\n",
              "      <td>False</td>\n",
              "      <td>False</td>\n",
              "      <td>False</td>\n",
              "      <td>True</td>\n",
              "      <td>False</td>\n",
              "    </tr>\n",
              "    <tr>\n",
              "      <th>...</th>\n",
              "      <td>...</td>\n",
              "      <td>...</td>\n",
              "      <td>...</td>\n",
              "      <td>...</td>\n",
              "      <td>...</td>\n",
              "      <td>...</td>\n",
              "      <td>...</td>\n",
              "      <td>...</td>\n",
              "      <td>...</td>\n",
              "      <td>...</td>\n",
              "      <td>...</td>\n",
              "      <td>...</td>\n",
              "      <td>...</td>\n",
              "    </tr>\n",
              "    <tr>\n",
              "      <th>281</th>\n",
              "      <td>3</td>\n",
              "      <td>3</td>\n",
              "      <td>3</td>\n",
              "      <td>0</td>\n",
              "      <td>0</td>\n",
              "      <td>2</td>\n",
              "      <td>1</td>\n",
              "      <td>0</td>\n",
              "      <td>False</td>\n",
              "      <td>False</td>\n",
              "      <td>True</td>\n",
              "      <td>False</td>\n",
              "      <td>False</td>\n",
              "    </tr>\n",
              "    <tr>\n",
              "      <th>282</th>\n",
              "      <td>3</td>\n",
              "      <td>3</td>\n",
              "      <td>2</td>\n",
              "      <td>0</td>\n",
              "      <td>0</td>\n",
              "      <td>3</td>\n",
              "      <td>1</td>\n",
              "      <td>1</td>\n",
              "      <td>False</td>\n",
              "      <td>False</td>\n",
              "      <td>True</td>\n",
              "      <td>False</td>\n",
              "      <td>False</td>\n",
              "    </tr>\n",
              "    <tr>\n",
              "      <th>283</th>\n",
              "      <td>6</td>\n",
              "      <td>2</td>\n",
              "      <td>2</td>\n",
              "      <td>0</td>\n",
              "      <td>0</td>\n",
              "      <td>1</td>\n",
              "      <td>0</td>\n",
              "      <td>0</td>\n",
              "      <td>False</td>\n",
              "      <td>False</td>\n",
              "      <td>True</td>\n",
              "      <td>False</td>\n",
              "      <td>False</td>\n",
              "    </tr>\n",
              "    <tr>\n",
              "      <th>284</th>\n",
              "      <td>4</td>\n",
              "      <td>2</td>\n",
              "      <td>3</td>\n",
              "      <td>3</td>\n",
              "      <td>0</td>\n",
              "      <td>3</td>\n",
              "      <td>1</td>\n",
              "      <td>0</td>\n",
              "      <td>False</td>\n",
              "      <td>True</td>\n",
              "      <td>False</td>\n",
              "      <td>False</td>\n",
              "      <td>False</td>\n",
              "    </tr>\n",
              "    <tr>\n",
              "      <th>285</th>\n",
              "      <td>5</td>\n",
              "      <td>2</td>\n",
              "      <td>3</td>\n",
              "      <td>3</td>\n",
              "      <td>0</td>\n",
              "      <td>3</td>\n",
              "      <td>1</td>\n",
              "      <td>0</td>\n",
              "      <td>False</td>\n",
              "      <td>True</td>\n",
              "      <td>False</td>\n",
              "      <td>False</td>\n",
              "      <td>False</td>\n",
              "    </tr>\n",
              "  </tbody>\n",
              "</table>\n",
              "<p>277 rows × 13 columns</p>\n",
              "</div>"
            ],
            "text/plain": [
              "     age  menopause  tumor-size  inv-nodes  node-caps  deg-malig  breast  \\\n",
              "0      3          3           3          0          0          3       1   \n",
              "1      4          3           2          0          0          2       0   \n",
              "2      4          3           2          0          0          2       1   \n",
              "3      6          2           1          0          0          2       0   \n",
              "4      4          3           0          0          0          2       0   \n",
              "..   ...        ...         ...        ...        ...        ...     ...   \n",
              "281    3          3           3          0          0          2       1   \n",
              "282    3          3           2          0          0          3       1   \n",
              "283    6          2           2          0          0          1       0   \n",
              "284    4          2           3          3          0          3       1   \n",
              "285    5          2           3          3          0          3       1   \n",
              "\n",
              "     irradiat  breast-quad_central  breast-quad_left_low  breast-quad_left_up  \\\n",
              "0           0                False                  True                False   \n",
              "1           0                False                 False                False   \n",
              "2           0                False                  True                False   \n",
              "3           0                False                 False                 True   \n",
              "4           0                False                 False                False   \n",
              "..        ...                  ...                   ...                  ...   \n",
              "281         0                False                 False                 True   \n",
              "282         1                False                 False                 True   \n",
              "283         0                False                 False                 True   \n",
              "284         0                False                  True                False   \n",
              "285         0                False                  True                False   \n",
              "\n",
              "     breast-quad_right_low  breast-quad_right_up  \n",
              "0                    False                 False  \n",
              "1                    False                  True  \n",
              "2                    False                 False  \n",
              "3                    False                 False  \n",
              "4                     True                 False  \n",
              "..                     ...                   ...  \n",
              "281                  False                 False  \n",
              "282                  False                 False  \n",
              "283                  False                 False  \n",
              "284                  False                 False  \n",
              "285                  False                 False  \n",
              "\n",
              "[277 rows x 13 columns]"
            ]
          },
          "execution_count": 7,
          "metadata": {},
          "output_type": "execute_result"
        }
      ],
      "source": [
        "X"
      ]
    },
    {
      "cell_type": "code",
      "execution_count": 8,
      "metadata": {
        "gather": {
          "logged": 1737339085968
        }
      },
      "outputs": [
        {
          "data": {
            "text/plain": [
              "array([[<Axes: title={'center': 'age'}>,\n",
              "        <Axes: title={'center': 'menopause'}>,\n",
              "        <Axes: title={'center': 'tumor-size'}>],\n",
              "       [<Axes: title={'center': 'inv-nodes'}>,\n",
              "        <Axes: title={'center': 'node-caps'}>,\n",
              "        <Axes: title={'center': 'deg-malig'}>],\n",
              "       [<Axes: title={'center': 'breast'}>,\n",
              "        <Axes: title={'center': 'irradiat'}>, <Axes: >]], dtype=object)"
            ]
          },
          "execution_count": 8,
          "metadata": {},
          "output_type": "execute_result"
        },
        {
          "data": {
            "image/png": "[encoded data removed]",
            "text/plain": [
              "<Figure size 640x480 with 9 Axes>"
            ]
          },
          "metadata": {},
          "output_type": "display_data"
        }
      ],
      "source": [
        "X.hist()"
      ]
    },
    {
      "cell_type": "code",
      "execution_count": 9,
      "metadata": {
        "gather": {
          "logged": 1737339086330
        }
      },
      "outputs": [
        {
          "data": {
            "text/plain": [
              "<Axes: >"
            ]
          },
          "execution_count": 9,
          "metadata": {},
          "output_type": "execute_result"
        },
        {
          "data": {
            "image/png": "[encoded data removed]",
            "text/plain": [
              "<Figure size 640x480 with 1 Axes>"
            ]
          },
          "metadata": {},
          "output_type": "display_data"
        }
      ],
      "source": [
        "y.hist()"
      ]
    },
    {
      "cell_type": "code",
      "execution_count": 10,
      "metadata": {
        "gather": {
          "logged": 1737339086444
        }
      },
      "outputs": [],
      "source": [
        "X_train, X_test, y_train, y_test = train_test_split(X, y, test_size=0.3, random_state=42)"
      ]
    },
    {
      "cell_type": "code",
      "execution_count": 11,
      "metadata": {
        "gather": {
          "logged": 1737339086681
        }
      },
      "outputs": [],
      "source": [
        "# over sample so the minority class represents 70% of the data\n",
        "from imblearn.over_sampling import SMOTE\n",
        "\n",
        "smote = SMOTE()\n",
        "X_train_resampled, y_train_resampled = smote.fit_resample(X_train, y_train)\n",
        "\n"
      ]
    },
    {
      "cell_type": "code",
      "execution_count": 12,
      "metadata": {},
      "outputs": [
        {
          "data": {
            "text/plain": [
              "<Axes: >"
            ]
          },
          "execution_count": 12,
          "metadata": {},
          "output_type": "execute_result"
        },
        {
          "data": {
            "image/png": "[encoded data removed]",
            "text/plain": [
              "<Figure size 640x480 with 1 Axes>"
            ]
          },
          "metadata": {},
          "output_type": "display_data"
        }
      ],
      "source": [
        "y_train_resampled.hist()"
      ]
    },
    {
      "cell_type": "markdown",
      "metadata": {},
      "source": [
        "# Test models"
      ]
    },
    {
      "cell_type": "code",
      "execution_count": 13,
      "metadata": {
        "gather": {
          "logged": 1737339087944
        }
      },
      "outputs": [
        {
          "name": "stderr",
          "output_type": "stream",
          "text": [
            "/anaconda/envs/azureml_py310_sdkv2/lib/python3.10/site-packages/azureml/mlflow/_protos/aml_service_pb2.py:10: UserWarning: google.protobuf.service module is deprecated. RPC implementations should provide code generator plugins which generate code specific to the RPC implementation. service.py will be removed in Jan 2025\n",
            "  from google.protobuf import service as _service\n"
          ]
        }
      ],
      "source": [
        "import mlflow\n",
        "experiment_name = \"mlflow-breast-cancer\"\n",
        "mlflow.set_experiment(experiment_name)\n",
        "mlflow.sklearn.autolog(disable=True)"
      ]
    },
    {
      "cell_type": "code",
      "execution_count": 14,
      "metadata": {
        "gather": {
          "logged": 1737339090405
        }
      },
      "outputs": [
        {
          "data": {
            "image/png": "[encoded data removed]",
            "text/plain": [
              "<Figure size 600x400 with 2 Axes>"
            ]
          },
          "metadata": {},
          "output_type": "display_data"
        }
      ],
      "source": [
        "from sklearn.linear_model import LogisticRegression\n",
        "import seaborn as sns\n",
        "import matplotlib.pyplot as plt\n",
        "from sklearn.metrics import confusion_matrix\n",
        "\n",
        "with mlflow.start_run():\n",
        "    model = LogisticRegression(class_weight={0:1, 1:6}).fit(X_train_resampled, y_train_resampled)\n",
        "\n",
        "    y_pred = model.predict(X_test)\n",
        "    acc = np.average(y_pred == y_test)\n",
        "    auc = roc_auc_score(y_test, y_pred)\n",
        "\n",
        "    mlflow.log_param(\"model\", \"logistic regression base\")\n",
        "    mlflow.log_metric(\"Accuracy\", acc)\n",
        "    mlflow.log_metric(\"ROC_AUC\", auc)\n",
        "\n",
        "    fig = plt.figure(figsize=(6, 4)) \n",
        "    sns.heatmap(confusion_matrix(y_test, y_pred, normalize='true'), annot=True, cmap=\"coolwarm\")\n",
        "    plt.xlabel('Predicted')\n",
        "    plt.ylabel('Actual')\n",
        "    plt.title('Confusion Matrix')\n",
        "    mlflow.log_figure(fig, \"confusion_matrix.png\")"
      ]
    },
    {
      "cell_type": "code",
      "execution_count": 87,
      "metadata": {
        "gather": {
          "logged": 1737339093284
        }
      },
      "outputs": [
        {
          "name": "stderr",
          "output_type": "stream",
          "text": [
            "2025/01/26 12:40:47 INFO mlflow.tracking._tracking_service.client: 🏃 View run sleepy_spring_bby722w1 at: https://francecentral.api.azureml.ms/mlflow/v2.0/subscriptions/f95df08c-a99c-462f-b65c-fe6151267601/resourceGroups/housing_prices/providers/Microsoft.MachineLearningServices/workspaces/mlw-housing_prices/#/experiments/85453ebe-e75a-4a14-aed7-f9c46f2c4f98/runs/7276b61a-1c2d-49f1-b208-0b6362ecc686.\n",
            "2025/01/26 12:40:47 INFO mlflow.tracking._tracking_service.client: 🧪 View experiment at: https://francecentral.api.azureml.ms/mlflow/v2.0/subscriptions/f95df08c-a99c-462f-b65c-fe6151267601/resourceGroups/housing_prices/providers/Microsoft.MachineLearningServices/workspaces/mlw-housing_prices/#/experiments/85453ebe-e75a-4a14-aed7-f9c46f2c4f98.\n"
          ]
        },
        {
          "data": {
            "text/plain": [
              "<Figure size 600x400 with 0 Axes>"
            ]
          },
          "metadata": {},
          "output_type": "display_data"
        },
        {
          "data": {
            "image/png": "[encoded data removed]",
            "text/plain": [
              "<Figure size 600x400 with 2 Axes>"
            ]
          },
          "metadata": {},
          "output_type": "display_data"
        }
      ],
      "source": [
        "from xgboost import XGBClassifier\n",
        "\n",
        "with mlflow.start_run():\n",
        "    model = XGBClassifier().fit(X_train_resampled, y_train_resampled)\n",
        "\n",
        "    y_pred = model.predict(X_test)\n",
        "    acc = np.average(y_pred == y_test)\n",
        "    auc = roc_auc_score(y_test, y_pred)\n",
        "\n",
        "    mlflow.log_param(\"model\", \"xgboost\")\n",
        "    mlflow.log_metric(\"Accuracy\", acc)\n",
        "    mlflow.log_metric(\"ROC_AUC\", auc)\n",
        "    fig = plt.figure(figsize=(6, 4)) \n",
        "    \n",
        "    fig = plt.figure(figsize=(6, 4)) \n",
        "    sns.heatmap(confusion_matrix(y_test, y_pred, normalize='true'), annot=True, cmap=\"coolwarm\")\n",
        "    plt.xlabel('Predicted')\n",
        "    plt.ylabel('Actual')\n",
        "    plt.title('Confusion Matrix')\n",
        "    mlflow.log_figure(fig, \"confusion_matrix.png\")"
      ]
    },
    {
      "cell_type": "code",
      "execution_count": 15,
      "metadata": {
        "gather": {
          "logged": 1737339095644
        }
      },
      "outputs": [
        {
          "name": "stderr",
          "output_type": "stream",
          "text": [
            "2025/01/26 15:37:02 INFO mlflow.tracking._tracking_service.client: 🏃 View run upbeat_tiger_57mlchxw at: https://francecentral.api.azureml.ms/mlflow/v2.0/subscriptions/f95df08c-a99c-462f-b65c-fe6151267601/resourceGroups/housing_prices/providers/Microsoft.MachineLearningServices/workspaces/mlw-housing_prices/#/experiments/85453ebe-e75a-4a14-aed7-f9c46f2c4f98/runs/96e3f8ef-5b7d-405c-8e2b-df6d3e34e2c5.\n",
            "2025/01/26 15:37:02 INFO mlflow.tracking._tracking_service.client: 🧪 View experiment at: https://francecentral.api.azureml.ms/mlflow/v2.0/subscriptions/f95df08c-a99c-462f-b65c-fe6151267601/resourceGroups/housing_prices/providers/Microsoft.MachineLearningServices/workspaces/mlw-housing_prices/#/experiments/85453ebe-e75a-4a14-aed7-f9c46f2c4f98.\n"
          ]
        },
        {
          "data": {
            "image/png": "[encoded data removed]",
            "text/plain": [
              "<Figure size 600x400 with 2 Axes>"
            ]
          },
          "metadata": {},
          "output_type": "display_data"
        }
      ],
      "source": [
        "from sklearn.svm import SVC\n",
        "\n",
        "with mlflow.start_run():\n",
        "    mlflow.set_tag(\"mlflow.job\", \"SVM\")\n",
        "    model = SVC(class_weight={0:1, 1:3.8}).fit(X_train, y_train)\n",
        "\n",
        "    y_pred = model.predict(X_test)\n",
        "    acc = np.average(y_pred == y_test)\n",
        "    auc = roc_auc_score(y_test, y_pred)\n",
        "\n",
        "    mlflow.log_param(\"model\", \"svm\")\n",
        "    mlflow.log_metric(\"Accuracy\", acc)\n",
        "    mlflow.log_metric(\"ROC_AUC\", auc)\n",
        "    \n",
        "    fig = plt.figure(figsize=(6, 4)) \n",
        "    sns.heatmap(confusion_matrix(y_test, y_pred, normalize='true'), annot=True, cmap=\"coolwarm\")\n",
        "    plt.xlabel('Predicted')\n",
        "    plt.ylabel('Actual')\n",
        "    plt.title('Confusion Matrix')\n",
        "    mlflow.log_figure(fig, \"confusion_matrix.png\")"
      ]
    },
    {
      "cell_type": "code",
      "execution_count": 16,
      "metadata": {
        "gather": {
          "logged": 1737339097885
        }
      },
      "outputs": [
        {
          "data": {
            "image/png": "[encoded data removed]",
            "text/plain": [
              "<Figure size 600x400 with 2 Axes>"
            ]
          },
          "metadata": {},
          "output_type": "display_data"
        }
      ],
      "source": [
        "from sklearn.ensemble import RandomForestClassifier\n",
        "\n",
        "with mlflow.start_run():\n",
        "    model = RandomForestClassifier().fit(X_train_resampled, y_train_resampled)\n",
        "\n",
        "    y_pred = model.predict(X_test)\n",
        "    acc = np.average(y_pred == y_test)\n",
        "    auc = roc_auc_score(y_test, y_pred)\n",
        "\n",
        "    mlflow.log_param(\"model\", \"random forest\")\n",
        "    mlflow.log_metric(\"Accuracy\", acc)\n",
        "    mlflow.log_metric(\"ROC_AUC\", auc)\n",
        "    \n",
        "    fig = plt.figure(figsize=(6, 4)) \n",
        "    sns.heatmap(confusion_matrix(y_test, y_pred, normalize='true'), annot=True, cmap=\"coolwarm\")\n",
        "    plt.xlabel('Predicted')\n",
        "    plt.ylabel('Actual')\n",
        "    plt.title('Confusion Matrix')\n",
        "    mlflow.log_figure(fig, \"confusion_matrix.png\")"
      ]
    },
    {
      "cell_type": "markdown",
      "metadata": {
        "nteract": {
          "transient": {
            "deleting": false
          }
        }
      },
      "source": [
        "Logistic regression is the best model"
      ]
    },
    {
      "cell_type": "code",
      "execution_count": 18,
      "metadata": {
        "gather": {
          "logged": 1737339098351
        }
      },
      "outputs": [
        {
          "data": {
            "text/html": [
              "<div>\n",
              "<style scoped>\n",
              "    .dataframe tbody tr th:only-of-type {\n",
              "        vertical-align: middle;\n",
              "    }\n",
              "\n",
              "    .dataframe tbody tr th {\n",
              "        vertical-align: top;\n",
              "    }\n",
              "\n",
              "    .dataframe thead th {\n",
              "        text-align: right;\n",
              "    }\n",
              "</style>\n",
              "<table border=\"1\" class=\"dataframe\">\n",
              "  <thead>\n",
              "    <tr style=\"text-align: right;\">\n",
              "      <th></th>\n",
              "      <th>run_id</th>\n",
              "      <th>experiment_id</th>\n",
              "      <th>status</th>\n",
              "      <th>artifact_uri</th>\n",
              "      <th>start_time</th>\n",
              "      <th>end_time</th>\n",
              "      <th>metrics.ROC_AUC</th>\n",
              "      <th>metrics.Accuracy</th>\n",
              "      <th>params.model</th>\n",
              "      <th>tags.mlflow.user</th>\n",
              "      <th>tags.mlflow.runName</th>\n",
              "      <th>tags.mlflow.rootRunId</th>\n",
              "      <th>tags.mlflow.job</th>\n",
              "    </tr>\n",
              "  </thead>\n",
              "  <tbody>\n",
              "    <tr>\n",
              "      <th>1</th>\n",
              "      <td>96e3f8ef-5b7d-405c-8e2b-df6d3e34e2c5</td>\n",
              "      <td>85453ebe-e75a-4a14-aed7-f9c46f2c4f98</td>\n",
              "      <td>FINISHED</td>\n",
              "      <td></td>\n",
              "      <td>2025-01-26 15:37:01.007000+00:00</td>\n",
              "      <td>2025-01-26 15:37:02.972000+00:00</td>\n",
              "      <td>0.642857</td>\n",
              "      <td>0.642857</td>\n",
              "      <td>svm</td>\n",
              "      <td>Noam CHRETIENNOT</td>\n",
              "      <td>upbeat_tiger_57mlchxw</td>\n",
              "      <td>96e3f8ef-5b7d-405c-8e2b-df6d3e34e2c5</td>\n",
              "      <td>SVM</td>\n",
              "    </tr>\n",
              "    <tr>\n",
              "      <th>2</th>\n",
              "      <td>a423c514-d612-46d2-a6c4-1fbb0bc77cdb</td>\n",
              "      <td>85453ebe-e75a-4a14-aed7-f9c46f2c4f98</td>\n",
              "      <td>FINISHED</td>\n",
              "      <td></td>\n",
              "      <td>2025-01-26 15:37:03.687000+00:00</td>\n",
              "      <td>2025-01-26 15:37:05.797000+00:00</td>\n",
              "      <td>0.598214</td>\n",
              "      <td>0.678571</td>\n",
              "      <td>random forest</td>\n",
              "      <td>Noam CHRETIENNOT</td>\n",
              "      <td>gentle_cherry_qwxwgxq3</td>\n",
              "      <td>a423c514-d612-46d2-a6c4-1fbb0bc77cdb</td>\n",
              "      <td>None</td>\n",
              "    </tr>\n",
              "    <tr>\n",
              "      <th>0</th>\n",
              "      <td>7d213c97-b6bf-4923-b0e8-6f68eb4847ac</td>\n",
              "      <td>85453ebe-e75a-4a14-aed7-f9c46f2c4f98</td>\n",
              "      <td>FINISHED</td>\n",
              "      <td></td>\n",
              "      <td>2025-01-26 15:36:57.140000+00:00</td>\n",
              "      <td>2025-01-26 15:36:58.943000+00:00</td>\n",
              "      <td>0.580357</td>\n",
              "      <td>0.476190</td>\n",
              "      <td>logistic regression base</td>\n",
              "      <td>Noam CHRETIENNOT</td>\n",
              "      <td>keen_stomach_wvvdc637</td>\n",
              "      <td>7d213c97-b6bf-4923-b0e8-6f68eb4847ac</td>\n",
              "      <td>None</td>\n",
              "    </tr>\n",
              "  </tbody>\n",
              "</table>\n",
              "</div>"
            ],
            "text/plain": [
              "                                 run_id                         experiment_id  \\\n",
              "1  96e3f8ef-5b7d-405c-8e2b-df6d3e34e2c5  85453ebe-e75a-4a14-aed7-f9c46f2c4f98   \n",
              "2  a423c514-d612-46d2-a6c4-1fbb0bc77cdb  85453ebe-e75a-4a14-aed7-f9c46f2c4f98   \n",
              "0  7d213c97-b6bf-4923-b0e8-6f68eb4847ac  85453ebe-e75a-4a14-aed7-f9c46f2c4f98   \n",
              "\n",
              "     status artifact_uri                       start_time  \\\n",
              "1  FINISHED              2025-01-26 15:37:01.007000+00:00   \n",
              "2  FINISHED              2025-01-26 15:37:03.687000+00:00   \n",
              "0  FINISHED              2025-01-26 15:36:57.140000+00:00   \n",
              "\n",
              "                          end_time  metrics.ROC_AUC  metrics.Accuracy  \\\n",
              "1 2025-01-26 15:37:02.972000+00:00         0.642857          0.642857   \n",
              "2 2025-01-26 15:37:05.797000+00:00         0.598214          0.678571   \n",
              "0 2025-01-26 15:36:58.943000+00:00         0.580357          0.476190   \n",
              "\n",
              "               params.model  tags.mlflow.user     tags.mlflow.runName  \\\n",
              "1                       svm  Noam CHRETIENNOT   upbeat_tiger_57mlchxw   \n",
              "2             random forest  Noam CHRETIENNOT  gentle_cherry_qwxwgxq3   \n",
              "0  logistic regression base  Noam CHRETIENNOT   keen_stomach_wvvdc637   \n",
              "\n",
              "                  tags.mlflow.rootRunId tags.mlflow.job  \n",
              "1  96e3f8ef-5b7d-405c-8e2b-df6d3e34e2c5             SVM  \n",
              "2  a423c514-d612-46d2-a6c4-1fbb0bc77cdb            None  \n",
              "0  7d213c97-b6bf-4923-b0e8-6f68eb4847ac            None  "
            ]
          },
          "execution_count": 18,
          "metadata": {},
          "output_type": "execute_result"
        }
      ],
      "source": [
        "# Search for all runs\n",
        "runs = mlflow.search_runs()\n",
        "\n",
        "# order by \"metrics.Accuracy\"\n",
        "runs = runs.sort_values(by=[\"metrics.ROC_AUC\"], ascending=False)\n",
        "runs"
      ]
    },
    {
      "cell_type": "markdown",
      "metadata": {},
      "source": [
        "# Tuning Hyper-parameters"
      ]
    },
    {
      "cell_type": "code",
      "execution_count": 19,
      "metadata": {},
      "outputs": [
        {
          "name": "stderr",
          "output_type": "stream",
          "text": [
            "/anaconda/envs/azureml_py310_sdkv2/lib/python3.10/site-packages/tqdm/auto.py:21: TqdmWarning: IProgress not found. Please update jupyter and ipywidgets. See https://ipywidgets.readthedocs.io/en/stable/user_install.html\n",
            "  from .autonotebook import tqdm as notebook_tqdm\n",
            "[I 2025-01-26 15:37:22,448] A new study created in memory with name: no-name-be0b4114-f1c5-4f99-866b-c48f2d03338e\n",
            "[I 2025-01-26 15:37:22,462] Trial 0 finished with value: 864.0 and parameters: {'C': 3.2049537426017163, 'gamma': 3.548042957309798}. Best is trial 0 with value: 864.0.\n",
            "[I 2025-01-26 15:37:22,480] Trial 1 finished with value: 864.0 and parameters: {'C': 7.340186873255617, 'gamma': 5.467099798487863}. Best is trial 0 with value: 864.0.\n",
            "[I 2025-01-26 15:37:22,494] Trial 2 finished with value: 864.0 and parameters: {'C': 5.2166780670250334, 'gamma': 5.146957626368195}. Best is trial 0 with value: 864.0.\n",
            "[I 2025-01-26 15:37:22,508] Trial 3 finished with value: 864.0 and parameters: {'C': 5.748669116559619, 'gamma': 9.080964326244638}. Best is trial 0 with value: 864.0.\n",
            "[I 2025-01-26 15:37:22,521] Trial 4 finished with value: 192512.0 and parameters: {'C': 6.013435965969065, 'gamma': 0.6686395479483174}. Best is trial 4 with value: 192512.0.\n",
            "[I 2025-01-26 15:37:22,538] Trial 5 finished with value: 864.0 and parameters: {'C': 2.501475385593326, 'gamma': 6.805099466672539}. Best is trial 4 with value: 192512.0.\n",
            "[I 2025-01-26 15:37:22,551] Trial 6 finished with value: 864.0 and parameters: {'C': 2.1034573412443427, 'gamma': 5.307232674314148}. Best is trial 4 with value: 192512.0.\n",
            "[I 2025-01-26 15:37:22,565] Trial 7 finished with value: 864.0 and parameters: {'C': 1.1145879909224414, 'gamma': 9.692757257320988}. Best is trial 4 with value: 192512.0.\n",
            "[I 2025-01-26 15:37:22,577] Trial 8 finished with value: 4687500.0 and parameters: {'C': 0.2099726019293613, 'gamma': 0.7158538261884276}. Best is trial 8 with value: 4687500.0.\n",
            "[I 2025-01-26 15:37:22,589] Trial 9 finished with value: 2075625.0 and parameters: {'C': 0.6679628686628274, 'gamma': 0.2842837420867771}. Best is trial 8 with value: 4687500.0.\n",
            "[I 2025-01-26 15:37:22,612] Trial 10 finished with value: 864.0 and parameters: {'C': 9.47297009373246, 'gamma': 2.488989057653291}. Best is trial 8 with value: 4687500.0.\n",
            "[I 2025-01-26 15:37:22,636] Trial 11 finished with value: 4667544.0 and parameters: {'C': 0.20682791071130302, 'gamma': 0.48815527782916757}. Best is trial 8 with value: 4687500.0.\n",
            "[I 2025-01-26 15:37:22,660] Trial 12 finished with value: 0.0 and parameters: {'C': 0.18108714204714982, 'gamma': 2.2526946146332465}. Best is trial 8 with value: 4687500.0.\n",
            "[I 2025-01-26 15:37:22,681] Trial 13 finished with value: 864.0 and parameters: {'C': 3.9567174227006814, 'gamma': 1.8165296584109427}. Best is trial 8 with value: 4687500.0.\n",
            "[I 2025-01-26 15:37:22,704] Trial 14 finished with value: 864.0 and parameters: {'C': 1.7061622949608362, 'gamma': 3.4951323311516953}. Best is trial 8 with value: 4687500.0.\n",
            "[I 2025-01-26 15:37:22,727] Trial 15 finished with value: 848.0 and parameters: {'C': 3.739363938052927, 'gamma': 1.0751118858185655}. Best is trial 8 with value: 4687500.0.\n",
            "[I 2025-01-26 15:37:22,756] Trial 16 finished with value: 864.0 and parameters: {'C': 0.5776804044627628, 'gamma': 3.8041466996048023}. Best is trial 8 with value: 4687500.0.\n",
            "[I 2025-01-26 15:37:22,780] Trial 17 finished with value: 1199562.0 and parameters: {'C': 7.8327316075146305, 'gamma': 0.11522346904567904}. Best is trial 8 with value: 4687500.0.\n",
            "[I 2025-01-26 15:37:22,805] Trial 18 finished with value: 864.0 and parameters: {'C': 2.8831617169467787, 'gamma': 6.6799372682847}. Best is trial 8 with value: 4687500.0.\n",
            "[I 2025-01-26 15:37:22,828] Trial 19 finished with value: 864.0 and parameters: {'C': 1.5420907421205894, 'gamma': 1.2717693091847169}. Best is trial 8 with value: 4687500.0.\n",
            "[I 2025-01-26 15:37:22,860] Trial 20 finished with value: 2215457.0 and parameters: {'C': 0.3651348311757667, 'gamma': 2.8860279492485574}. Best is trial 8 with value: 4687500.0.\n",
            "[I 2025-01-26 15:37:22,885] Trial 21 finished with value: 3125000.0 and parameters: {'C': 0.27946314551656626, 'gamma': 2.9556883640656926}. Best is trial 8 with value: 4687500.0.\n",
            "[I 2025-01-26 15:37:22,908] Trial 22 finished with value: 864.0 and parameters: {'C': 1.4942805247620172, 'gamma': 1.4627285066178821}. Best is trial 8 with value: 4687500.0.\n",
            "[I 2025-01-26 15:37:22,934] Trial 23 finished with value: 0.0 and parameters: {'C': 0.20638260426137894, 'gamma': 4.231227347114068}. Best is trial 8 with value: 4687500.0.\n",
            "[I 2025-01-26 15:37:22,959] Trial 24 finished with value: 864.0 and parameters: {'C': 4.11224861756445, 'gamma': 2.706055516060157}. Best is trial 8 with value: 4687500.0.\n",
            "[I 2025-01-26 15:37:22,984] Trial 25 finished with value: 864.0 and parameters: {'C': 1.172841048234208, 'gamma': 2.0042903748997922}. Best is trial 8 with value: 4687500.0.\n",
            "[I 2025-01-26 15:37:23,008] Trial 26 finished with value: 4293.0 and parameters: {'C': 2.25044422473069, 'gamma': 0.9892880997333862}. Best is trial 8 with value: 4687500.0.\n",
            "[I 2025-01-26 15:37:23,035] Trial 27 finished with value: 864.0 and parameters: {'C': 0.9846079787156107, 'gamma': 4.413583078688071}. Best is trial 8 with value: 4687500.0.\n",
            "[I 2025-01-26 15:37:23,065] Trial 28 finished with value: 864.0 and parameters: {'C': 3.1414888788139397, 'gamma': 3.0128414597421855}. Best is trial 8 with value: 4687500.0.\n",
            "[I 2025-01-26 15:37:23,092] Trial 29 finished with value: 295245.0 and parameters: {'C': 1.9537409115202191, 'gamma': 0.4999048824809502}. Best is trial 8 with value: 4687500.0.\n",
            "[I 2025-01-26 15:37:23,116] Trial 30 finished with value: 864.0 and parameters: {'C': 4.669446930094267, 'gamma': 1.6824489581623636}. Best is trial 8 with value: 4687500.0.\n",
            "[I 2025-01-26 15:37:23,140] Trial 31 finished with value: 614656.0 and parameters: {'C': 0.23038383881993596, 'gamma': 2.727800456267248}. Best is trial 8 with value: 4687500.0.\n",
            "[I 2025-01-26 15:37:23,166] Trial 32 finished with value: 864.0 and parameters: {'C': 0.7865602174460105, 'gamma': 6.271869828970929}. Best is trial 8 with value: 4687500.0.\n",
            "[I 2025-01-26 15:37:23,194] Trial 33 finished with value: 0.0 and parameters: {'C': 0.18592604123884665, 'gamma': 3.4488268457739655}. Best is trial 8 with value: 4687500.0.\n",
            "[I 2025-01-26 15:37:23,220] Trial 34 finished with value: 864.0 and parameters: {'C': 1.4589078834274711, 'gamma': 4.487884867943318}. Best is trial 8 with value: 4687500.0.\n",
            "[I 2025-01-26 15:37:23,246] Trial 35 finished with value: 864.0 and parameters: {'C': 7.513889805819046, 'gamma': 5.8670854106420185}. Best is trial 8 with value: 4687500.0.\n",
            "[I 2025-01-26 15:37:23,271] Trial 36 finished with value: 864.0 and parameters: {'C': 6.491444137892513, 'gamma': 3.1165347442293836}. Best is trial 8 with value: 4687500.0.\n",
            "[I 2025-01-26 15:37:23,296] Trial 37 finished with value: 4293.0 and parameters: {'C': 0.8292740334664669, 'gamma': 0.9249342870535708}. Best is trial 8 with value: 4687500.0.\n",
            "[I 2025-01-26 15:37:23,322] Trial 38 finished with value: 864.0 and parameters: {'C': 2.6161750457073336, 'gamma': 7.210394477034056}. Best is trial 8 with value: 4687500.0.\n",
            "[I 2025-01-26 15:37:23,349] Trial 39 finished with value: 864.0 and parameters: {'C': 2.0709780976445735, 'gamma': 8.53001046035153}. Best is trial 8 with value: 4687500.0.\n",
            "[I 2025-01-26 15:37:23,375] Trial 40 finished with value: 864.0 and parameters: {'C': 8.480208604655196, 'gamma': 4.898805154937039}. Best is trial 8 with value: 4687500.0.\n",
            "[I 2025-01-26 15:37:23,404] Trial 41 finished with value: 2126250.0 and parameters: {'C': 0.6687249291523588, 'gamma': 0.2959135894539485}. Best is trial 8 with value: 4687500.0.\n",
            "[I 2025-01-26 15:37:23,428] Trial 42 finished with value: 1613472.0 and parameters: {'C': 0.5878143100081953, 'gamma': 0.5427447143887365}. Best is trial 8 with value: 4687500.0.\n",
            "[I 2025-01-26 15:37:23,452] Trial 43 finished with value: 3006756.0 and parameters: {'C': 1.2106376012563138, 'gamma': 0.11012114114879512}. Best is trial 8 with value: 4687500.0.\n",
            "[I 2025-01-26 15:37:23,476] Trial 44 finished with value: 864.0 and parameters: {'C': 1.1640951844450511, 'gamma': 2.088176482288711}. Best is trial 8 with value: 4687500.0.\n",
            "[I 2025-01-26 15:37:23,501] Trial 45 finished with value: 0.0 and parameters: {'C': 0.14792704597643072, 'gamma': 1.3375899271975367}. Best is trial 8 with value: 4687500.0.\n",
            "[I 2025-01-26 15:37:23,525] Trial 46 finished with value: 4131.0 and parameters: {'C': 1.2911059591445773, 'gamma': 0.845806965886531}. Best is trial 8 with value: 4687500.0.\n",
            "[I 2025-01-26 15:37:23,550] Trial 47 finished with value: 3257319.0 and parameters: {'C': 1.823992686570369, 'gamma': 0.13020903690194927}. Best is trial 8 with value: 4687500.0.\n",
            "[I 2025-01-26 15:37:23,606] Trial 48 finished with value: 115248.0 and parameters: {'C': 1.841907130527406, 'gamma': 0.7153249054744799}. Best is trial 8 with value: 4687500.0.\n",
            "[I 2025-01-26 15:37:23,685] Trial 49 finished with value: 1421392.0 and parameters: {'C': 5.912328359689086, 'gamma': 0.10736523637308437}. Best is trial 8 with value: 4687500.0.\n",
            "[I 2025-01-26 15:37:23,744] Trial 50 finished with value: 864.0 and parameters: {'C': 2.2992325573755403, 'gamma': 1.6543229826534835}. Best is trial 8 with value: 4687500.0.\n",
            "[I 2025-01-26 15:37:23,773] Trial 51 finished with value: 4293.0 and parameters: {'C': 0.4917311820647935, 'gamma': 1.2173842939082298}. Best is trial 8 with value: 4687500.0.\n",
            "[I 2025-01-26 15:37:23,799] Trial 52 finished with value: 864.0 and parameters: {'C': 1.0193211297282185, 'gamma': 2.4634649766392656}. Best is trial 8 with value: 4687500.0.\n",
            "[I 2025-01-26 15:37:23,822] Trial 53 finished with value: 308367.0 and parameters: {'C': 1.7129076656485314, 'gamma': 0.5718880677026402}. Best is trial 8 with value: 4687500.0.\n",
            "[I 2025-01-26 15:37:23,848] Trial 54 finished with value: 864.0 and parameters: {'C': 0.49736475714382533, 'gamma': 1.9383931361603106}. Best is trial 8 with value: 4687500.0.\n",
            "[I 2025-01-26 15:37:23,872] Trial 55 finished with value: 1690304.0 and parameters: {'C': 1.3684855283830117, 'gamma': 0.31706769015045433}. Best is trial 8 with value: 4687500.0.\n",
            "[I 2025-01-26 15:37:23,897] Trial 56 finished with value: 864.0 and parameters: {'C': 5.376238923310751, 'gamma': 3.776295199152194}. Best is trial 8 with value: 4687500.0.\n",
            "[I 2025-01-26 15:37:23,920] Trial 57 finished with value: 864.0 and parameters: {'C': 3.4579623025567785, 'gamma': 1.5094887987329626}. Best is trial 8 with value: 4687500.0.\n",
            "[I 2025-01-26 15:37:23,943] Trial 58 finished with value: 4293.0 and parameters: {'C': 2.6679864363907155, 'gamma': 0.9532098499549164}. Best is trial 8 with value: 4687500.0.\n",
            "[I 2025-01-26 15:37:23,968] Trial 59 finished with value: 864.0 and parameters: {'C': 0.8550458938778307, 'gamma': 2.2982864033428503}. Best is trial 8 with value: 4687500.0.\n",
            "[I 2025-01-26 15:37:23,992] Trial 60 finished with value: 0.0 and parameters: {'C': 0.11018360140665545, 'gamma': 0.6742219543859618}. Best is trial 8 with value: 4687500.0.\n",
            "[I 2025-01-26 15:37:24,015] Trial 61 finished with value: 3173798.0 and parameters: {'C': 0.5372419298651417, 'gamma': 0.11102003089882714}. Best is trial 8 with value: 4687500.0.\n",
            "[I 2025-01-26 15:37:24,038] Trial 62 finished with value: 2621440.0 and parameters: {'C': 0.3849963476744994, 'gamma': 0.21697415315645857}. Best is trial 8 with value: 4687500.0.\n",
            "[I 2025-01-26 15:37:24,062] Trial 63 finished with value: 2490368.0 and parameters: {'C': 1.1394412166091232, 'gamma': 0.1560154151865524}. Best is trial 8 with value: 4687500.0.\n",
            "[I 2025-01-26 15:37:24,091] Trial 64 finished with value: 4293.0 and parameters: {'C': 0.5145205864730074, 'gamma': 1.1354489981664608}. Best is trial 8 with value: 4687500.0.\n",
            "[I 2025-01-26 15:37:24,114] Trial 65 finished with value: 1613472.0 and parameters: {'C': 0.867014502032288, 'gamma': 0.4028941558303074}. Best is trial 8 with value: 4687500.0.\n",
            "[I 2025-01-26 15:37:24,137] Trial 66 finished with value: 62208.0 and parameters: {'C': 1.6803654233791883, 'gamma': 0.745261251734618}. Best is trial 8 with value: 4687500.0.\n",
            "[I 2025-01-26 15:37:24,159] Trial 67 finished with value: 1468125.0 and parameters: {'C': 0.37784541705872887, 'gamma': 1.3053225499243342}. Best is trial 8 with value: 4687500.0.\n",
            "[I 2025-01-26 15:37:24,185] Trial 68 finished with value: 420000.0 and parameters: {'C': 6.559461597694108, 'gamma': 0.35923638796069307}. Best is trial 8 with value: 4687500.0.\n",
            "[I 2025-01-26 15:37:24,208] Trial 69 finished with value: 4293.0 and parameters: {'C': 1.431455612631261, 'gamma': 0.9596425526885379}. Best is trial 8 with value: 4687500.0.\n",
            "[I 2025-01-26 15:37:24,231] Trial 70 finished with value: 301806.0 and parameters: {'C': 0.794412114872241, 'gamma': 0.6038726315607652}. Best is trial 8 with value: 4687500.0.\n",
            "[I 2025-01-26 15:37:24,253] Trial 71 finished with value: 2555904.0 and parameters: {'C': 1.1776253350427845, 'gamma': 0.17565130940918627}. Best is trial 8 with value: 4687500.0.\n",
            "[I 2025-01-26 15:37:24,275] Trial 72 finished with value: 3090277.0 and parameters: {'C': 0.9908516582755573, 'gamma': 0.10959946992114372}. Best is trial 8 with value: 4687500.0.\n",
            "[I 2025-01-26 15:37:24,299] Trial 73 finished with value: 5440000.0 and parameters: {'C': 0.10009984310586251, 'gamma': 0.1034771612842754}. Best is trial 73 with value: 5440000.0.\n",
            "[I 2025-01-26 15:37:24,321] Trial 74 finished with value: 864.0 and parameters: {'C': 4.435370293151515, 'gamma': 1.5555893261317983}. Best is trial 73 with value: 5440000.0.\n",
            "[I 2025-01-26 15:37:24,343] Trial 75 finished with value: 1229312.0 and parameters: {'C': 0.11318803469176282, 'gamma': 0.4891763530306062}. Best is trial 73 with value: 5440000.0.\n",
            "[I 2025-01-26 15:37:24,365] Trial 76 finished with value: 848.0 and parameters: {'C': 0.7318731700013499, 'gamma': 1.0963386092519838}. Best is trial 73 with value: 5440000.0.\n",
            "[I 2025-01-26 15:37:24,388] Trial 77 finished with value: 31250.0 and parameters: {'C': 1.5526443747764116, 'gamma': 0.7970569897784594}. Best is trial 73 with value: 5440000.0.\n",
            "[I 2025-01-26 15:37:24,411] Trial 78 finished with value: 864.0 and parameters: {'C': 9.864725439442184, 'gamma': 1.8791955388397406}. Best is trial 73 with value: 5440000.0.\n",
            "[I 2025-01-26 15:37:24,434] Trial 79 finished with value: 420000.0 and parameters: {'C': 2.0020177072290393, 'gamma': 0.4295706181595665}. Best is trial 73 with value: 5440000.0.\n",
            "[I 2025-01-26 15:37:24,461] Trial 80 finished with value: 3173798.0 and parameters: {'C': 1.015560951669174, 'gamma': 0.12253729095919227}. Best is trial 73 with value: 5440000.0.\n",
            "[I 2025-01-26 15:37:24,507] Trial 81 finished with value: 2555904.0 and parameters: {'C': 0.9440314119044734, 'gamma': 0.18224858702992558}. Best is trial 73 with value: 5440000.0.\n",
            "[I 2025-01-26 15:37:24,535] Trial 82 finished with value: 3090277.0 and parameters: {'C': 0.40097262739868916, 'gamma': 0.11059128075163753}. Best is trial 73 with value: 5440000.0.\n",
            "[I 2025-01-26 15:37:24,571] Trial 83 finished with value: 3257319.0 and parameters: {'C': 0.39359251137357987, 'gamma': 0.8046252670189927}. Best is trial 73 with value: 5440000.0.\n",
            "[I 2025-01-26 15:37:24,594] Trial 84 finished with value: 1651888.0 and parameters: {'C': 0.5444971614946348, 'gamma': 0.737579921708748}. Best is trial 73 with value: 5440000.0.\n",
            "[I 2025-01-26 15:37:24,617] Trial 85 finished with value: 864.0 and parameters: {'C': 0.6974710592958795, 'gamma': 1.1846831502770505}. Best is trial 73 with value: 5440000.0.\n",
            "[I 2025-01-26 15:37:24,643] Trial 86 finished with value: 3090277.0 and parameters: {'C': 0.29713733784590146, 'gamma': 0.47016536993402985}. Best is trial 73 with value: 5440000.0.\n",
            "[I 2025-01-26 15:37:24,666] Trial 87 finished with value: 864.0 and parameters: {'C': 1.0257666636290022, 'gamma': 1.4305206817051443}. Best is trial 73 with value: 5440000.0.\n",
            "[I 2025-01-26 15:37:24,689] Trial 88 finished with value: 864.0 and parameters: {'C': 0.700168919060577, 'gamma': 9.878173310647355}. Best is trial 73 with value: 5440000.0.\n",
            "[I 2025-01-26 15:37:24,713] Trial 89 finished with value: 4131.0 and parameters: {'C': 2.299662592346049, 'gamma': 0.884448014070883}. Best is trial 73 with value: 5440000.0.\n",
            "[I 2025-01-26 15:37:24,741] Trial 90 finished with value: 0.0 and parameters: {'C': 0.10505581233958311, 'gamma': 7.9868338452878}. Best is trial 73 with value: 5440000.0.\n",
            "[I 2025-01-26 15:37:24,765] Trial 91 finished with value: 2686976.0 and parameters: {'C': 0.42015449297579655, 'gamma': 0.596450187933569}. Best is trial 73 with value: 5440000.0.\n",
            "[I 2025-01-26 15:37:24,793] Trial 92 finished with value: 2621440.0 and parameters: {'C': 0.3596872459973411, 'gamma': 0.37848713031854825}. Best is trial 73 with value: 5440000.0.\n",
            "[I 2025-01-26 15:37:24,817] Trial 93 finished with value: 848.0 and parameters: {'C': 1.0104288488460296, 'gamma': 1.0502875701000112}. Best is trial 73 with value: 5440000.0.\n",
            "[I 2025-01-26 15:37:24,845] Trial 94 finished with value: 864.0 and parameters: {'C': 1.3054051688311583, 'gamma': 3.244557209552599}. Best is trial 73 with value: 5440000.0.\n",
            "[I 2025-01-26 15:37:24,875] Trial 95 finished with value: 460000.0 and parameters: {'C': 0.6379034309570486, 'gamma': 0.6838119754121387}. Best is trial 73 with value: 5440000.0.\n",
            "[I 2025-01-26 15:37:24,899] Trial 96 finished with value: 864.0 and parameters: {'C': 1.791143297267355, 'gamma': 5.018666502820739}. Best is trial 73 with value: 5440000.0.\n",
            "[I 2025-01-26 15:37:24,921] Trial 97 finished with value: 3884112.0 and parameters: {'C': 0.3378058311524473, 'gamma': 0.10715832898383473}. Best is trial 73 with value: 5440000.0.\n",
            "[I 2025-01-26 15:37:24,951] Trial 98 finished with value: 1613472.0 and parameters: {'C': 0.9283845850688771, 'gamma': 0.3452143412135318}. Best is trial 73 with value: 5440000.0.\n",
            "[I 2025-01-26 15:37:24,978] Trial 99 finished with value: 3695139.0 and parameters: {'C': 0.2991825708598176, 'gamma': 0.9661679213520913}. Best is trial 73 with value: 5440000.0.\n"
          ]
        }
      ],
      "source": [
        "import optuna\n",
        "import math\n",
        "\n",
        "def objective(trial):\n",
        "    C = trial.suggest_float(\"C\", 0.1, 10)\n",
        "    gamma = trial.suggest_float(\"gamma\", 0.1, 10)\n",
        "    model = SVC(class_weight={0:1, 1:3.8}, C=C, gamma=gamma).fit(X_train, y_train)\n",
        "    y_pred = model.predict(X_test)\n",
        "    tn, fp, fn, tp = confusion_matrix(y_test, y_pred).ravel()\n",
        "    return math.pow(tp, 4)*tn\n",
        "\n",
        "study = optuna.create_study(direction=\"maximize\")\n",
        "study.optimize(objective, n_trials=100)\n",
        "\n"
      ]
    },
    {
      "cell_type": "code",
      "execution_count": 24,
      "metadata": {},
      "outputs": [
        {
          "data": {
            "text/plain": [
              "{'C': 0.10009984310586251, 'gamma': 0.1034771612842754}"
            ]
          },
          "execution_count": 24,
          "metadata": {},
          "output_type": "execute_result"
        }
      ],
      "source": [
        "study.best_params"
      ]
    },
    {
      "cell_type": "code",
      "execution_count": 25,
      "metadata": {},
      "outputs": [
        {
          "name": "stderr",
          "output_type": "stream",
          "text": [
            "2025/01/26 16:19:42 INFO mlflow.tracking._tracking_service.client: 🏃 View run jolly_screw_7by96k9w at: https://francecentral.api.azureml.ms/mlflow/v2.0/subscriptions/f95df08c-a99c-462f-b65c-fe6151267601/resourceGroups/housing_prices/providers/Microsoft.MachineLearningServices/workspaces/mlw-housing_prices/#/experiments/85453ebe-e75a-4a14-aed7-f9c46f2c4f98/runs/bec4460c-0c40-4819-87b7-198721c0ecb5.\n",
            "2025/01/26 16:19:42 INFO mlflow.tracking._tracking_service.client: 🧪 View experiment at: https://francecentral.api.azureml.ms/mlflow/v2.0/subscriptions/f95df08c-a99c-462f-b65c-fe6151267601/resourceGroups/housing_prices/providers/Microsoft.MachineLearningServices/workspaces/mlw-housing_prices/#/experiments/85453ebe-e75a-4a14-aed7-f9c46f2c4f98.\n"
          ]
        },
        {
          "data": {
            "image/png": "[encoded data removed]",
            "text/plain": [
              "<Figure size 600x400 with 2 Axes>"
            ]
          },
          "metadata": {},
          "output_type": "display_data"
        }
      ],
      "source": [
        "with mlflow.start_run():\n",
        "    model = SVC(class_weight={0:1, 1:3.8}, **study.best_params).fit(X_train, y_train)\n",
        "\n",
        "    y_pred = model.predict(X_test)\n",
        "    acc = np.average(y_pred == y_test)\n",
        "    auc = roc_auc_score(y_test, y_pred)\n",
        "\n",
        "    mlflow.log_param(\"model\", \"svm_best\")\n",
        "    mlflow.log_metric(\"Accuracy\", acc)\n",
        "    mlflow.log_metric(\"ROC_AUC\", auc)\n",
        "    mlflow.log_params(study.best_params)\n",
        "\n",
        "    fig = plt.figure(figsize=(6, 4)) \n",
        "    sns.heatmap(confusion_matrix(y_test, y_pred, normalize='true'), annot=True, cmap=\"coolwarm\")\n",
        "    plt.xlabel('Predicted')\n",
        "    plt.ylabel('Actual')\n",
        "    plt.title('Confusion Matrix')\n",
        "    mlflow.log_figure(fig, \"confusion_matrix.png\")"
      ]
    },
    {
      "cell_type": "code",
      "execution_count": 23,
      "metadata": {
        "gather": {
          "logged": 1737339138912
        }
      },
      "outputs": [
        {
          "data": {
            "text/html": [
              "<div>\n",
              "<style scoped>\n",
              "    .dataframe tbody tr th:only-of-type {\n",
              "        vertical-align: middle;\n",
              "    }\n",
              "\n",
              "    .dataframe tbody tr th {\n",
              "        vertical-align: top;\n",
              "    }\n",
              "\n",
              "    .dataframe thead th {\n",
              "        text-align: right;\n",
              "    }\n",
              "</style>\n",
              "<table border=\"1\" class=\"dataframe\">\n",
              "  <thead>\n",
              "    <tr style=\"text-align: right;\">\n",
              "      <th></th>\n",
              "      <th>run_id</th>\n",
              "      <th>experiment_id</th>\n",
              "      <th>status</th>\n",
              "      <th>artifact_uri</th>\n",
              "      <th>start_time</th>\n",
              "      <th>end_time</th>\n",
              "      <th>metrics.ROC_AUC</th>\n",
              "      <th>metrics.Accuracy</th>\n",
              "      <th>params.model</th>\n",
              "      <th>params.gamma</th>\n",
              "      <th>params.C</th>\n",
              "      <th>tags.mlflow.user</th>\n",
              "      <th>tags.mlflow.runName</th>\n",
              "      <th>tags.mlflow.rootRunId</th>\n",
              "      <th>tags.mlflow.job</th>\n",
              "    </tr>\n",
              "  </thead>\n",
              "  <tbody>\n",
              "    <tr>\n",
              "      <th>4</th>\n",
              "      <td>2acf4fd9-9242-45bc-ba65-428ef741bada</td>\n",
              "      <td>85453ebe-e75a-4a14-aed7-f9c46f2c4f98</td>\n",
              "      <td>FINISHED</td>\n",
              "      <td></td>\n",
              "      <td>2025-01-26 15:38:18.989000+00:00</td>\n",
              "      <td>2025-01-26 15:38:21.120000+00:00</td>\n",
              "      <td>0.660714</td>\n",
              "      <td>0.642857</td>\n",
              "      <td>svm_best</td>\n",
              "      <td>0.1034771612842754</td>\n",
              "      <td>0.10009984310586251</td>\n",
              "      <td>Noam CHRETIENNOT</td>\n",
              "      <td>cyan_dinner_ztxqpkr3</td>\n",
              "      <td>2acf4fd9-9242-45bc-ba65-428ef741bada</td>\n",
              "      <td>None</td>\n",
              "    </tr>\n",
              "    <tr>\n",
              "      <th>3</th>\n",
              "      <td>53ac4ff5-f2f5-4ba2-b605-bfb8acc83553</td>\n",
              "      <td>85453ebe-e75a-4a14-aed7-f9c46f2c4f98</td>\n",
              "      <td>FINISHED</td>\n",
              "      <td></td>\n",
              "      <td>2025-01-26 15:37:35.826000+00:00</td>\n",
              "      <td>2025-01-26 15:37:38.007000+00:00</td>\n",
              "      <td>0.660714</td>\n",
              "      <td>0.642857</td>\n",
              "      <td>svm</td>\n",
              "      <td>0.1034771612842754</td>\n",
              "      <td>0.10009984310586251</td>\n",
              "      <td>Noam CHRETIENNOT</td>\n",
              "      <td>patient_muscle_j353vl0f</td>\n",
              "      <td>53ac4ff5-f2f5-4ba2-b605-bfb8acc83553</td>\n",
              "      <td>None</td>\n",
              "    </tr>\n",
              "    <tr>\n",
              "      <th>1</th>\n",
              "      <td>96e3f8ef-5b7d-405c-8e2b-df6d3e34e2c5</td>\n",
              "      <td>85453ebe-e75a-4a14-aed7-f9c46f2c4f98</td>\n",
              "      <td>FINISHED</td>\n",
              "      <td></td>\n",
              "      <td>2025-01-26 15:37:01.007000+00:00</td>\n",
              "      <td>2025-01-26 15:37:02.972000+00:00</td>\n",
              "      <td>0.642857</td>\n",
              "      <td>0.642857</td>\n",
              "      <td>svm</td>\n",
              "      <td>None</td>\n",
              "      <td>None</td>\n",
              "      <td>Noam CHRETIENNOT</td>\n",
              "      <td>upbeat_tiger_57mlchxw</td>\n",
              "      <td>96e3f8ef-5b7d-405c-8e2b-df6d3e34e2c5</td>\n",
              "      <td>SVM</td>\n",
              "    </tr>\n",
              "    <tr>\n",
              "      <th>2</th>\n",
              "      <td>a423c514-d612-46d2-a6c4-1fbb0bc77cdb</td>\n",
              "      <td>85453ebe-e75a-4a14-aed7-f9c46f2c4f98</td>\n",
              "      <td>FINISHED</td>\n",
              "      <td></td>\n",
              "      <td>2025-01-26 15:37:03.687000+00:00</td>\n",
              "      <td>2025-01-26 15:37:05.797000+00:00</td>\n",
              "      <td>0.598214</td>\n",
              "      <td>0.678571</td>\n",
              "      <td>random forest</td>\n",
              "      <td>None</td>\n",
              "      <td>None</td>\n",
              "      <td>Noam CHRETIENNOT</td>\n",
              "      <td>gentle_cherry_qwxwgxq3</td>\n",
              "      <td>a423c514-d612-46d2-a6c4-1fbb0bc77cdb</td>\n",
              "      <td>None</td>\n",
              "    </tr>\n",
              "    <tr>\n",
              "      <th>0</th>\n",
              "      <td>7d213c97-b6bf-4923-b0e8-6f68eb4847ac</td>\n",
              "      <td>85453ebe-e75a-4a14-aed7-f9c46f2c4f98</td>\n",
              "      <td>FINISHED</td>\n",
              "      <td></td>\n",
              "      <td>2025-01-26 15:36:57.140000+00:00</td>\n",
              "      <td>2025-01-26 15:36:58.943000+00:00</td>\n",
              "      <td>0.580357</td>\n",
              "      <td>0.476190</td>\n",
              "      <td>logistic regression base</td>\n",
              "      <td>None</td>\n",
              "      <td>None</td>\n",
              "      <td>Noam CHRETIENNOT</td>\n",
              "      <td>keen_stomach_wvvdc637</td>\n",
              "      <td>7d213c97-b6bf-4923-b0e8-6f68eb4847ac</td>\n",
              "      <td>None</td>\n",
              "    </tr>\n",
              "  </tbody>\n",
              "</table>\n",
              "</div>"
            ],
            "text/plain": [
              "                                 run_id                         experiment_id  \\\n",
              "4  2acf4fd9-9242-45bc-ba65-428ef741bada  85453ebe-e75a-4a14-aed7-f9c46f2c4f98   \n",
              "3  53ac4ff5-f2f5-4ba2-b605-bfb8acc83553  85453ebe-e75a-4a14-aed7-f9c46f2c4f98   \n",
              "1  96e3f8ef-5b7d-405c-8e2b-df6d3e34e2c5  85453ebe-e75a-4a14-aed7-f9c46f2c4f98   \n",
              "2  a423c514-d612-46d2-a6c4-1fbb0bc77cdb  85453ebe-e75a-4a14-aed7-f9c46f2c4f98   \n",
              "0  7d213c97-b6bf-4923-b0e8-6f68eb4847ac  85453ebe-e75a-4a14-aed7-f9c46f2c4f98   \n",
              "\n",
              "     status artifact_uri                       start_time  \\\n",
              "4  FINISHED              2025-01-26 15:38:18.989000+00:00   \n",
              "3  FINISHED              2025-01-26 15:37:35.826000+00:00   \n",
              "1  FINISHED              2025-01-26 15:37:01.007000+00:00   \n",
              "2  FINISHED              2025-01-26 15:37:03.687000+00:00   \n",
              "0  FINISHED              2025-01-26 15:36:57.140000+00:00   \n",
              "\n",
              "                          end_time  metrics.ROC_AUC  metrics.Accuracy  \\\n",
              "4 2025-01-26 15:38:21.120000+00:00         0.660714          0.642857   \n",
              "3 2025-01-26 15:37:38.007000+00:00         0.660714          0.642857   \n",
              "1 2025-01-26 15:37:02.972000+00:00         0.642857          0.642857   \n",
              "2 2025-01-26 15:37:05.797000+00:00         0.598214          0.678571   \n",
              "0 2025-01-26 15:36:58.943000+00:00         0.580357          0.476190   \n",
              "\n",
              "               params.model        params.gamma             params.C  \\\n",
              "4                  svm_best  0.1034771612842754  0.10009984310586251   \n",
              "3                       svm  0.1034771612842754  0.10009984310586251   \n",
              "1                       svm                None                 None   \n",
              "2             random forest                None                 None   \n",
              "0  logistic regression base                None                 None   \n",
              "\n",
              "   tags.mlflow.user      tags.mlflow.runName  \\\n",
              "4  Noam CHRETIENNOT     cyan_dinner_ztxqpkr3   \n",
              "3  Noam CHRETIENNOT  patient_muscle_j353vl0f   \n",
              "1  Noam CHRETIENNOT    upbeat_tiger_57mlchxw   \n",
              "2  Noam CHRETIENNOT   gentle_cherry_qwxwgxq3   \n",
              "0  Noam CHRETIENNOT    keen_stomach_wvvdc637   \n",
              "\n",
              "                  tags.mlflow.rootRunId tags.mlflow.job  \n",
              "4  2acf4fd9-9242-45bc-ba65-428ef741bada            None  \n",
              "3  53ac4ff5-f2f5-4ba2-b605-bfb8acc83553            None  \n",
              "1  96e3f8ef-5b7d-405c-8e2b-df6d3e34e2c5             SVM  \n",
              "2  a423c514-d612-46d2-a6c4-1fbb0bc77cdb            None  \n",
              "0  7d213c97-b6bf-4923-b0e8-6f68eb4847ac            None  "
            ]
          },
          "execution_count": 23,
          "metadata": {},
          "output_type": "execute_result"
        }
      ],
      "source": [
        "# Search for all runs\n",
        "runs = mlflow.search_runs()\n",
        "\n",
        "# order by \"metrics.Accuracy\"\n",
        "runs = runs.sort_values(by=[\"metrics.ROC_AUC\"], ascending=False)\n",
        "runs"
      ]
    },
    {
      "cell_type": "markdown",
      "metadata": {},
      "source": [
        "Hyper-parameter tuning is useless here"
      ]
    },
    {
      "cell_type": "markdown",
      "metadata": {},
      "source": [
        "# Create a pipeline to train the model"
      ]
    },
    {
      "cell_type": "code",
      "execution_count": 29,
      "metadata": {},
      "outputs": [],
      "source": [
        "from azure.ai.ml import Input\n",
        "from azure.ai.ml.constants import AssetTypes\n",
        "from azure.ai.ml.dsl import pipeline\n",
        "from azure.ai.ml import load_component\n",
        "parent_dir = \"\"\n",
        "\n",
        "clean_data = load_component(source=parent_dir + \"envs/clean-data.yml\")\n",
        "train_logistic_regression = load_component(source=parent_dir + \"envs/train-model.yml\")\n",
        "\n",
        "@pipeline()\n",
        "def cancer_classification(pipeline_job_input):\n",
        "    cleaned_data = clean_data(input_data=pipeline_job_input)\n",
        "    train_model = train_logistic_regression(training_data=cleaned_data.outputs.output_data)\n",
        "\n",
        "    return {\n",
        "        \"pipeline_job_transformed_data\": cleaned_data.outputs.output_data,\n",
        "        \"pipeline_job_trained_model\": train_model.outputs.model,\n",
        "    }\n",
        "\n",
        "pipeline_job = cancer_classification(Input(type=AssetTypes.URI_FILE, path=\"azureml:cancer-data:1\"))"
      ]
    },
    {
      "cell_type": "code",
      "execution_count": 30,
      "metadata": {},
      "outputs": [
        {
          "name": "stdout",
          "output_type": "stream",
          "text": [
            "display_name: cancer_classification\n",
            "type: pipeline\n",
            "inputs:\n",
            "  pipeline_job_input:\n",
            "    type: uri_file\n",
            "    path: azureml:cancer-data:1\n",
            "outputs:\n",
            "  pipeline_job_transformed_data:\n",
            "    mode: upload\n",
            "    type: uri_folder\n",
            "  pipeline_job_trained_model:\n",
            "    mode: upload\n",
            "    type: mlflow_model\n",
            "jobs:\n",
            "  cleaned_data:\n",
            "    type: command\n",
            "    inputs:\n",
            "      input_data:\n",
            "        path: ${{parent.inputs.pipeline_job_input}}\n",
            "    outputs:\n",
            "      output_data: ${{parent.outputs.pipeline_job_transformed_data}}\n",
            "    component:\n",
            "      $schema: https://azuremlschemas.azureedge.net/latest/commandComponent.schema.json\n",
            "      name: clean_data\n",
            "      version: '1'\n",
            "      display_name: clean training data\n",
            "      type: command\n",
            "      inputs:\n",
            "        input_data:\n",
            "          type: uri_file\n",
            "      outputs:\n",
            "        output_data:\n",
            "          type: uri_folder\n",
            "      command: python clean-data.py  --input_data ${{inputs.input_data}} --output_data\n",
            "        ${{outputs.output_data}}\n",
            "      environment: azureml:AzureML-sklearn-0.24-ubuntu18.04-py37-cpu@latest\n",
            "      code: /mnt/batch/tasks/shared/LS_root/mounts/clusters/ci-housing-all/code/Users/noam.chretiennot/cloud-DP100-project/src\n",
            "      is_deterministic: true\n",
            "  train_model:\n",
            "    type: command\n",
            "    inputs:\n",
            "      training_data:\n",
            "        path: ${{parent.jobs.cleaned_data.outputs.output_data}}\n",
            "    outputs:\n",
            "      model: ${{parent.outputs.pipeline_job_trained_model}}\n",
            "    component:\n",
            "      $schema: https://azuremlschemas.azureedge.net/latest/commandComponent.schema.json\n",
            "      name: train_model\n",
            "      version: '1'\n",
            "      display_name: Train a SVM model\n",
            "      type: command\n",
            "      inputs:\n",
            "        training_data:\n",
            "          type: uri_folder\n",
            "        recurrence_weight:\n",
            "          type: number\n",
            "          default: '3.8'\n",
            "        c:\n",
            "          type: number\n",
            "          default: '0.1'\n",
            "        gamma:\n",
            "          type: number\n",
            "          default: '0.1035'\n",
            "      outputs:\n",
            "        model:\n",
            "          type: mlflow_model\n",
            "      command: python train-model.py  --training_data ${{inputs.training_data}}  --recurrence_weight\n",
            "        ${{inputs.recurrence_weight}}  --c ${{inputs.c}}  --gamma ${{inputs.gamma}}  --model\n",
            "        ${{outputs.model}}\n",
            "      environment: azureml:AzureML-sklearn-0.24-ubuntu18.04-py37-cpu@latest\n",
            "      code: /mnt/batch/tasks/shared/LS_root/mounts/clusters/ci-housing-all/code/Users/noam.chretiennot/cloud-DP100-project/src\n",
            "      is_deterministic: true\n",
            "settings:\n",
            "  default_datastore: azureml:workspaceblobstore\n",
            "  default_compute: azureml:aml-cluster\n",
            "\n"
          ]
        }
      ],
      "source": [
        "# change the output mode\n",
        "pipeline_job.outputs.pipeline_job_transformed_data.mode = \"upload\"\n",
        "pipeline_job.outputs.pipeline_job_trained_model.mode = \"upload\"\n",
        "# set pipeline level compute\n",
        "pipeline_job.settings.default_compute = \"aml-cluster\"\n",
        "# set pipeline level datastore\n",
        "pipeline_job.settings.default_datastore = \"workspaceblobstore\"\n",
        "\n",
        "# print the pipeline job again to review the changes\n",
        "print(pipeline_job)"
      ]
    },
    {
      "cell_type": "code",
      "execution_count": 31,
      "metadata": {},
      "outputs": [
        {
          "name": "stderr",
          "output_type": "stream",
          "text": [
            "\u001b[32mUploading src (0.01 MBs): 100%|█████████████████████████████████████████████████████████████████████████████████████████████████████████████████████████████████████████████████████████████████████████████████████████████████████████████████████████████████████████████████████████████████████████████████████████████████████████████████████████████████████████████████████████████████████████████████████████████████████████████████████████████████████████████████████████████████████████████████████████████████████████████████████████████████████████████████████████████████████████████████████████████████████████████████████████████████████████████████████████████████████████████████████████████████████████████████████████████████████████████████████████████████████████████████████████████████████████████████████████████████████████████████████████████████████████████████████████████████████████████████████████████████████████████████████████████████| 5587/5587 [00:00<00:00, 67416.71it/s]\u001b[0m\n",
            "\u001b[39m\n",
            "\n",
            "pathOnCompute is not a known attribute of class <class 'azure.ai.ml._restclient.v2023_04_01_preview.models._models_py3.UriFolderJobOutput'> and will be ignored\n",
            "pathOnCompute is not a known attribute of class <class 'azure.ai.ml._restclient.v2023_04_01_preview.models._models_py3.MLFlowModelJobOutput'> and will be ignored\n"
          ]
        },
        {
          "data": {
            "text/html": [
              "<table style=\"width:100%\"><tr><th>Experiment</th><th>Name</th><th>Type</th><th>Status</th><th>Details Page</th></tr><tr><td>pipeline_cancer</td><td>placid_wolf_4t2dtk4g0d</td><td>pipeline</td><td>NotStarted</td><td><a href=\"https://ml.azure.com/runs/placid_wolf_4t2dtk4g0d?wsid=/subscriptions/f95df08c-a99c-462f-b65c-fe6151267601/resourcegroups/housing_prices/workspaces/mlw-housing_prices&amp;tid=413600cf-bd4e-4c7c-8a61-69e73cddf731\" target=\"_blank\" rel=\"noopener\">Link to Azure Machine Learning studio</a></td></tr></table>"
            ],
            "text/plain": [
              "PipelineJob({'inputs': {'pipeline_job_input': <azure.ai.ml.entities._job.pipeline._io.base.PipelineInput object at 0x7f55b0427c10>}, 'outputs': {'pipeline_job_transformed_data': <azure.ai.ml.entities._job.pipeline._io.base.PipelineOutput object at 0x7f55b0427d00>, 'pipeline_job_trained_model': <azure.ai.ml.entities._job.pipeline._io.base.PipelineOutput object at 0x7f55b04276a0>}, 'jobs': {}, 'component': PipelineComponent({'latest_version': None, 'intellectual_property': None, 'auto_increment_version': False, 'source': 'REMOTE.WORKSPACE.JOB', 'is_anonymous': True, 'auto_delete_setting': None, 'name': 'azureml_anonymous', 'description': None, 'tags': {}, 'properties': {}, 'print_as_yaml': False, 'id': None, 'Resource__source_path': None, 'base_path': '/mnt/batch/tasks/shared/LS_root/mounts/clusters/ci-housing-all/code/Users/noam.chretiennot/cloud-DP100-project', 'creation_context': None, 'serialize': <msrest.serialization.Serializer object at 0x7f55b0424dc0>, 'version': '1', 'schema': None, 'type': 'pipeline', 'display_name': 'cancer_classification', 'is_deterministic': None, 'inputs': {'pipeline_job_input': {}}, 'outputs': {'pipeline_job_transformed_data': {}, 'pipeline_job_trained_model': {}}, 'yaml_str': None, 'other_parameter': {}, 'jobs': {'cleaned_data': Command({'parameters': {}, 'init': False, 'name': 'cleaned_data', 'type': 'command', 'status': None, 'log_files': None, 'description': None, 'tags': {}, 'properties': {}, 'print_as_yaml': False, 'id': None, 'Resource__source_path': '', 'base_path': '/mnt/batch/tasks/shared/LS_root/mounts/clusters/ci-housing-all/code/Users/noam.chretiennot/cloud-DP100-project', 'creation_context': None, 'serialize': <msrest.serialization.Serializer object at 0x7f55b0426bc0>, 'allowed_keys': {}, 'key_restriction': False, 'logger': <TraceLogger attr_dict (WARNING)>, 'display_name': None, 'experiment_name': None, 'compute': None, 'services': None, 'comment': None, 'job_inputs': {'input_data': '${{parent.inputs.pipeline_job_input}}'}, 'job_outputs': {'output_data': '${{parent.outputs.pipeline_job_transformed_data}}'}, 'inputs': {'input_data': <azure.ai.ml.entities._job.pipeline._io.base.NodeInput object at 0x7f55b04242e0>}, 'outputs': {'output_data': <azure.ai.ml.entities._job.pipeline._io.base.NodeOutput object at 0x7f55b0427910>}, 'component': 'azureml_anonymous:e5569623-8424-42eb-a841-6ff671bf8e8d', 'referenced_control_flow_node_instance_id': None, 'kwargs': {'services': None}, 'instance_id': 'f5d81eae-7ecf-43f6-b5fb-8e9581b2ed7c', 'source': 'YAML.COMPONENT', 'validate_required_input_not_provided': True, 'limits': None, 'identity': None, 'distribution': None, 'environment_variables': {}, 'environment': None, 'resources': None, 'queue_settings': None, 'swept': False}), 'train_model': Command({'parameters': {}, 'init': False, 'name': 'train_model', 'type': 'command', 'status': None, 'log_files': None, 'description': None, 'tags': {}, 'properties': {}, 'print_as_yaml': False, 'id': None, 'Resource__source_path': '', 'base_path': '/mnt/batch/tasks/shared/LS_root/mounts/clusters/ci-housing-all/code/Users/noam.chretiennot/cloud-DP100-project', 'creation_context': None, 'serialize': <msrest.serialization.Serializer object at 0x7f55b0424310>, 'allowed_keys': {}, 'key_restriction': False, 'logger': <TraceLogger attr_dict (WARNING)>, 'display_name': None, 'experiment_name': None, 'compute': None, 'services': None, 'comment': None, 'job_inputs': {'training_data': '${{parent.jobs.cleaned_data.outputs.output_data}}'}, 'job_outputs': {'model': '${{parent.outputs.pipeline_job_trained_model}}'}, 'inputs': {'training_data': <azure.ai.ml.entities._job.pipeline._io.base.NodeInput object at 0x7f55b0426d10>}, 'outputs': {'model': <azure.ai.ml.entities._job.pipeline._io.base.NodeOutput object at 0x7f55b04279d0>}, 'component': 'azureml_anonymous:510885df-3d4e-4af8-8283-1a3677f754c9', 'referenced_control_flow_node_instance_id': None, 'kwargs': {'services': None}, 'instance_id': '79e76533-9097-48b4-8de6-96095c731ffb', 'source': 'YAML.COMPONENT', 'validate_required_input_not_provided': True, 'limits': None, 'identity': None, 'distribution': None, 'environment_variables': {}, 'environment': None, 'resources': None, 'queue_settings': None, 'swept': False})}, 'job_types': {'command': 2}, 'job_sources': {'YAML.COMPONENT': 2}, 'source_job_id': None}), 'type': 'pipeline', 'status': 'NotStarted', 'log_files': None, 'name': 'placid_wolf_4t2dtk4g0d', 'description': None, 'tags': {}, 'properties': {}, 'print_as_yaml': False, 'id': '/subscriptions/f95df08c-a99c-462f-b65c-fe6151267601/resourceGroups/housing_prices/providers/Microsoft.MachineLearningServices/workspaces/mlw-housing_prices/jobs/placid_wolf_4t2dtk4g0d', 'Resource__source_path': '', 'base_path': '/mnt/batch/tasks/shared/LS_root/mounts/clusters/ci-housing-all/code/Users/noam.chretiennot/cloud-DP100-project', 'creation_context': <azure.ai.ml.entities._system_data.SystemData object at 0x7f55b0426f20>, 'serialize': <msrest.serialization.Serializer object at 0x7f55b055dd20>, 'display_name': 'cancer_classification', 'experiment_name': 'pipeline_cancer', 'compute': None, 'services': {'Tracking': {'endpoint': 'azureml://francecentral.api.azureml.ms/mlflow/v1.0/subscriptions/f95df08c-a99c-462f-b65c-fe6151267601/resourceGroups/housing_prices/providers/Microsoft.MachineLearningServices/workspaces/mlw-housing_prices?', 'type': 'Tracking'}, 'Studio': {'endpoint': 'https://ml.azure.com/runs/placid_wolf_4t2dtk4g0d?wsid=/subscriptions/f95df08c-a99c-462f-b65c-fe6151267601/resourcegroups/housing_prices/workspaces/mlw-housing_prices&tid=413600cf-bd4e-4c7c-8a61-69e73cddf731', 'type': 'Studio'}}, 'settings': {}, 'identity': None, 'default_code': None, 'default_environment': None})"
            ]
          },
          "execution_count": 31,
          "metadata": {},
          "output_type": "execute_result"
        }
      ],
      "source": [
        "# submit job to workspace\n",
        "pipeline_job = ml_client.jobs.create_or_update(\n",
        "    pipeline_job, experiment_name=\"pipeline_cancer\"\n",
        ")\n",
        "pipeline_job\n",
        "# you can find the output in "
      ]
    },
    {
      "cell_type": "code",
      "execution_count": 33,
      "metadata": {},
      "outputs": [
        {
          "name": "stdout",
          "output_type": "stream",
          "text": [
            "Monitor your job at https://ml.azure.com/runs/placid_wolf_4t2dtk4g0d?wsid=/subscriptions/f95df08c-a99c-462f-b65c-fe6151267601/resourcegroups/housing_prices/workspaces/mlw-housing_prices&tid=413600cf-bd4e-4c7c-8a61-69e73cddf731\n"
          ]
        }
      ],
      "source": [
        "aml_url = pipeline_job.studio_url\n",
        "print(\"Monitor your job at\", aml_url)"
      ]
    },
    {
      "cell_type": "markdown",
      "metadata": {},
      "source": [
        "# Deploy the models to endpoint"
      ]
    },
    {
      "cell_type": "code",
      "execution_count": 35,
      "metadata": {},
      "outputs": [],
      "source": [
        "from azure.ai.ml.entities import ManagedOnlineEndpoint\n",
        "\n",
        "online_endpoint_name = \"endpoint-cancer\"\n",
        "\n",
        "endpoint = ManagedOnlineEndpoint(\n",
        "    name=online_endpoint_name,\n",
        "    description=\"Online endpoint for MLflow cancer model\",\n",
        "    auth_mode=\"key\",\n",
        ")"
      ]
    },
    {
      "cell_type": "code",
      "execution_count": 36,
      "metadata": {},
      "outputs": [
        {
          "data": {
            "text/plain": [
              "ManagedOnlineEndpoint({'public_network_access': 'Enabled', 'provisioning_state': 'Succeeded', 'scoring_uri': 'https://endpoint-cancer.francecentral.inference.ml.azure.com/score', 'openapi_uri': 'https://endpoint-cancer.francecentral.inference.ml.azure.com/swagger.json', 'name': 'endpoint-cancer', 'description': 'Online endpoint for MLflow cancer model', 'tags': {}, 'properties': {'createdBy': 'Noam CHRETIENNOT', 'createdAt': '2025-01-26T17:16:36.626414+0000', 'lastModifiedAt': '2025-01-26T17:16:36.626414+0000', 'azureml.onlineendpointid': '/subscriptions/f95df08c-a99c-462f-b65c-fe6151267601/resourcegroups/housing_prices/providers/microsoft.machinelearningservices/workspaces/mlw-housing_prices/onlineendpoints/endpoint-cancer', 'AzureAsyncOperationUri': 'https://management.azure.com/subscriptions/f95df08c-a99c-462f-b65c-fe6151267601/providers/Microsoft.MachineLearningServices/locations/francecentral/mfeOperationsStatus/oeidp:2eb94f47-70e0-4a00-8f8f-4ce625aea28f:0e2b522a-9db5-4f3e-b678-53d7dfda9aa7?api-version=2022-02-01-preview'}, 'print_as_yaml': False, 'id': '/subscriptions/f95df08c-a99c-462f-b65c-fe6151267601/resourceGroups/housing_prices/providers/Microsoft.MachineLearningServices/workspaces/mlw-housing_prices/onlineEndpoints/endpoint-cancer', 'Resource__source_path': '', 'base_path': '/mnt/batch/tasks/shared/LS_root/mounts/clusters/ci-housing-all/code/Users/noam.chretiennot/cloud-DP100-project', 'creation_context': None, 'serialize': <msrest.serialization.Serializer object at 0x7f55b055dc30>, 'auth_mode': 'key', 'location': 'francecentral', 'identity': <azure.ai.ml.entities._credentials.IdentityConfiguration object at 0x7f55af05b850>, 'traffic': {}, 'mirror_traffic': {}, 'kind': 'Managed'})"
            ]
          },
          "execution_count": 36,
          "metadata": {},
          "output_type": "execute_result"
        }
      ],
      "source": [
        "ml_client.begin_create_or_update(endpoint).result()"
      ]
    },
    {
      "cell_type": "code",
      "execution_count": 37,
      "metadata": {},
      "outputs": [],
      "source": [
        "from azure.ai.ml.entities import Model\n",
        "from azure.ai.ml.constants import AssetTypes\n",
        "\n",
        "job_name = pipeline_job.name\n",
        "\n",
        "model = Model(\n",
        "    path=f\"azureml://jobs/{job_name}/outputs/artifacts/paths/model/\",\n",
        "    name=\"mlflow-diabetes\",\n",
        "    description=\"Model created from run.\",\n",
        "    type=AssetTypes.MLFLOW_MODEL,\n",
        ")"
      ]
    },
    {
      "cell_type": "code",
      "execution_count": 38,
      "metadata": {},
      "outputs": [],
      "source": [
        "from azure.ai.ml.entities import Model\n",
        "from azure.ai.ml.constants import AssetTypes\n",
        "\n",
        "model = Model(\n",
        "    path=\"./model\",\n",
        "    type=AssetTypes.MLFLOW_MODEL,\n",
        "    description=\"my sample mlflow model\",\n",
        ")"
      ]
    },
    {
      "cell_type": "code",
      "execution_count": 39,
      "metadata": {},
      "outputs": [],
      "source": [
        "from azure.ai.ml.entities import ManagedOnlineDeployment\n",
        "\n",
        "blue_deployment = ManagedOnlineDeployment(\n",
        "    name=\"blue\",\n",
        "    endpoint_name=online_endpoint_name,\n",
        "    model=model,\n",
        "    instance_type=\"Standard_D2as_v4\",\n",
        "    instance_count=1,\n",
        ")"
      ]
    },
    {
      "cell_type": "code",
      "execution_count": 40,
      "metadata": {},
      "outputs": [
        {
          "name": "stderr",
          "output_type": "stream",
          "text": [
            "Check: endpoint endpoint-cancer exists\n"
          ]
        },
        {
          "name": "stdout",
          "output_type": "stream",
          "text": [
            "........................................................................"
          ]
        },
        {
          "data": {
            "text/plain": [
              "ManagedOnlineDeployment({'private_network_connection': None, 'package_model': False, 'provisioning_state': 'Succeeded', 'endpoint_name': 'endpoint-cancer', 'type': 'Managed', 'name': 'blue', 'description': None, 'tags': {}, 'properties': {'AzureAsyncOperationUri': 'https://management.azure.com/subscriptions/f95df08c-a99c-462f-b65c-fe6151267601/providers/Microsoft.MachineLearningServices/locations/francecentral/mfeOperationsStatus/odidp:2eb94f47-70e0-4a00-8f8f-4ce625aea28f:08b364d4-00bd-45ce-9528-24a2fae2146b?api-version=2023-04-01-preview'}, 'print_as_yaml': False, 'id': '/subscriptions/f95df08c-a99c-462f-b65c-fe6151267601/resourceGroups/housing_prices/providers/Microsoft.MachineLearningServices/workspaces/mlw-housing_prices/onlineEndpoints/endpoint-cancer/deployments/blue', 'Resource__source_path': '', 'base_path': '/mnt/batch/tasks/shared/LS_root/mounts/clusters/ci-housing-all/code/Users/noam.chretiennot/cloud-DP100-project', 'creation_context': <azure.ai.ml._restclient.v2023_04_01_preview.models._models_py3.SystemData object at 0x7f55af0bd810>, 'serialize': <msrest.serialization.Serializer object at 0x7f55b03a2ec0>, 'model': '/subscriptions/f95df08c-a99c-462f-b65c-fe6151267601/resourceGroups/housing_prices/providers/Microsoft.MachineLearningServices/workspaces/mlw-housing_prices/models/99322e99ead4075a9a00e4165d092bc5/versions/1', 'code_configuration': None, 'environment': '/subscriptions/f95df08c-a99c-462f-b65c-fe6151267601/resourceGroups/housing_prices/providers/Microsoft.MachineLearningServices/workspaces/mlw-housing_prices/environments/DefaultNcdEnv-mlflow-ubuntu20-04-py38-cpu-inference/versions/latest', 'environment_variables': {'MLFLOW_MODEL_FOLDER': 'model', 'AZUREML_EXTRA_CONDA_YAML_ABS_PATH': '/var/azureml-app/azureml-models/99322e99ead4075a9a00e4165d092bc5/1/model/conda.yaml', 'AZUREML_MODEL_DIR': '/var/azureml-app/azureml-models/99322e99ead4075a9a00e4165d092bc5/1'}, 'app_insights_enabled': False, 'scale_settings': <azure.ai.ml.entities._deployment.scale_settings.DefaultScaleSettings object at 0x7f55af058be0>, 'request_settings': <azure.ai.ml.entities._deployment.deployment_settings.OnlineRequestSettings object at 0x7f55af05b460>, 'liveness_probe': <azure.ai.ml.entities._deployment.deployment_settings.ProbeSettings object at 0x7f55b03a28c0>, 'readiness_probe': <azure.ai.ml.entities._deployment.deployment_settings.ProbeSettings object at 0x7f55b03a1db0>, 'instance_count': 1, 'arm_type': 'online_deployment', 'model_mount_path': None, 'instance_type': 'Standard_D2as_v4', 'data_collector': None, 'egress_public_network_access': 'Enabled'})"
            ]
          },
          "execution_count": 40,
          "metadata": {},
          "output_type": "execute_result"
        }
      ],
      "source": [
        "ml_client.online_deployments.begin_create_or_update(blue_deployment).result()"
      ]
    },
    {
      "cell_type": "code",
      "execution_count": 46,
      "metadata": {},
      "outputs": [
        {
          "data": {
            "text/plain": [
              "ManagedOnlineEndpoint({'public_network_access': 'Enabled', 'provisioning_state': 'Succeeded', 'scoring_uri': 'https://endpoint-cancer.francecentral.inference.ml.azure.com/score', 'openapi_uri': 'https://endpoint-cancer.francecentral.inference.ml.azure.com/swagger.json', 'name': 'endpoint-cancer', 'description': 'Online endpoint for MLflow cancer model', 'tags': {}, 'properties': {'createdBy': 'Noam CHRETIENNOT', 'createdAt': '2025-01-26T17:16:36.626414+0000', 'lastModifiedAt': '2025-01-26T17:27:34.742714+0000', 'azureml.onlineendpointid': '/subscriptions/f95df08c-a99c-462f-b65c-fe6151267601/resourcegroups/housing_prices/providers/microsoft.machinelearningservices/workspaces/mlw-housing_prices/onlineendpoints/endpoint-cancer', 'AzureAsyncOperationUri': 'https://management.azure.com/subscriptions/f95df08c-a99c-462f-b65c-fe6151267601/providers/Microsoft.MachineLearningServices/locations/francecentral/mfeOperationsStatus/oeidp:2eb94f47-70e0-4a00-8f8f-4ce625aea28f:44595a3e-798f-4072-a269-1006797af08d?api-version=2022-02-01-preview'}, 'print_as_yaml': False, 'id': '/subscriptions/f95df08c-a99c-462f-b65c-fe6151267601/resourceGroups/housing_prices/providers/Microsoft.MachineLearningServices/workspaces/mlw-housing_prices/onlineEndpoints/endpoint-cancer', 'Resource__source_path': '', 'base_path': '/mnt/batch/tasks/shared/LS_root/mounts/clusters/ci-housing-all/code/Users/noam.chretiennot/cloud-DP100-project', 'creation_context': None, 'serialize': <msrest.serialization.Serializer object at 0x7f55b03a3850>, 'auth_mode': 'key', 'location': 'francecentral', 'identity': <azure.ai.ml.entities._credentials.IdentityConfiguration object at 0x7f55b03a1de0>, 'traffic': {'blue': 100}, 'mirror_traffic': {}, 'kind': 'Managed'})"
            ]
          },
          "execution_count": 46,
          "metadata": {},
          "output_type": "execute_result"
        }
      ],
      "source": [
        "# blue deployment takes 100 traffic\n",
        "endpoint.traffic = {\"blue\": 100}\n",
        "ml_client.begin_create_or_update(endpoint).result()"
      ]
    },
    {
      "cell_type": "code",
      "execution_count": 41,
      "metadata": {},
      "outputs": [],
      "source": [
        "# Test the blue deployment with some sample data\n",
        "response = ml_client.online_endpoints.invoke(\n",
        "    endpoint_name=online_endpoint_name,\n",
        "    deployment_name=\"blue\",\n",
        "    request_file=\"sample-data.json\"\n",
        ")"
      ]
    },
    {
      "cell_type": "code",
      "execution_count": 42,
      "metadata": {},
      "outputs": [
        {
          "name": "stdout",
          "output_type": "stream",
          "text": [
            "No Recurrence\n"
          ]
        }
      ],
      "source": [
        "if response[1] =='1':\n",
        "    print(\"Recurrence\")\n",
        "else:\n",
        "    print(\"No Recurrence\")"
      ]
    },
    {
      "cell_type": "code",
      "execution_count": 43,
      "metadata": {},
      "outputs": [
        {
          "data": {
            "text/plain": [
              "'https://endpoint-cancer.francecentral.inference.ml.azure.com/score'"
            ]
          },
          "execution_count": 43,
          "metadata": {},
          "output_type": "execute_result"
        }
      ],
      "source": [
        "ml_client.online_endpoints.get(name=online_endpoint_name).scoring_uri"
      ]
    },
    {
      "cell_type": "code",
      "execution_count": 47,
      "metadata": {},
      "outputs": [],
      "source": [
        "DATA_PLANE_TOKEN = ml_client.online_endpoints.get_keys(name=online_endpoint_name).primary_key\n",
        "with open(\".env\", \"w\") as f:\n",
        "    f.write(f\"API_KEY={DATA_PLANE_TOKEN}\\n\")"
      ]
    },
    {
      "cell_type": "code",
      "execution_count": null,
      "metadata": {},
      "outputs": [],
      "source": [
        "endpoints = ml_client.online_endpoints.list()\n",
        "for endp in endpoints:\n",
        "    print(endp.name)"
      ]
    },
    {
      "cell_type": "code",
      "execution_count": null,
      "metadata": {},
      "outputs": [],
      "source": [
        "# Get the details for online endpoint\n",
        "endpoint = ml_client.online_endpoints.get(name=online_endpoint_name)\n",
        "\n",
        "# existing traffic details\n",
        "print(endpoint.traffic)\n",
        "\n",
        "# Get the scoring URI\n",
        "print(endpoint.scoring_uri)"
      ]
    },
    {
      "cell_type": "code",
      "execution_count": null,
      "metadata": {},
      "outputs": [],
      "source": [
        "# ml_client.online_endpoints.begin_delete(name=online_endpoint_name)"
      ]
    }
  ],
  "metadata": {
    "kernel_info": {
      "name": "python310-sdkv2"
    },
    "kernelspec": {
      "display_name": "azureml_py310_sdkv2",
      "language": "python",
      "name": "python3"
    },
    "language_info": {
      "codemirror_mode": {
        "name": "ipython",
        "version": 3
      },
      "file_extension": ".py",
      "mimetype": "text/x-python",
      "name": "python",
      "nbconvert_exporter": "python",
      "pygments_lexer": "ipython3",
      "version": "3.10.14"
    },
    "microsoft": {
      "host": {
        "AzureML": {
          "notebookHasBeenCompleted": true
        }
      },
      "ms_spell_check": {
        "ms_spell_check_language": "en"
      }
    },
    "nteract": {
      "version": "nteract-front-end@1.0.0"
    }
  },
  "nbformat": 4,
  "nbformat_minor": 2
}
